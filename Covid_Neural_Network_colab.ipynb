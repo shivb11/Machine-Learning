{
  "nbformat": 4,
  "nbformat_minor": 0,
  "metadata": {
    "colab": {
      "name": "Covid Neural Network.ipynb",
      "provenance": [],
      "collapsed_sections": [
        "Y6E9pSXONWyM"
      ],
      "toc_visible": true
    },
    "kernelspec": {
      "display_name": "Python 3",
      "language": "python",
      "name": "python3"
    },
    "language_info": {
      "codemirror_mode": {
        "name": "ipython",
        "version": 3
      },
      "file_extension": ".py",
      "mimetype": "text/x-python",
      "name": "python",
      "nbconvert_exporter": "python",
      "pygments_lexer": "ipython3",
      "version": "3.8.5"
    }
  },
  "cells": [
    {
      "cell_type": "code",
      "metadata": {
        "id": "HpThgOJ5Ds-4"
      },
      "source": [
        "import numpy as np\n",
        "import pandas as pd\n",
        "import matplotlib.pyplot as plt\n",
        "import sklearn\n",
        "import seaborn as sns\n",
        "from collections import defaultdict\n",
        "from sklearn.model_selection import train_test_split\n",
        "from sklearn import preprocessing\n",
        "le = preprocessing.LabelEncoder()\n",
        "\n",
        "\n"
      ],
      "execution_count": 3,
      "outputs": []
    },
    {
      "cell_type": "code",
      "metadata": {
        "id": "DCZCj3f0Ds-7"
      },
      "source": [
        "df = pd.read_csv('COVID_dataset.csv')"
      ],
      "execution_count": 4,
      "outputs": []
    },
    {
      "cell_type": "markdown",
      "metadata": {
        "id": "mMsr7inLDs-8"
      },
      "source": [
        "# Data Cleaning"
      ]
    },
    {
      "cell_type": "code",
      "metadata": {
        "colab": {
          "base_uri": "https://localhost:8080/"
        },
        "id": "vrzuPVgxDs-8",
        "scrolled": true,
        "outputId": "c222925f-850b-40c4-e483-fe60e985f89a"
      },
      "source": [
        "df.dtypes"
      ],
      "execution_count": 5,
      "outputs": [
        {
          "output_type": "execute_result",
          "data": {
            "text/plain": [
              "Accurate_Episode_Date       object\n",
              "Case_Reported_Date          object\n",
              "Test_Reported_Date          object\n",
              "Specimen_Date               object\n",
              "Age_Group                   object\n",
              "Client_Gender               object\n",
              "Case_AcquisitionInfo        object\n",
              "Reporting_PHU_City          object\n",
              "Outbreak_Related            object\n",
              "Reporting_PHU_Latitude     float64\n",
              "Reporting_PHU_Longitude    float64\n",
              "Outcome1                    object\n",
              "dtype: object"
            ]
          },
          "metadata": {
            "tags": []
          },
          "execution_count": 5
        }
      ]
    },
    {
      "cell_type": "code",
      "metadata": {
        "colab": {
          "base_uri": "https://localhost:8080/"
        },
        "id": "4-ozc98y4QDR",
        "outputId": "ca099602-1d4f-447f-c307-0ac1c80b9534"
      },
      "source": [
        "df.Specimen_Date.isnull().sum()"
      ],
      "execution_count": 6,
      "outputs": [
        {
          "output_type": "execute_result",
          "data": {
            "text/plain": [
              "122"
            ]
          },
          "metadata": {
            "tags": []
          },
          "execution_count": 6
        }
      ]
    },
    {
      "cell_type": "code",
      "metadata": {
        "colab": {
          "base_uri": "https://localhost:8080/"
        },
        "id": "EHDizXYG93tz",
        "outputId": "74a7a1c5-f100-4e74-dfef-6ae4697e6c83"
      },
      "source": [
        "df.Test_Reported_Date.isnull().sum()"
      ],
      "execution_count": 7,
      "outputs": [
        {
          "output_type": "execute_result",
          "data": {
            "text/plain": [
              "203"
            ]
          },
          "metadata": {
            "tags": []
          },
          "execution_count": 7
        }
      ]
    },
    {
      "cell_type": "code",
      "metadata": {
        "colab": {
          "base_uri": "https://localhost:8080/"
        },
        "id": "ohdbNo5p98LZ",
        "outputId": "5e9a7646-7671-4f26-8b3a-aac428b8d9a6"
      },
      "source": [
        "df.Case_Reported_Date.isnull().sum()\n"
      ],
      "execution_count": 8,
      "outputs": [
        {
          "output_type": "execute_result",
          "data": {
            "text/plain": [
              "0"
            ]
          },
          "metadata": {
            "tags": []
          },
          "execution_count": 8
        }
      ]
    },
    {
      "cell_type": "code",
      "metadata": {
        "colab": {
          "base_uri": "https://localhost:8080/"
        },
        "id": "EYHMnSct9_PC",
        "outputId": "587a45de-475b-487a-9829-aa2996e589da"
      },
      "source": [
        "df.Accurate_Episode_Date.isnull().sum()\n"
      ],
      "execution_count": 9,
      "outputs": [
        {
          "output_type": "execute_result",
          "data": {
            "text/plain": [
              "0"
            ]
          },
          "metadata": {
            "tags": []
          },
          "execution_count": 9
        }
      ]
    },
    {
      "cell_type": "code",
      "metadata": {
        "id": "Qxj16_dxG8qE"
      },
      "source": [
        "import datetime as dt\n",
        "def excel_date(date1):\n",
        "    temp = dt.datetime(1899, 12, 30)    # Note, not 31st Dec but 30th!\n",
        "    delta = date1 - temp\n",
        "    return float(delta.days) + (float(delta.seconds) / 86400)"
      ],
      "execution_count": 10,
      "outputs": []
    },
    {
      "cell_type": "code",
      "metadata": {
        "id": "4XB7kW7zG-Ov"
      },
      "source": [
        "# df[\"Case_Reported_Date_Num\"] = df[\"Case_Reported_Date\"].apply(excel_date)"
      ],
      "execution_count": 11,
      "outputs": []
    },
    {
      "cell_type": "code",
      "metadata": {
        "id": "LiLltmUX-E3f"
      },
      "source": [
        "#Remove columns of test_reported_date and Specimen_Date\n",
        "df = df.drop(['Accurate_Episode_Date','Case_Reported_Date','Case_Reported_Date','Accurate_Episode_Date'], axis=1)"
      ],
      "execution_count": 12,
      "outputs": []
    },
    {
      "cell_type": "code",
      "metadata": {
        "colab": {
          "base_uri": "https://localhost:8080/"
        },
        "id": "e3fTmhecDs-9",
        "outputId": "438a7d5e-7146-4679-8bb9-276437301a5c"
      },
      "source": [
        "df.Outcome1.value_counts(dropna = False)"
      ],
      "execution_count": 13,
      "outputs": [
        {
          "output_type": "execute_result",
          "data": {
            "text/plain": [
              "Not Resolved    5008\n",
              "Resolved        4955\n",
              "Fatal           4897\n",
              "Name: Outcome1, dtype: int64"
            ]
          },
          "metadata": {
            "tags": []
          },
          "execution_count": 13
        }
      ]
    },
    {
      "cell_type": "code",
      "metadata": {
        "colab": {
          "base_uri": "https://localhost:8080/"
        },
        "id": "HLwM3_lwDs-9",
        "outputId": "73d55dec-d91d-466a-f2da-e72b8547ffb0"
      },
      "source": [
        "df.Age_Group.value_counts(dropna = False)"
      ],
      "execution_count": 14,
      "outputs": [
        {
          "output_type": "execute_result",
          "data": {
            "text/plain": [
              "80s    2203\n",
              "20s    2034\n",
              "90s    1814\n",
              "50s    1724\n",
              "30s    1610\n",
              "40s    1438\n",
              "70s    1429\n",
              "60s    1383\n",
              "<20    1220\n",
              "NaN       5\n",
              "Name: Age_Group, dtype: int64"
            ]
          },
          "metadata": {
            "tags": []
          },
          "execution_count": 14
        }
      ]
    },
    {
      "cell_type": "markdown",
      "metadata": {
        "id": "np6qCjbJDs--"
      },
      "source": [
        "As there are 6 missing values in age, we will replace by median age and encode the age feature into labelencoding"
      ]
    },
    {
      "cell_type": "code",
      "metadata": {
        "id": "Mrpw1SDVDs--"
      },
      "source": [
        "df['Age_Group'] = df['Age_Group'].replace(np.nan, '50s') "
      ],
      "execution_count": 15,
      "outputs": []
    },
    {
      "cell_type": "code",
      "metadata": {
        "colab": {
          "base_uri": "https://localhost:8080/"
        },
        "id": "9sDTCukTDs-_",
        "outputId": "d2e1ba43-68a6-4415-dca3-d797e9154503"
      },
      "source": [
        "df.Age_Group.value_counts(dropna = False)"
      ],
      "execution_count": 16,
      "outputs": [
        {
          "output_type": "execute_result",
          "data": {
            "text/plain": [
              "80s    2203\n",
              "20s    2034\n",
              "90s    1814\n",
              "50s    1729\n",
              "30s    1610\n",
              "40s    1438\n",
              "70s    1429\n",
              "60s    1383\n",
              "<20    1220\n",
              "Name: Age_Group, dtype: int64"
            ]
          },
          "metadata": {
            "tags": []
          },
          "execution_count": 16
        }
      ]
    },
    {
      "cell_type": "code",
      "metadata": {
        "id": "Cjx-4UQ6Ds-_"
      },
      "source": [
        "# Label Encoding of Age _Group Variable\n",
        "# 0 = 0\n",
        "# 1 = <20\n",
        "# 2 = 20s\n",
        "# 3 = 30s\n",
        "# 4 = 40s\n",
        "# 5 = 50s\n",
        "# 6 = 60s\n",
        "# 7 = 70s\n",
        "# 8 = 80s\n",
        "# 9 = 90s\n",
        "\n",
        "le.classes_ =np.array(['0','<20', '20s','30s','40s','50s','60s','70s','80s','90s'])\n",
        "df['Age_code'] = le.transform(df['Age_Group'])"
      ],
      "execution_count": 17,
      "outputs": []
    },
    {
      "cell_type": "code",
      "metadata": {
        "colab": {
          "base_uri": "https://localhost:8080/"
        },
        "id": "s4OvV23SDs_A",
        "outputId": "d5366d11-6793-4736-f871-a6d1dca74865"
      },
      "source": [
        "df.Client_Gender.value_counts(dropna = False)"
      ],
      "execution_count": 18,
      "outputs": [
        {
          "output_type": "execute_result",
          "data": {
            "text/plain": [
              "FEMALE            7562\n",
              "MALE              7192\n",
              "UNSPECIFIED        105\n",
              "GENDER DIVERSE       1\n",
              "Name: Client_Gender, dtype: int64"
            ]
          },
          "metadata": {
            "tags": []
          },
          "execution_count": 18
        }
      ]
    },
    {
      "cell_type": "markdown",
      "metadata": {
        "id": "r97y6chODs_A"
      },
      "source": [
        "Since there are only 2 instance in gender diverse field, we will include gender diverse into Unspecified and consider only three broader category in Gender for ease of calculation. Also we will do one hot encoding for Gender"
      ]
    },
    {
      "cell_type": "code",
      "metadata": {
        "id": "TUckl2BdDs_B"
      },
      "source": [
        "df.Client_Gender = df.Client_Gender.replace({\"GENDER DIVERSE\": \"UNSPECIFIED\"})"
      ],
      "execution_count": 19,
      "outputs": []
    },
    {
      "cell_type": "code",
      "metadata": {
        "colab": {
          "base_uri": "https://localhost:8080/"
        },
        "id": "jrug9KmEDs_B",
        "outputId": "ed4ba04f-2907-42d5-8cdb-ea4da78850db"
      },
      "source": [
        "df.Client_Gender.value_counts(dropna = False)"
      ],
      "execution_count": 20,
      "outputs": [
        {
          "output_type": "execute_result",
          "data": {
            "text/plain": [
              "FEMALE         7562\n",
              "MALE           7192\n",
              "UNSPECIFIED     106\n",
              "Name: Client_Gender, dtype: int64"
            ]
          },
          "metadata": {
            "tags": []
          },
          "execution_count": 20
        }
      ]
    },
    {
      "cell_type": "code",
      "metadata": {
        "colab": {
          "base_uri": "https://localhost:8080/",
          "height": 248
        },
        "id": "erPdxpi6Ds_C",
        "outputId": "949c04eb-7d37-44ff-dd83-5e9b401e6d02"
      },
      "source": [
        "df = pd.get_dummies(df, columns=[\"Client_Gender\"])\n",
        "\n",
        "df.head()"
      ],
      "execution_count": 21,
      "outputs": [
        {
          "output_type": "execute_result",
          "data": {
            "text/html": [
              "<div>\n",
              "<style scoped>\n",
              "    .dataframe tbody tr th:only-of-type {\n",
              "        vertical-align: middle;\n",
              "    }\n",
              "\n",
              "    .dataframe tbody tr th {\n",
              "        vertical-align: top;\n",
              "    }\n",
              "\n",
              "    .dataframe thead th {\n",
              "        text-align: right;\n",
              "    }\n",
              "</style>\n",
              "<table border=\"1\" class=\"dataframe\">\n",
              "  <thead>\n",
              "    <tr style=\"text-align: right;\">\n",
              "      <th></th>\n",
              "      <th>Test_Reported_Date</th>\n",
              "      <th>Specimen_Date</th>\n",
              "      <th>Age_Group</th>\n",
              "      <th>Case_AcquisitionInfo</th>\n",
              "      <th>Reporting_PHU_City</th>\n",
              "      <th>Outbreak_Related</th>\n",
              "      <th>Reporting_PHU_Latitude</th>\n",
              "      <th>Reporting_PHU_Longitude</th>\n",
              "      <th>Outcome1</th>\n",
              "      <th>Age_code</th>\n",
              "      <th>Client_Gender_FEMALE</th>\n",
              "      <th>Client_Gender_MALE</th>\n",
              "      <th>Client_Gender_UNSPECIFIED</th>\n",
              "    </tr>\n",
              "  </thead>\n",
              "  <tbody>\n",
              "    <tr>\n",
              "      <th>0</th>\n",
              "      <td>2020-03-31</td>\n",
              "      <td>2020-03-30</td>\n",
              "      <td>70s</td>\n",
              "      <td>OB</td>\n",
              "      <td>Stratford</td>\n",
              "      <td>Yes</td>\n",
              "      <td>43.368662</td>\n",
              "      <td>-81.001913</td>\n",
              "      <td>Fatal</td>\n",
              "      <td>7</td>\n",
              "      <td>0</td>\n",
              "      <td>1</td>\n",
              "      <td>0</td>\n",
              "    </tr>\n",
              "    <tr>\n",
              "      <th>1</th>\n",
              "      <td>2021-01-24</td>\n",
              "      <td>2021-01-23</td>\n",
              "      <td>50s</td>\n",
              "      <td>NO KNOWN EPI LINK</td>\n",
              "      <td>Newmarket</td>\n",
              "      <td>NaN</td>\n",
              "      <td>44.048023</td>\n",
              "      <td>-79.480239</td>\n",
              "      <td>Not Resolved</td>\n",
              "      <td>5</td>\n",
              "      <td>1</td>\n",
              "      <td>0</td>\n",
              "      <td>0</td>\n",
              "    </tr>\n",
              "    <tr>\n",
              "      <th>2</th>\n",
              "      <td>2020-04-14</td>\n",
              "      <td>2020-04-13</td>\n",
              "      <td>70s</td>\n",
              "      <td>OB</td>\n",
              "      <td>Toronto</td>\n",
              "      <td>Yes</td>\n",
              "      <td>43.656591</td>\n",
              "      <td>-79.379358</td>\n",
              "      <td>Resolved</td>\n",
              "      <td>7</td>\n",
              "      <td>1</td>\n",
              "      <td>0</td>\n",
              "      <td>0</td>\n",
              "    </tr>\n",
              "    <tr>\n",
              "      <th>3</th>\n",
              "      <td>2021-01-21</td>\n",
              "      <td>2021-01-18</td>\n",
              "      <td>&lt;20</td>\n",
              "      <td>CC</td>\n",
              "      <td>Mississauga</td>\n",
              "      <td>NaN</td>\n",
              "      <td>43.647471</td>\n",
              "      <td>-79.708893</td>\n",
              "      <td>Not Resolved</td>\n",
              "      <td>1</td>\n",
              "      <td>0</td>\n",
              "      <td>1</td>\n",
              "      <td>0</td>\n",
              "    </tr>\n",
              "    <tr>\n",
              "      <th>4</th>\n",
              "      <td>2020-12-28</td>\n",
              "      <td>2020-12-26</td>\n",
              "      <td>60s</td>\n",
              "      <td>OB</td>\n",
              "      <td>Windsor</td>\n",
              "      <td>Yes</td>\n",
              "      <td>42.308796</td>\n",
              "      <td>-83.033670</td>\n",
              "      <td>Resolved</td>\n",
              "      <td>6</td>\n",
              "      <td>0</td>\n",
              "      <td>1</td>\n",
              "      <td>0</td>\n",
              "    </tr>\n",
              "  </tbody>\n",
              "</table>\n",
              "</div>"
            ],
            "text/plain": [
              "  Test_Reported_Date  ... Client_Gender_UNSPECIFIED\n",
              "0         2020-03-31  ...                         0\n",
              "1         2021-01-24  ...                         0\n",
              "2         2020-04-14  ...                         0\n",
              "3         2021-01-21  ...                         0\n",
              "4         2020-12-28  ...                         0\n",
              "\n",
              "[5 rows x 13 columns]"
            ]
          },
          "metadata": {
            "tags": []
          },
          "execution_count": 21
        }
      ]
    },
    {
      "cell_type": "code",
      "metadata": {
        "colab": {
          "base_uri": "https://localhost:8080/"
        },
        "id": "ISjMUCqcDs_C",
        "outputId": "616056e2-c601-46c7-bd04-fa34b1eece57"
      },
      "source": [
        "df.Case_AcquisitionInfo.value_counts(dropna = False)"
      ],
      "execution_count": 22,
      "outputs": [
        {
          "output_type": "execute_result",
          "data": {
            "text/plain": [
              "OB                      5371\n",
              "CC                      4121\n",
              "MISSING INFORMATION     2929\n",
              "NO KNOWN EPI LINK       2242\n",
              "TRAVEL                   192\n",
              "UNSPECIFIED EPI LINK       5\n",
              "Name: Case_AcquisitionInfo, dtype: int64"
            ]
          },
          "metadata": {
            "tags": []
          },
          "execution_count": 22
        }
      ]
    },
    {
      "cell_type": "code",
      "metadata": {
        "colab": {
          "base_uri": "https://localhost:8080/"
        },
        "id": "C12HgE2JDs_C",
        "outputId": "ee236d12-6eb6-4db3-a9d6-17098763f6f3"
      },
      "source": [
        "df.Outbreak_Related.value_counts(dropna = False)"
      ],
      "execution_count": 23,
      "outputs": [
        {
          "output_type": "execute_result",
          "data": {
            "text/plain": [
              "NaN    9082\n",
              "Yes    5778\n",
              "Name: Outbreak_Related, dtype: int64"
            ]
          },
          "metadata": {
            "tags": []
          },
          "execution_count": 23
        }
      ]
    },
    {
      "cell_type": "markdown",
      "metadata": {
        "id": "Je1kngYIDs_D"
      },
      "source": [
        "Replacing Nan with 0 and Yes with 1  "
      ]
    },
    {
      "cell_type": "code",
      "metadata": {
        "id": "1XB4GTIaDs_D"
      },
      "source": [
        "df.Outbreak_Related = df.Outbreak_Related.replace(np.nan,0)\n",
        "df.Outbreak_Related = df.Outbreak_Related.replace({\"Yes\":1})"
      ],
      "execution_count": 24,
      "outputs": []
    },
    {
      "cell_type": "code",
      "metadata": {
        "colab": {
          "base_uri": "https://localhost:8080/"
        },
        "id": "RzoSZ4FNDs_D",
        "outputId": "8204b165-0895-4d1f-dcbf-50b0ad3c2a89"
      },
      "source": [
        "df.Outbreak_Related.value_counts(dropna = False)"
      ],
      "execution_count": 25,
      "outputs": [
        {
          "output_type": "execute_result",
          "data": {
            "text/plain": [
              "0    9082\n",
              "1    5778\n",
              "Name: Outbreak_Related, dtype: int64"
            ]
          },
          "metadata": {
            "tags": []
          },
          "execution_count": 25
        }
      ]
    },
    {
      "cell_type": "code",
      "metadata": {
        "id": "Mhiznqw8Ds_E"
      },
      "source": [
        "df[\"Outbreak_Related\"] = df.Outbreak_Related.astype(np.uint8)"
      ],
      "execution_count": 26,
      "outputs": []
    },
    {
      "cell_type": "code",
      "metadata": {
        "colab": {
          "base_uri": "https://localhost:8080/"
        },
        "id": "3VX91KpPDs_E",
        "outputId": "682acd2b-da19-46a5-ce77-e8698894e662"
      },
      "source": [
        "df.Outcome1.value_counts(dropna = False)"
      ],
      "execution_count": 27,
      "outputs": [
        {
          "output_type": "execute_result",
          "data": {
            "text/plain": [
              "Not Resolved    5008\n",
              "Resolved        4955\n",
              "Fatal           4897\n",
              "Name: Outcome1, dtype: int64"
            ]
          },
          "metadata": {
            "tags": []
          },
          "execution_count": 27
        }
      ]
    },
    {
      "cell_type": "code",
      "metadata": {
        "id": "wkr3tNcKDs_E"
      },
      "source": [
        "df.Case_AcquisitionInfo = df.Case_AcquisitionInfo.replace({\n",
        "                                                          \"UNSPECIFIED EPI LINK\": \"MISSING INFORMATION\",\n",
        "                                                          \"OB\": \"OUTBREAK\", \"CC\": \"CLOSE CONTACT\",})"
      ],
      "execution_count": 28,
      "outputs": []
    },
    {
      "cell_type": "code",
      "metadata": {
        "colab": {
          "base_uri": "https://localhost:8080/"
        },
        "id": "GIDuY7aJDs_F",
        "outputId": "82aed56c-0e62-452c-fb97-1f3a971747fd"
      },
      "source": [
        "df.Case_AcquisitionInfo.value_counts(dropna = False)"
      ],
      "execution_count": 29,
      "outputs": [
        {
          "output_type": "execute_result",
          "data": {
            "text/plain": [
              "OUTBREAK               5371\n",
              "CLOSE CONTACT          4121\n",
              "MISSING INFORMATION    2934\n",
              "NO KNOWN EPI LINK      2242\n",
              "TRAVEL                  192\n",
              "Name: Case_AcquisitionInfo, dtype: int64"
            ]
          },
          "metadata": {
            "tags": []
          },
          "execution_count": 29
        }
      ]
    },
    {
      "cell_type": "code",
      "metadata": {
        "colab": {
          "base_uri": "https://localhost:8080/",
          "height": 264
        },
        "id": "Zl5jckZSDs_F",
        "outputId": "a1a3ad96-a88a-47c2-db19-b89eec6bd36b"
      },
      "source": [
        "df = pd.get_dummies(df, columns=[\"Case_AcquisitionInfo\"])\n",
        "df.head()"
      ],
      "execution_count": 30,
      "outputs": [
        {
          "output_type": "execute_result",
          "data": {
            "text/html": [
              "<div>\n",
              "<style scoped>\n",
              "    .dataframe tbody tr th:only-of-type {\n",
              "        vertical-align: middle;\n",
              "    }\n",
              "\n",
              "    .dataframe tbody tr th {\n",
              "        vertical-align: top;\n",
              "    }\n",
              "\n",
              "    .dataframe thead th {\n",
              "        text-align: right;\n",
              "    }\n",
              "</style>\n",
              "<table border=\"1\" class=\"dataframe\">\n",
              "  <thead>\n",
              "    <tr style=\"text-align: right;\">\n",
              "      <th></th>\n",
              "      <th>Test_Reported_Date</th>\n",
              "      <th>Specimen_Date</th>\n",
              "      <th>Age_Group</th>\n",
              "      <th>Reporting_PHU_City</th>\n",
              "      <th>Outbreak_Related</th>\n",
              "      <th>Reporting_PHU_Latitude</th>\n",
              "      <th>Reporting_PHU_Longitude</th>\n",
              "      <th>Outcome1</th>\n",
              "      <th>Age_code</th>\n",
              "      <th>Client_Gender_FEMALE</th>\n",
              "      <th>Client_Gender_MALE</th>\n",
              "      <th>Client_Gender_UNSPECIFIED</th>\n",
              "      <th>Case_AcquisitionInfo_CLOSE CONTACT</th>\n",
              "      <th>Case_AcquisitionInfo_MISSING INFORMATION</th>\n",
              "      <th>Case_AcquisitionInfo_NO KNOWN EPI LINK</th>\n",
              "      <th>Case_AcquisitionInfo_OUTBREAK</th>\n",
              "      <th>Case_AcquisitionInfo_TRAVEL</th>\n",
              "    </tr>\n",
              "  </thead>\n",
              "  <tbody>\n",
              "    <tr>\n",
              "      <th>0</th>\n",
              "      <td>2020-03-31</td>\n",
              "      <td>2020-03-30</td>\n",
              "      <td>70s</td>\n",
              "      <td>Stratford</td>\n",
              "      <td>1</td>\n",
              "      <td>43.368662</td>\n",
              "      <td>-81.001913</td>\n",
              "      <td>Fatal</td>\n",
              "      <td>7</td>\n",
              "      <td>0</td>\n",
              "      <td>1</td>\n",
              "      <td>0</td>\n",
              "      <td>0</td>\n",
              "      <td>0</td>\n",
              "      <td>0</td>\n",
              "      <td>1</td>\n",
              "      <td>0</td>\n",
              "    </tr>\n",
              "    <tr>\n",
              "      <th>1</th>\n",
              "      <td>2021-01-24</td>\n",
              "      <td>2021-01-23</td>\n",
              "      <td>50s</td>\n",
              "      <td>Newmarket</td>\n",
              "      <td>0</td>\n",
              "      <td>44.048023</td>\n",
              "      <td>-79.480239</td>\n",
              "      <td>Not Resolved</td>\n",
              "      <td>5</td>\n",
              "      <td>1</td>\n",
              "      <td>0</td>\n",
              "      <td>0</td>\n",
              "      <td>0</td>\n",
              "      <td>0</td>\n",
              "      <td>1</td>\n",
              "      <td>0</td>\n",
              "      <td>0</td>\n",
              "    </tr>\n",
              "    <tr>\n",
              "      <th>2</th>\n",
              "      <td>2020-04-14</td>\n",
              "      <td>2020-04-13</td>\n",
              "      <td>70s</td>\n",
              "      <td>Toronto</td>\n",
              "      <td>1</td>\n",
              "      <td>43.656591</td>\n",
              "      <td>-79.379358</td>\n",
              "      <td>Resolved</td>\n",
              "      <td>7</td>\n",
              "      <td>1</td>\n",
              "      <td>0</td>\n",
              "      <td>0</td>\n",
              "      <td>0</td>\n",
              "      <td>0</td>\n",
              "      <td>0</td>\n",
              "      <td>1</td>\n",
              "      <td>0</td>\n",
              "    </tr>\n",
              "    <tr>\n",
              "      <th>3</th>\n",
              "      <td>2021-01-21</td>\n",
              "      <td>2021-01-18</td>\n",
              "      <td>&lt;20</td>\n",
              "      <td>Mississauga</td>\n",
              "      <td>0</td>\n",
              "      <td>43.647471</td>\n",
              "      <td>-79.708893</td>\n",
              "      <td>Not Resolved</td>\n",
              "      <td>1</td>\n",
              "      <td>0</td>\n",
              "      <td>1</td>\n",
              "      <td>0</td>\n",
              "      <td>1</td>\n",
              "      <td>0</td>\n",
              "      <td>0</td>\n",
              "      <td>0</td>\n",
              "      <td>0</td>\n",
              "    </tr>\n",
              "    <tr>\n",
              "      <th>4</th>\n",
              "      <td>2020-12-28</td>\n",
              "      <td>2020-12-26</td>\n",
              "      <td>60s</td>\n",
              "      <td>Windsor</td>\n",
              "      <td>1</td>\n",
              "      <td>42.308796</td>\n",
              "      <td>-83.033670</td>\n",
              "      <td>Resolved</td>\n",
              "      <td>6</td>\n",
              "      <td>0</td>\n",
              "      <td>1</td>\n",
              "      <td>0</td>\n",
              "      <td>0</td>\n",
              "      <td>0</td>\n",
              "      <td>0</td>\n",
              "      <td>1</td>\n",
              "      <td>0</td>\n",
              "    </tr>\n",
              "  </tbody>\n",
              "</table>\n",
              "</div>"
            ],
            "text/plain": [
              "  Test_Reported_Date  ... Case_AcquisitionInfo_TRAVEL\n",
              "0         2020-03-31  ...                           0\n",
              "1         2021-01-24  ...                           0\n",
              "2         2020-04-14  ...                           0\n",
              "3         2021-01-21  ...                           0\n",
              "4         2020-12-28  ...                           0\n",
              "\n",
              "[5 rows x 17 columns]"
            ]
          },
          "metadata": {
            "tags": []
          },
          "execution_count": 30
        }
      ]
    },
    {
      "cell_type": "code",
      "metadata": {
        "id": "wYW9bZMfDs_G"
      },
      "source": [
        "df = df.drop(['Age_Group','Reporting_PHU_City'], axis=1)"
      ],
      "execution_count": 31,
      "outputs": []
    },
    {
      "cell_type": "code",
      "metadata": {
        "id": "3G9FLEstDs_G"
      },
      "source": [
        "df[\"Outcome1\"] = df.Outcome1.astype('category')"
      ],
      "execution_count": 32,
      "outputs": []
    },
    {
      "cell_type": "code",
      "metadata": {
        "colab": {
          "base_uri": "https://localhost:8080/"
        },
        "id": "V3wbGqCGDs_G",
        "outputId": "7e56e214-5ff0-4c38-d11c-8b5129b792a7"
      },
      "source": [
        "df.dtypes"
      ],
      "execution_count": 33,
      "outputs": [
        {
          "output_type": "execute_result",
          "data": {
            "text/plain": [
              "Test_Reported_Date                            object\n",
              "Specimen_Date                                 object\n",
              "Outbreak_Related                               uint8\n",
              "Reporting_PHU_Latitude                       float64\n",
              "Reporting_PHU_Longitude                      float64\n",
              "Outcome1                                    category\n",
              "Age_code                                       int64\n",
              "Client_Gender_FEMALE                           uint8\n",
              "Client_Gender_MALE                             uint8\n",
              "Client_Gender_UNSPECIFIED                      uint8\n",
              "Case_AcquisitionInfo_CLOSE CONTACT             uint8\n",
              "Case_AcquisitionInfo_MISSING INFORMATION       uint8\n",
              "Case_AcquisitionInfo_NO KNOWN EPI LINK         uint8\n",
              "Case_AcquisitionInfo_OUTBREAK                  uint8\n",
              "Case_AcquisitionInfo_TRAVEL                    uint8\n",
              "dtype: object"
            ]
          },
          "metadata": {
            "tags": []
          },
          "execution_count": 33
        }
      ]
    },
    {
      "cell_type": "code",
      "metadata": {
        "colab": {
          "base_uri": "https://localhost:8080/"
        },
        "id": "QygX0HcEDs_H",
        "outputId": "2ae49c6d-044b-4c47-bd26-0f8e248a231b"
      },
      "source": [
        "df.isnull().sum()"
      ],
      "execution_count": 34,
      "outputs": [
        {
          "output_type": "execute_result",
          "data": {
            "text/plain": [
              "Test_Reported_Date                          203\n",
              "Specimen_Date                               122\n",
              "Outbreak_Related                              0\n",
              "Reporting_PHU_Latitude                        0\n",
              "Reporting_PHU_Longitude                       0\n",
              "Outcome1                                      0\n",
              "Age_code                                      0\n",
              "Client_Gender_FEMALE                          0\n",
              "Client_Gender_MALE                            0\n",
              "Client_Gender_UNSPECIFIED                     0\n",
              "Case_AcquisitionInfo_CLOSE CONTACT            0\n",
              "Case_AcquisitionInfo_MISSING INFORMATION      0\n",
              "Case_AcquisitionInfo_NO KNOWN EPI LINK        0\n",
              "Case_AcquisitionInfo_OUTBREAK                 0\n",
              "Case_AcquisitionInfo_TRAVEL                   0\n",
              "dtype: int64"
            ]
          },
          "metadata": {
            "tags": []
          },
          "execution_count": 34
        }
      ]
    },
    {
      "cell_type": "code",
      "metadata": {
        "colab": {
          "base_uri": "https://localhost:8080/"
        },
        "id": "rRumcOuzDs_H",
        "outputId": "71e2364e-6e50-42a5-9dbb-227b7892c7c2"
      },
      "source": [
        "df.Outcome1.value_counts()"
      ],
      "execution_count": 35,
      "outputs": [
        {
          "output_type": "execute_result",
          "data": {
            "text/plain": [
              "Not Resolved    5008\n",
              "Resolved        4955\n",
              "Fatal           4897\n",
              "Name: Outcome1, dtype: int64"
            ]
          },
          "metadata": {
            "tags": []
          },
          "execution_count": 35
        }
      ]
    },
    {
      "cell_type": "code",
      "metadata": {
        "colab": {
          "base_uri": "https://localhost:8080/",
          "height": 632
        },
        "id": "93nN6vpkDs_H",
        "outputId": "4bb5697a-5062-48c5-906f-b81ce012f78a"
      },
      "source": [
        "sns.distplot(df[['Reporting_PHU_Latitude']], color = \"dodgerblue\", axlabel= \"Latitude\")\n",
        "plt.show()\n",
        "sns.distplot(df[['Reporting_PHU_Longitude']], color = \"pink\", axlabel=\"Longitude\")\n",
        "plt.show()"
      ],
      "execution_count": 36,
      "outputs": [
        {
          "output_type": "stream",
          "text": [
            "/usr/local/lib/python3.7/dist-packages/seaborn/distributions.py:2557: FutureWarning: `distplot` is a deprecated function and will be removed in a future version. Please adapt your code to use either `displot` (a figure-level function with similar flexibility) or `histplot` (an axes-level function for histograms).\n",
            "  warnings.warn(msg, FutureWarning)\n"
          ],
          "name": "stderr"
        },
        {
          "output_type": "display_data",
          "data": {
            "image/png": "[encoded data removed]",
            "text/plain": [
              "<Figure size 432x288 with 1 Axes>"
            ]
          },
          "metadata": {
            "tags": [],
            "needs_background": "light"
          }
        },
        {
          "output_type": "stream",
          "text": [
            "/usr/local/lib/python3.7/dist-packages/seaborn/distributions.py:2557: FutureWarning: `distplot` is a deprecated function and will be removed in a future version. Please adapt your code to use either `displot` (a figure-level function with similar flexibility) or `histplot` (an axes-level function for histograms).\n",
            "  warnings.warn(msg, FutureWarning)\n"
          ],
          "name": "stderr"
        },
        {
          "output_type": "display_data",
          "data": {
            "image/png": "[encoded data removed]",
            "text/plain": [
              "<Figure size 432x288 with 1 Axes>"
            ]
          },
          "metadata": {
            "tags": [],
            "needs_background": "light"
          }
        }
      ]
    },
    {
      "cell_type": "code",
      "metadata": {
        "colab": {
          "base_uri": "https://localhost:8080/",
          "height": 515
        },
        "id": "_e-kfheoDs_I",
        "outputId": "812272e4-24c3-481d-8f94-8894371398a0"
      },
      "source": [
        "sns.boxplot(data=df[['Reporting_PHU_Latitude']],width = 0.3, color = \"dodgerblue\")\n",
        "plt.show()\n",
        "sns.boxplot(data=df[['Reporting_PHU_Longitude']],width = 0.3, color = \"pink\")\n",
        "plt.show()"
      ],
      "execution_count": 37,
      "outputs": [
        {
          "output_type": "display_data",
          "data": {
            "image/png": "[encoded data removed]",
            "text/plain": [
              "<Figure size 432x288 with 1 Axes>"
            ]
          },
          "metadata": {
            "tags": [],
            "needs_background": "light"
          }
        },
        {
          "output_type": "display_data",
          "data": {
            "image/png": "[encoded data removed]",
            "text/plain": [
              "<Figure size 432x288 with 1 Axes>"
            ]
          },
          "metadata": {
            "tags": [],
            "needs_background": "light"
          }
        }
      ]
    },
    {
      "cell_type": "markdown",
      "metadata": {
        "id": "7tqF5GNDDs_I"
      },
      "source": [
        "### <https://phik.readthedocs.io/en/latest/>"
      ]
    },
    {
      "cell_type": "code",
      "metadata": {
        "colab": {
          "base_uri": "https://localhost:8080/",
          "height": 605
        },
        "id": "B0hpaaFWDs_J",
        "outputId": "7ac6e1ac-c3cb-4f97-a045-116cd4c3209c"
      },
      "source": [
        "# Correlation \n",
        "!pip install phik\n",
        "import phik\n",
        "from phik import resources, report"
      ],
      "execution_count": 38,
      "outputs": [
        {
          "output_type": "stream",
          "text": [
            "Collecting phik\n",
            "\u001b[?25l  Downloading https://files.pythonhosted.org/packages/b7/ce/193e8ddf62d4be643b9b4b20e8e9c63b2f6a20f92778c0410c629f89bdaa/phik-0.11.2.tar.gz (1.1MB)\n",
            "\u001b[K     |████████████████████████████████| 1.1MB 6.2MB/s \n",
            "\u001b[?25hRequirement already satisfied: numpy>=1.18.0 in /usr/local/lib/python3.7/dist-packages (from phik) (1.19.5)\n",
            "Collecting scipy>=1.5.2\n",
            "\u001b[?25l  Downloading https://files.pythonhosted.org/packages/75/91/ee427c42957f8c4cbe477bf4f8b7f608e003a17941e509d1777e58648cb3/scipy-1.6.2-cp37-cp37m-manylinux1_x86_64.whl (27.4MB)\n",
            "\u001b[K     |████████████████████████████████| 27.4MB 130kB/s \n",
            "\u001b[?25hRequirement already satisfied: pandas>=0.25.1 in /usr/local/lib/python3.7/dist-packages (from phik) (1.1.5)\n",
            "Requirement already satisfied: matplotlib>=2.2.3 in /usr/local/lib/python3.7/dist-packages (from phik) (3.2.2)\n",
            "Requirement already satisfied: joblib>=0.14.1 in /usr/local/lib/python3.7/dist-packages (from phik) (1.0.1)\n",
            "Requirement already satisfied: pytz>=2017.2 in /usr/local/lib/python3.7/dist-packages (from pandas>=0.25.1->phik) (2018.9)\n",
            "Requirement already satisfied: python-dateutil>=2.7.3 in /usr/local/lib/python3.7/dist-packages (from pandas>=0.25.1->phik) (2.8.1)\n",
            "Requirement already satisfied: cycler>=0.10 in /usr/local/lib/python3.7/dist-packages (from matplotlib>=2.2.3->phik) (0.10.0)\n",
            "Requirement already satisfied: kiwisolver>=1.0.1 in /usr/local/lib/python3.7/dist-packages (from matplotlib>=2.2.3->phik) (1.3.1)\n",
            "Requirement already satisfied: pyparsing!=2.0.4,!=2.1.2,!=2.1.6,>=2.0.1 in /usr/local/lib/python3.7/dist-packages (from matplotlib>=2.2.3->phik) (2.4.7)\n",
            "Requirement already satisfied: six>=1.5 in /usr/local/lib/python3.7/dist-packages (from python-dateutil>=2.7.3->pandas>=0.25.1->phik) (1.15.0)\n",
            "Building wheels for collected packages: phik\n",
            "  Building wheel for phik (setup.py) ... \u001b[?25l\u001b[?25hdone\n",
            "  Created wheel for phik: filename=phik-0.11.2-cp37-none-any.whl size=1107413 sha256=a2c0086a4045189e53e52e6e9272809a2554626b883a190372ba31da33c7bab3\n",
            "  Stored in directory: /root/.cache/pip/wheels/c0/a3/b0/f27b1cfe32ea131a3715169132ff6d85653789e80e966c3bf6\n",
            "Successfully built phik\n",
            "\u001b[31mERROR: albumentations 0.1.12 has requirement imgaug<0.2.7,>=0.2.5, but you'll have imgaug 0.2.9 which is incompatible.\u001b[0m\n",
            "Installing collected packages: scipy, phik\n",
            "  Found existing installation: scipy 1.4.1\n",
            "    Uninstalling scipy-1.4.1:\n",
            "      Successfully uninstalled scipy-1.4.1\n",
            "Successfully installed phik-0.11.2 scipy-1.6.2\n"
          ],
          "name": "stdout"
        },
        {
          "output_type": "display_data",
          "data": {
            "application/vnd.colab-display-data+json": {
              "pip_warning": {
                "packages": [
                  "scipy"
                ]
              }
            }
          },
          "metadata": {
            "tags": []
          }
        }
      ]
    },
    {
      "cell_type": "code",
      "metadata": {
        "colab": {
          "base_uri": "https://localhost:8080/",
          "height": 780
        },
        "id": "I4K2416DDs_J",
        "outputId": "bf69c229-6f4d-4c4f-85c8-44b2f1394f20"
      },
      "source": [
        "corr = df.phik_matrix()\n",
        "plt.figure(figsize=(10,10))\n",
        "ax = plt.axes()\n",
        "cmap = sns.diverging_palette(230, 20, as_cmap=True)\n",
        "sns.heatmap(corr,cmap =cmap, vmax=1, center=0,\n",
        "            square=True, linewidths=.5, cbar_kws={\"shrink\": .5}, annot=True)\n",
        "ax.set_title('Correlation Matrix Covid Dataset')"
      ],
      "execution_count": 39,
      "outputs": [
        {
          "output_type": "stream",
          "text": [
            "interval columns not set, guessing: ['Outbreak_Related', 'Reporting_PHU_Latitude', 'Reporting_PHU_Longitude', 'Age_code', 'Client_Gender_FEMALE', 'Client_Gender_MALE', 'Client_Gender_UNSPECIFIED', 'Case_AcquisitionInfo_CLOSE CONTACT', 'Case_AcquisitionInfo_MISSING INFORMATION', 'Case_AcquisitionInfo_NO KNOWN EPI LINK', 'Case_AcquisitionInfo_OUTBREAK', 'Case_AcquisitionInfo_TRAVEL']\n"
          ],
          "name": "stdout"
        },
        {
          "output_type": "execute_result",
          "data": {
            "text/plain": [
              "Text(0.5, 1.0, 'Correlation Matrix Covid Dataset')"
            ]
          },
          "metadata": {
            "tags": []
          },
          "execution_count": 39
        },
        {
          "output_type": "display_data",
          "data": {
            "image/png": "[encoded data removed]",
            "text/plain": [
              "<Figure size 720x720 with 2 Axes>"
            ]
          },
          "metadata": {
            "tags": [],
            "needs_background": "light"
          }
        }
      ]
    },
    {
      "cell_type": "markdown",
      "metadata": {
        "id": "7vtcgwusDs_J"
      },
      "source": [
        "As we see that the Client Gender is showing a weak correlation (0.015,0.013,0.011) with Outcome1 Variable. Thus it doesn't make sense using that variable in the analysis."
      ]
    },
    {
      "cell_type": "code",
      "metadata": {
        "id": "B4zMFNvCDs_K"
      },
      "source": [
        "df = df.drop(['Client_Gender_FEMALE','Client_Gender_MALE','Client_Gender_UNSPECIFIED'], axis=1)"
      ],
      "execution_count": 40,
      "outputs": []
    },
    {
      "cell_type": "code",
      "metadata": {
        "colab": {
          "base_uri": "https://localhost:8080/"
        },
        "id": "OTC5IHp6Ds_K",
        "outputId": "3bb6b27c-68dc-4d7f-ce33-4c44997fb3ae"
      },
      "source": [
        "df.keys()"
      ],
      "execution_count": 41,
      "outputs": [
        {
          "output_type": "execute_result",
          "data": {
            "text/plain": [
              "Index(['Test_Reported_Date', 'Specimen_Date', 'Outbreak_Related',\n",
              "       'Reporting_PHU_Latitude', 'Reporting_PHU_Longitude', 'Outcome1',\n",
              "       'Age_code', 'Case_AcquisitionInfo_CLOSE CONTACT',\n",
              "       'Case_AcquisitionInfo_MISSING INFORMATION',\n",
              "       'Case_AcquisitionInfo_NO KNOWN EPI LINK',\n",
              "       'Case_AcquisitionInfo_OUTBREAK', 'Case_AcquisitionInfo_TRAVEL'],\n",
              "      dtype='object')"
            ]
          },
          "metadata": {
            "tags": []
          },
          "execution_count": 41
        }
      ]
    },
    {
      "cell_type": "code",
      "metadata": {
        "colab": {
          "base_uri": "https://localhost:8080/"
        },
        "id": "phgEfBbtDs_K",
        "outputId": "58201bbd-fbee-4050-e566-5fda5ab88715"
      },
      "source": [
        "#X = df[['Outbreak_Related','Reporting_PHU_Latitude','Reporting_PHU_Longitude','Age_code','Case_AcquisitionInfo_CLOSE CONTACT','Case_AcquisitionInfo_MISSING INFORMATION','Case_AcquisitionInfo_OUTBREAK','Case_AcquisitionInfo_TRAVEL','Case_AcquisitionInfo_NO_SPREAD']]\n",
        "\n",
        "X=df[['Outbreak_Related', 'Reporting_PHU_Latitude', 'Reporting_PHU_Longitude',\n",
        "        'Age_code', 'Case_AcquisitionInfo_CLOSE CONTACT',\n",
        "       'Case_AcquisitionInfo_MISSING INFORMATION',\n",
        "       'Case_AcquisitionInfo_NO KNOWN EPI LINK',\n",
        "       'Case_AcquisitionInfo_OUTBREAK', 'Case_AcquisitionInfo_TRAVEL']]\n",
        "y = df[['Outcome1']]\n",
        "y = le.fit_transform(y)\n",
        "\n",
        "# X_train, X_test, y_train, y_test = train_test_split(X, y, test_size=0.2, random_state=0)\n",
        "# X_val, X_test, y_val, y_test = train_test_split(X_test, y_test, test_size=0.5, random_state=0)"
      ],
      "execution_count": 42,
      "outputs": [
        {
          "output_type": "stream",
          "text": [
            "/usr/local/lib/python3.7/dist-packages/sklearn/preprocessing/_label.py:251: DataConversionWarning: A column-vector y was passed when a 1d array was expected. Please change the shape of y to (n_samples, ), for example using ravel().\n",
            "  y = column_or_1d(y, warn=True)\n"
          ],
          "name": "stderr"
        }
      ]
    },
    {
      "cell_type": "code",
      "metadata": {
        "id": "cOBOw5eHDs_L"
      },
      "source": [
        "# Use the below code for RNN as we need consecutive data for train, val and test set.\n",
        "\n",
        "# column_indices = {name: i for i, name in enumerate(df.columns)}\n",
        "\n",
        "# n = len(df)\n",
        "# train_df = df[0:int(n*0.7)]\n",
        "# val_df = df[int(n*0.7):int(n*0.9)]\n",
        "# test_df = df[int(n*0.9):]\n",
        "\n",
        "# num_features = df.shape[1]"
      ],
      "execution_count": 43,
      "outputs": []
    },
    {
      "cell_type": "markdown",
      "metadata": {
        "id": "tIuombSdDs_M"
      },
      "source": [
        "# PreProcessing"
      ]
    },
    {
      "cell_type": "markdown",
      "metadata": {
        "id": "33EBONySDs_M"
      },
      "source": [
        "As we know that the Normalizing the binary variable can be possible but it doesn't make sense in terms of decision tree analysis. It is more easier to use binary variable as it is. "
      ]
    },
    {
      "cell_type": "code",
      "metadata": {
        "id": "9XAJDSyYDs_M"
      },
      "source": [
        "# Normalization (Z-score)\n",
        "from sklearn.preprocessing import StandardScaler\n",
        "std_scaler = StandardScaler()\n",
        "\n",
        "X_z= X.copy()\n",
        "\n",
        "X_z[['Reporting_PHU_Latitude','Reporting_PHU_Longitude']] = std_scaler.fit_transform(X_z[['Reporting_PHU_Latitude','Reporting_PHU_Longitude']])\n",
        "# X_z = X_z.values\n",
        "# X_z\n",
        "X_train_z, X_test_z, y_train_z, y_test_z = train_test_split(X_z, y, test_size=0.2, random_state=0)\n",
        "X_val_z, X_test_z, y_val_z, y_test_z = train_test_split(X_test_z, y_test_z, test_size=0.5, random_state=0)\n",
        "                                                            "
      ],
      "execution_count": 44,
      "outputs": []
    },
    {
      "cell_type": "code",
      "metadata": {
        "colab": {
          "base_uri": "https://localhost:8080/"
        },
        "id": "3J2QrvqPDs_N",
        "outputId": "50ba8595-1e36-47d0-cfd0-d4fce41b0e45"
      },
      "source": [
        "X_train_z.shape"
      ],
      "execution_count": null,
      "outputs": [
        {
          "output_type": "execute_result",
          "data": {
            "text/plain": [
              "(11888, 9)"
            ]
          },
          "metadata": {
            "tags": []
          },
          "execution_count": 43
        }
      ]
    },
    {
      "cell_type": "code",
      "metadata": {
        "id": "1DOjaS42vvez"
      },
      "source": [
        "# Normalization (Z-score)\n",
        "from sklearn.preprocessing import MinMaxScaler\n",
        "min_scaler = MinMaxScaler()\n",
        "\n",
        "X_n= X.copy()\n",
        "\n",
        "X_n[['Reporting_PHU_Latitude','Reporting_PHU_Longitude']] = min_scaler.fit_transform(X_n[['Reporting_PHU_Latitude','Reporting_PHU_Longitude']])\n",
        "X_train_n, X_test_n, y_train_n, y_test_n = train_test_split(X_n, y, test_size=0.2, random_state=0)\n",
        "X_val_n, X_test_n, y_val_n, y_test_n = train_test_split(X_test_n, y_test_n, test_size=0.5, random_state=0)"
      ],
      "execution_count": null,
      "outputs": []
    },
    {
      "cell_type": "markdown",
      "metadata": {
        "id": "Ad2TZfYgDs_O"
      },
      "source": [
        "# Model Training"
      ]
    },
    {
      "cell_type": "code",
      "metadata": {
        "id": "RUvuRnyKDs_O"
      },
      "source": [
        "# !pip install keras\n",
        "# !pip install tensorflow\n",
        "from keras.models import Sequential\n",
        "from keras.layers import Dense,Dropout\n",
        "from keras.callbacks import EarlyStopping\n",
        "from keras.callbacks import Callback\n",
        "from keras.callbacks import ReduceLROnPlateau\n",
        "import tensorflow as tf\n",
        "# from keras.callbacks import LearningRateMonitor\n",
        "import keras  \n",
        "from sklearn.model_selection import GridSearchCV\n",
        "from keras.utils.vis_utils import plot_model\n",
        "early_stop = EarlyStopping(patience=2)\n"
      ],
      "execution_count": 45,
      "outputs": []
    },
    {
      "cell_type": "markdown",
      "metadata": {
        "id": "QEbtCJs_ZrtQ"
      },
      "source": [
        "\n",
        "\n",
        "\n",
        "\n",
        "## MODEL 1-DNN - DESCRIPTION:"
      ]
    },
    {
      "cell_type": "markdown",
      "metadata": {
        "id": "nTLpHuSgB834"
      },
      "source": [
        "\n",
        "\n",
        "### Network architecture: \n",
        "###### LAYER-1 (Input Layer): \n",
        "The first layer is the input layer whih directly sees the input and have fully connected 12 neurons. The Initialization function is taken as he_normal as it is widely used in the literature and takes care of the vanishing/exploding gradient. We have used ReLU as non-linear actiation for this layer\n",
        "\n",
        "###### LAYER-2 (Hidden Layer 1): \n",
        "The second layer is the first hidden layer with fully connected 8 neurons and intialization function as he_normal. We have used ReLU as non-linear actiation for this layer\n",
        "\n",
        "###### LAYER-3 (Hidden Layer 2):  \n",
        "The third layer is the second hidden layer with fully connected 5 neurons and intialization function as he_normal. We have used ReLU as non-linear actiation for this layer \n",
        "\n",
        "###### LAYER-4 (Output Layer): \n",
        "\n",
        "Since we have to classify our data into three category, we have 3 neurons in the output layer with softmax acyivation function to assign probability for each category. Also we have used he_normal as initialization weight.\n",
        "\n",
        "### Optimizers: \n",
        "Model was compiled with optimizer as adam  with loss as sparse_categorical_crossentropy and metrics is taken as accuracy.Adam is the best among the adaptive optimizers in most of the cases. Good with sparse data: the adaptive learning rate is perfect for this type of datasets.\n",
        "\n",
        "### Activation functions:\n",
        "1. ReLu: The rectified linear activation function overcomes the vanishing gradient problem, allowing models to learn faster and perform better. The rectified linear activation is the default activation when developing Deep fully connected neural networks.\n",
        "2. Softmax: The softmax is very useful because it converts the scores to a normalized probability distribution, which can be displayed to a user or used as input to other systems. For this reason it is usual to append a softmax function as the final layer of the neural network.\n",
        "\n",
        "### Regularization methods:\n",
        "Early stopping is a kind of cross-validation strategy where we keep one part of the training set as the validation set. When we see that the performance on the validation set is getting worse, we immediately stop the training on the model\n",
        "\n",
        "\n",
        "### Design choice:\n",
        "This is shallow full connected Neural network with same Initialization weight and  Activation function in all layers excpt outpyt layer. Total parameters to be trained are 287 and we have minimum no of layers compared to other models."
      ]
    },
    {
      "cell_type": "code",
      "metadata": {
        "id": "PkoQp4emDs_O"
      },
      "source": [
        "# Model 1\n",
        "seed = 7\n",
        "np.random.seed(seed)\n",
        "model_1 = Sequential()\n",
        "\n",
        "model_1.add(Dense(12, activation='relu', kernel_initializer='he_normal' ,input_shape=(9,)))\n",
        "model_1.add(Dense(8, activation='relu', kernel_initializer='he_normal'))\n",
        "model_1.add(Dense(5, activation='relu', kernel_initializer='he_normal'))\n",
        "model_1.add(Dense(3,kernel_initializer='he_normal', activation='softmax'))\n",
        "\n",
        "model_1.compile(optimizer='adam', loss='sparse_categorical_crossentropy', metrics=['accuracy'])\n",
        "# fit the model\n",
        "# rlrp = ReduceLROnPlateau(monitor='val_loss', factor=0.1, patience=2, min_delta=1E-7)\n",
        "# lrm = LearningRateMonitor()\n",
        "# history = model_1.fit(X_train_z, y_train_z, epochs=50, batch_size=16, verbose=0 ,validation_data = (X_val_z,y_val_z))#, callbacks=EarlyStopping(patience=2))\n",
        "\n",
        "\n",
        "\n",
        "# plt.plot(history.history['accuracy'], label='train')\n",
        "# plt.plot(history.history['val_accuracy'], label='val')\n",
        "# plt.legend()\n",
        "# evaluate the model\n",
        "# loss, acc = model.evaluate(X_val_z, y_val_z, verbose=0)\n",
        "# print('Validation Accuracy: %.3f' % acc)\n",
        "# max(history.history['val_accuracy'])\n",
        "# sum(history.history['val_accuracy'])/len(history.history['val_accuracy'])\n"
      ],
      "execution_count": 46,
      "outputs": []
    },
    {
      "cell_type": "code",
      "metadata": {
        "colab": {
          "base_uri": "https://localhost:8080/"
        },
        "id": "W3P3Rj8U_PQg",
        "outputId": "35c9d688-67b7-4dcd-cc9d-da467bf54523"
      },
      "source": [
        "model_1.summary()"
      ],
      "execution_count": 47,
      "outputs": [
        {
          "output_type": "stream",
          "text": [
            "Model: \"sequential\"\n",
            "_________________________________________________________________\n",
            "Layer (type)                 Output Shape              Param #   \n",
            "=================================================================\n",
            "dense (Dense)                (None, 12)                120       \n",
            "_________________________________________________________________\n",
            "dense_1 (Dense)              (None, 8)                 104       \n",
            "_________________________________________________________________\n",
            "dense_2 (Dense)              (None, 5)                 45        \n",
            "_________________________________________________________________\n",
            "dense_3 (Dense)              (None, 3)                 18        \n",
            "=================================================================\n",
            "Total params: 287\n",
            "Trainable params: 287\n",
            "Non-trainable params: 0\n",
            "_________________________________________________________________\n"
          ],
          "name": "stdout"
        }
      ]
    },
    {
      "cell_type": "code",
      "metadata": {
        "colab": {
          "base_uri": "https://localhost:8080/",
          "height": 533
        },
        "id": "4V9Tp6bk_cbY",
        "outputId": "46306b19-6333-40e1-89f1-068c74ea9a81"
      },
      "source": [
        "plot_model(model_1, show_shapes=True, show_dtype=True, expand_nested=True,to_file='MODEL_1_CNN.png') "
      ],
      "execution_count": 49,
      "outputs": [
        {
          "output_type": "execute_result",
          "data": {
            "image/png": "[encoded data removed]",
            "text/plain": [
              "<IPython.core.display.Image object>"
            ]
          },
          "metadata": {
            "tags": []
          },
          "execution_count": 49
        }
      ]
    },
    {
      "cell_type": "markdown",
      "metadata": {
        "id": "7vy2JcWNZ6gV"
      },
      "source": [
        "## MODEL 2-DNN - DESCRIPTION:\n"
      ]
    },
    {
      "cell_type": "markdown",
      "metadata": {
        "id": "ztVgcU9qIJ14"
      },
      "source": [
        "\n",
        "### Network architecture: \n",
        "###### LAYER-1 (Input Layer): \n",
        "The first layer is the input layer whih directly sees the input and have fully connected 20 neurons. The Initialization function is taken as normal to divide the initialization weight normally. We have used ReLU as non-linear actiation for this layer\n",
        "\n",
        "###### LAYER-2 (Hidden Layer 1): \n",
        "The second layer is the first hidden layer with fully connected 8 neurons and intialization function as he_normal to compensate the problem of exploding/vanishing gradient. We have used tanh as non-linear actiation for this layer.\n",
        "\n",
        "###### LAYER-3 (Hidden Layer 2):  \n",
        "The third layer is the second hidden layer with fully connected 12 neurons and intialization function as he_normal. We have used tanh as non-linear actiation for this layer.\n",
        "\n",
        "###### LAYER-4 (Hidden Layer 3):  \n",
        "The fourth layer is the third hidden layer with fully connected 12 neurons and intialization function as normal. We have used ReLU as non-linear actiation for this layer.\n",
        "\n",
        "###### LAYER-5 (Hidden Layer 4):  \n",
        "The fifth layer is the second hidden layer with fully connected 12 neurons and intialization function as he_normal. We have used tanh as non-linear actiation for this layer.\n",
        "\n",
        "###### LAYER-6 (Hidden Layer 5):  \n",
        "The sixth layer is the second hidden layer with fully connected 5 neurons and intialization function as normal. We have used ReLU as non-linear actiation for this layer.\n",
        "\n",
        "###### LAYER-7 (Output Layer): \n",
        "\n",
        "Since we have to classify our data into three category, we have 3 neurons in the output layer with softmax acyivation function to assign probability for each category. Also we have used he_normal as initialization weight.\n",
        "\n",
        "### Optimizers: \n",
        "Model was compiled with optimizer as adam  with loss as sparse_categorical_crossentropy and metrics is taken as accuracy.Adam is the best among the adaptive optimizers in most of the cases. Good with sparse data: the adaptive learning rate is perfect for this type of datasets.\n",
        "\n",
        "### Activation functions:\n",
        "1. ReLu: The rectified linear activation function overcomes the vanishing gradient problem, allowing models to learn faster and perform better. The rectified linear activation is the default activation when developing Deep fully connected neural networks.\n",
        "2. tanh:The hyperbolic tangenet activation function works with gradient descent and helps in converging the dataset quite quicly as the output is centered around 0.\n",
        "3. Softmax: The softmax is very useful because it converts the scores to a normalized probability distribution, which can be displayed to a user or used as input to other systems. For this reason it is usual to append a softmax function as the final layer of the neural network.\n",
        "\n",
        "### Regularization methods:\n",
        "Early stopping is a kind of cross-validation strategy where we keep one part of the training set as the validation set. When we see that the performance on the validation set is getting worse, we immediately stop the training on the model\n",
        "\n",
        "\n",
        "### Design choice:\n",
        "This is deep full connected Neural network with deifferent Initialization weight and  Activation function in each layers. Total parameters to be trained are 871. "
      ]
    },
    {
      "cell_type": "code",
      "metadata": {
        "id": "e9g6rNTYHbKW"
      },
      "source": [
        "#model 2\n",
        "seed = 7\n",
        "np.random.seed(seed)\n",
        "model_2 = Sequential()\n",
        "\n",
        "model_2.add(Dense(20, activation='relu', kernel_initializer='normal' ,input_shape=(9,)))\n",
        "model_2.add(Dense(8, activation= 'tanh', kernel_initializer='he_normal'))\n",
        "model_2.add(Dense(12, activation='tanh', kernel_initializer='he_normal'))\n",
        "model_2.add(Dense(12, activation='relu', kernel_initializer='normal'))\n",
        "model_2.add(Dense(12, activation='tanh', kernel_initializer='he_normal'))\n",
        "model_2.add(Dense(5, activation='relu', kernel_initializer='normal'))\n",
        "model_2.add(Dense(3,kernel_initializer='he_normal', activation='softmax'))\n",
        "\n",
        "model_2.compile(optimizer='adam', loss='sparse_categorical_crossentropy', metrics=['accuracy'])\n",
        "# fit the model\n",
        "# rlrp = ReduceLROnPlateau(monitor='val_loss', factor=0.1, patience=2, min_delta=1E-7)\n",
        "# lrm = LearningRateMonitor()\n",
        "# history = model_2.fit(X_train_z, y_train_z, epochs=50, batch_size=8, verbose=0 ,validation_data = (X_val_z,y_val_z))#, callbacks=EarlyStopping(patience=2))\n",
        "\n",
        "\n",
        "\n",
        "# plt.plot(history.history['accuracy'], label='train')\n",
        "# plt.plot(history.history['val_accuracy'], label='val')\n",
        "# plt.legend()\n",
        "# evaluate the model\n",
        "# loss, acc = model.evaluate(X_val_z, y_val_z, verbose=0)\n",
        "# print('Validation Accuracy: %.3f' % acc)\n",
        "# max(history.history['val_accuracy'])\n",
        "# sum(history.history['val_accuracy'])/len(history.history['val_accuracy'])\n"
      ],
      "execution_count": 50,
      "outputs": []
    },
    {
      "cell_type": "code",
      "metadata": {
        "colab": {
          "base_uri": "https://localhost:8080/"
        },
        "id": "eYPkPaZiIGRV",
        "outputId": "c715c336-ac9b-47b4-ef98-1539d6ea3e43"
      },
      "source": [
        "model_2.summary()"
      ],
      "execution_count": 51,
      "outputs": [
        {
          "output_type": "stream",
          "text": [
            "Model: \"sequential_1\"\n",
            "_________________________________________________________________\n",
            "Layer (type)                 Output Shape              Param #   \n",
            "=================================================================\n",
            "dense_4 (Dense)              (None, 20)                200       \n",
            "_________________________________________________________________\n",
            "dense_5 (Dense)              (None, 8)                 168       \n",
            "_________________________________________________________________\n",
            "dense_6 (Dense)              (None, 12)                108       \n",
            "_________________________________________________________________\n",
            "dense_7 (Dense)              (None, 12)                156       \n",
            "_________________________________________________________________\n",
            "dense_8 (Dense)              (None, 12)                156       \n",
            "_________________________________________________________________\n",
            "dense_9 (Dense)              (None, 5)                 65        \n",
            "_________________________________________________________________\n",
            "dense_10 (Dense)             (None, 3)                 18        \n",
            "=================================================================\n",
            "Total params: 871\n",
            "Trainable params: 871\n",
            "Non-trainable params: 0\n",
            "_________________________________________________________________\n"
          ],
          "name": "stdout"
        }
      ]
    },
    {
      "cell_type": "code",
      "metadata": {
        "colab": {
          "base_uri": "https://localhost:8080/",
          "height": 865
        },
        "id": "cfqsvVj_IIZ3",
        "outputId": "6afb7118-c28d-41f8-c7e9-024b16427c2c"
      },
      "source": [
        "plot_model(model_2, show_shapes=True, show_dtype=True, expand_nested=True,to_file='MODEL_1_CNN.png') "
      ],
      "execution_count": 52,
      "outputs": [
        {
          "output_type": "execute_result",
          "data": {
            "image/png": "[encoded data removed]",
            "text/plain": [
              "<IPython.core.display.Image object>"
            ]
          },
          "metadata": {
            "tags": []
          },
          "execution_count": 52
        }
      ]
    },
    {
      "cell_type": "markdown",
      "metadata": {
        "id": "TaCNnn1YaGdV"
      },
      "source": [
        "## MODEL 3-DNN - DESCRIPTION:\n"
      ]
    },
    {
      "cell_type": "markdown",
      "metadata": {
        "id": "H8iJedkCQLUf"
      },
      "source": [
        "\n",
        "### Network architecture: \n",
        "###### LAYER-1 (Input Layer): \n",
        "The first layer is the input layer whih directly sees the input and have fully connected 20 neurons. The Initialization function is taken as he_normal to compensate the problem of exploding/vanishing gradient. We have used ReLU as non-linear actiation for this layer\n",
        "\n",
        "###### LAYER-2 (Hidden Layer 1): \n",
        "The second layer is the first hidden layer with fully connected 8 neurons and intialization function as he_normal. We have used ReLU as non-linear actiation for this layer.\n",
        "\n",
        "###### LAYER-3 (Hidden Layer 2):  \n",
        "The third layer is the second hidden layer with fully connected 12 neurons and intialization function as he_normal. We have used ReLU as non-linear actiation for this layer.\n",
        "\n",
        "###### LAYER-4 (Hidden Layer 3):  \n",
        "The fourth layer is the third hidden layer with fully connected 5 neurons and intialization function as he_normal. We have used ReLU as non-linear actiation for this layer.\n",
        "\n",
        "###### LAYER-5 (Output Layer): \n",
        "\n",
        "Since we have to classify our data into three category, we have 3 neurons in the output layer with softmax acyivation function to assign probability for each category. Also we have used he_normal as initialization weight.\n",
        "\n",
        "### Optimizers: \n",
        "Model was compiled with optimizer as adam  with loss as sparse_categorical_crossentropy and metrics is taken as accuracy.Adam is the best among the adaptive optimizers in most of the cases. Good with sparse data: the adaptive learning rate is perfect for this type of datasets.\n",
        "\n",
        "### Activation functions:\n",
        "1. ReLu: The rectified linear activation function overcomes the vanishing gradient problem, allowing models to learn faster and perform better. The rectified linear activation is the default activation when developing Deep fully connected neural networks.\n",
        "2. Softmax: The softmax is very useful because it converts the scores to a normalized probability distribution, which can be displayed to a user or used as input to other systems. For this reason it is usual to append a softmax function as the final layer of the neural network.\n",
        "\n",
        "### Regularization methods:\n",
        "Early stopping is a kind of cross-validation strategy where we keep one part of the training set as the validation set. When we see that the performance on the validation set is getting worse, we immediately stop the training on the model\n",
        "\n",
        "\n",
        "### Design choice:\n",
        "This is deep full connected Neural network with same Initialization weight and  Activation function in all layers excpt outpyt layer. Total parameters to be trained are 559."
      ]
    },
    {
      "cell_type": "code",
      "metadata": {
        "id": "umfFWBu6wyiv"
      },
      "source": [
        "#model 3\n",
        "seed = 7\n",
        "np.random.seed(seed)\n",
        "model_3 = Sequential()\n",
        "\n",
        "model_3.add(Dense(20, activation='relu', kernel_initializer='he_normal' ,input_shape=(9,)))\n",
        "model_3.add(Dense(8, activation= 'relu', kernel_initializer='he_normal'))\n",
        "model_3.add(Dense(12, activation='relu', kernel_initializer='he_normal'))\n",
        "model_3.add(Dense(5, activation='relu', kernel_initializer='he_normal'))\n",
        "model_3.add(Dense(3,kernel_initializer='he_normal', activation='softmax'))\n",
        "\n",
        "model_3.compile(optimizer='adam', loss='sparse_categorical_crossentropy', metrics=['accuracy'])\n",
        "# fit the model\n",
        "# rlrp = ReduceLROnPlateau(monitor='val_loss', factor=0.1, patience=2, min_delta=1E-7)\n",
        "# lrm = LearningRateMonitor()\n",
        "# history = model_3.fit(X_train_z, y_train_z, epochs=50, batch_size=8, verbose=0 ,validation_data = (X_val_z,y_val_z))#, callbacks=EarlyStopping(patience=2))\n",
        "\n",
        "\n",
        "\n",
        "# plt.plot(history.history['accuracy'], label='train')\n",
        "# plt.plot(history.history['val_accuracy'], label='val')\n",
        "# plt.legend()\n",
        "# evaluate the model\n",
        "# loss, acc = model.evaluate(X_val_z, y_val_z, verbose=0)\n",
        "# print('Validation Accuracy: %.3f' % acc)\n",
        "# max(history.history['val_accuracy'])\n",
        "# sum(history.history['val_accuracy'])/len(history.history['val_accuracy'])\n"
      ],
      "execution_count": 53,
      "outputs": []
    },
    {
      "cell_type": "code",
      "metadata": {
        "colab": {
          "base_uri": "https://localhost:8080/"
        },
        "id": "im59Ll3bQLK6",
        "outputId": "318078ce-e5ba-4792-aec4-be005293eb93"
      },
      "source": [
        "model_3.summary()"
      ],
      "execution_count": 54,
      "outputs": [
        {
          "output_type": "stream",
          "text": [
            "Model: \"sequential_2\"\n",
            "_________________________________________________________________\n",
            "Layer (type)                 Output Shape              Param #   \n",
            "=================================================================\n",
            "dense_11 (Dense)             (None, 20)                200       \n",
            "_________________________________________________________________\n",
            "dense_12 (Dense)             (None, 8)                 168       \n",
            "_________________________________________________________________\n",
            "dense_13 (Dense)             (None, 12)                108       \n",
            "_________________________________________________________________\n",
            "dense_14 (Dense)             (None, 5)                 65        \n",
            "_________________________________________________________________\n",
            "dense_15 (Dense)             (None, 3)                 18        \n",
            "=================================================================\n",
            "Total params: 559\n",
            "Trainable params: 559\n",
            "Non-trainable params: 0\n",
            "_________________________________________________________________\n"
          ],
          "name": "stdout"
        }
      ]
    },
    {
      "cell_type": "code",
      "metadata": {
        "colab": {
          "base_uri": "https://localhost:8080/",
          "height": 644
        },
        "id": "Tlw4v8xCQLNm",
        "outputId": "ab32501f-7798-4ac5-d56b-8fa91f8595e6"
      },
      "source": [
        "plot_model(model_3, show_shapes=True, show_dtype=True, expand_nested=True,to_file='MODEL_1_CNN.png') "
      ],
      "execution_count": 55,
      "outputs": [
        {
          "output_type": "execute_result",
          "data": {
            "image/png": "[encoded data removed]",
            "text/plain": [
              "<IPython.core.display.Image object>"
            ]
          },
          "metadata": {
            "tags": []
          },
          "execution_count": 55
        }
      ]
    },
    {
      "cell_type": "markdown",
      "metadata": {
        "id": "qt-z_da7_Uuo"
      },
      "source": [
        "# CM3"
      ]
    },
    {
      "cell_type": "markdown",
      "metadata": {
        "id": "N4dMLSdmMFkO"
      },
      "source": [
        "### Part 1"
      ]
    },
    {
      "cell_type": "markdown",
      "metadata": {
        "id": "DWHtOj0y_aJr"
      },
      "source": [
        "We will be checkig the fit time between the models"
      ]
    },
    {
      "cell_type": "code",
      "metadata": {
        "colab": {
          "base_uri": "https://localhost:8080/",
          "height": 135
        },
        "id": "vhFFO5NJ_hyn",
        "outputId": "ce220ee3-214e-4496-cc96-867b0d681e1a"
      },
      "source": [
        "fit_time = pd.read_csv(\"Fit time.csv\")\n",
        "fit_time.head()"
      ],
      "execution_count": 56,
      "outputs": [
        {
          "output_type": "execute_result",
          "data": {
            "text/html": [
              "<div>\n",
              "<style scoped>\n",
              "    .dataframe tbody tr th:only-of-type {\n",
              "        vertical-align: middle;\n",
              "    }\n",
              "\n",
              "    .dataframe tbody tr th {\n",
              "        vertical-align: top;\n",
              "    }\n",
              "\n",
              "    .dataframe thead th {\n",
              "        text-align: right;\n",
              "    }\n",
              "</style>\n",
              "<table border=\"1\" class=\"dataframe\">\n",
              "  <thead>\n",
              "    <tr style=\"text-align: right;\">\n",
              "      <th></th>\n",
              "      <th>Model</th>\n",
              "      <th>Fit time(sec)</th>\n",
              "      <th>Parameters</th>\n",
              "    </tr>\n",
              "  </thead>\n",
              "  <tbody>\n",
              "    <tr>\n",
              "      <th>0</th>\n",
              "      <td>1</td>\n",
              "      <td>37</td>\n",
              "      <td>287</td>\n",
              "    </tr>\n",
              "    <tr>\n",
              "      <th>1</th>\n",
              "      <td>2</td>\n",
              "      <td>77</td>\n",
              "      <td>871</td>\n",
              "    </tr>\n",
              "    <tr>\n",
              "      <th>2</th>\n",
              "      <td>3</td>\n",
              "      <td>72</td>\n",
              "      <td>559</td>\n",
              "    </tr>\n",
              "  </tbody>\n",
              "</table>\n",
              "</div>"
            ],
            "text/plain": [
              "   Model  Fit time(sec)  Parameters\n",
              "0      1             37         287\n",
              "1      2             77         871\n",
              "2      3             72         559"
            ]
          },
          "metadata": {
            "tags": []
          },
          "execution_count": 56
        }
      ]
    },
    {
      "cell_type": "code",
      "metadata": {
        "colab": {
          "base_uri": "https://localhost:8080/",
          "height": 283
        },
        "id": "0e4jWXt2_qZV",
        "outputId": "41b21bd5-54e9-4154-cd14-980735de9043"
      },
      "source": [
        "fig, ax1 = plt.subplots()\n",
        "color = 'tab:red'\n",
        "\n",
        "ax1.set_xlabel('Models')\n",
        "ax1.set_ylabel('Fit_time', color=color)\n",
        "ax1.plot(fit_time['Fit time(sec)'], label = 'fit Time(sec)', color = color)\n",
        "ax1.set_ylim(0,90)\n",
        "ax1.tick_params(axis='y', labelcolor=color)\n",
        "\n",
        "ax2 = ax1.twinx()  # instantiate a second axes that shares the same x-axis\n",
        "\n",
        "color = 'tab:blue'\n",
        "ax2.set_ylabel('Parameters', color = color)  # we already handled the x-label with ax1\n",
        "ax2.plot(fit_time['Parameters'], label = 'Parameters', color = color)\n",
        "ax2.set_ylim(200,1100)\n",
        "ax2.tick_params(axis='y', labelcolor=color)"
      ],
      "execution_count": 57,
      "outputs": [
        {
          "output_type": "display_data",
          "data": {
            "image/png": "[encoded data removed]",
            "text/plain": [
              "<Figure size 432x288 with 2 Axes>"
            ]
          },
          "metadata": {
            "tags": [],
            "needs_background": "light"
          }
        }
      ]
    },
    {
      "cell_type": "markdown",
      "metadata": {
        "id": "HSGS-Q7CHnb8"
      },
      "source": [
        "As we can see that the run time increases wth the increase in parameters, so we can see that fit time for the model with deep layers and higher parameters is quite high and the model with less hidden layers and less parameters are fitting quickly."
      ]
    },
    {
      "cell_type": "markdown",
      "metadata": {
        "id": "bGeMnWFfMEby"
      },
      "source": [
        "### Part 2"
      ]
    },
    {
      "cell_type": "markdown",
      "metadata": {
        "id": "RbF3PsyhWscF"
      },
      "source": [
        "#### Model 1"
      ]
    },
    {
      "cell_type": "code",
      "metadata": {
        "id": "eFiztFU1MBza"
      },
      "source": [
        "from collections import defaultdict\n",
        "\n",
        "def def_value():\n",
        "    return \"NA\"\n",
        "      \n",
        "def get_param_configuration(model, X_train,y_train,X_val,y_val):\n",
        "  param_dictionary = defaultdict(def_value)\n",
        "  best_param_list=pd.DataFrame([]);\n",
        "  list_of_epoch=[10,20] #,50,100,150\n",
        "  list_of_batchsize=[8,16,32,64]#,32,64,128\n",
        "  # bs=8\n",
        "  for n in list_of_epoch:\n",
        "    for bs in list_of_batchsize:\n",
        "      model_clone = tf.keras.models.clone_model(model)\n",
        "      early_stop = EarlyStopping(patience=2)\n",
        "      model_clone.compile(loss='sparse_categorical_crossentropy',optimizer='Adam',metrics=['accuracy'])\n",
        "      history=model_clone.fit(X_train_z, y_train_z, epochs=n,batch_size=bs,validation_data=(X_val_z, y_val_z),callbacks=early_stop) \n",
        "      average_accuracy=sum(history.history['val_accuracy'])/len(history.history['val_accuracy'])\n",
        "      average_loss =sum(history.history['val_loss'])/len(history.history['val_loss'])\n",
        "      no_of_epoch_original=n\n",
        "      batch_size=bs\n",
        "      no_of_epoch=len(history.history['loss'])\n",
        "      param_dictionary['Model']='1'\n",
        "      param_dictionary['no_of_epoch_original']=no_of_epoch_original\n",
        "      param_dictionary['no_of_epoch']=no_of_epoch\n",
        "      param_dictionary['batch_size']=batch_size\n",
        "      param_dictionary['val_accuracy']=history.history['val_accuracy'][-1]\n",
        "      param_dictionary['val_loss']=history.history['val_loss'][-1]\n",
        "      #param_dictionary['average_accuracy']=average_accuracy\n",
        "      #param_dictionary['average_loss']=average_loss\n",
        "      best_param_list=best_param_list.append(param_dictionary,ignore_index=True)#sort=False,\n",
        "  return best_param_list"
      ],
      "execution_count": 58,
      "outputs": []
    },
    {
      "cell_type": "code",
      "metadata": {
        "colab": {
          "base_uri": "https://localhost:8080/",
          "height": 1000
        },
        "id": "vRlxiG7sNx2s",
        "outputId": "444cf5a7-d686-4712-c32b-3f9688e728df"
      },
      "source": [
        "best_param_list=get_param_configuration(model_1,X_train_z,y_train_z,X_val_z,y_val_z)\n",
        "best_param_list"
      ],
      "execution_count": 59,
      "outputs": [
        {
          "output_type": "stream",
          "text": [
            "Epoch 1/10\n",
            "1486/1486 [==============================] - 4s 2ms/step - loss: 1.0769 - accuracy: 0.5195 - val_loss: 0.7678 - val_accuracy: 0.6312\n",
            "Epoch 2/10\n",
            "1486/1486 [==============================] - 3s 2ms/step - loss: 0.7649 - accuracy: 0.6136 - val_loss: 0.7462 - val_accuracy: 0.6528\n",
            "Epoch 3/10\n",
            "1486/1486 [==============================] - 3s 2ms/step - loss: 0.7297 - accuracy: 0.6474 - val_loss: 0.7402 - val_accuracy: 0.6494\n",
            "Epoch 4/10\n",
            "1486/1486 [==============================] - 3s 2ms/step - loss: 0.7123 - accuracy: 0.6556 - val_loss: 0.7339 - val_accuracy: 0.6507\n",
            "Epoch 5/10\n",
            "1486/1486 [==============================] - 3s 2ms/step - loss: 0.7213 - accuracy: 0.6463 - val_loss: 0.7290 - val_accuracy: 0.6602\n",
            "Epoch 6/10\n",
            "1486/1486 [==============================] - 3s 2ms/step - loss: 0.7299 - accuracy: 0.6456 - val_loss: 0.7309 - val_accuracy: 0.6494\n",
            "Epoch 7/10\n",
            "1486/1486 [==============================] - 2s 2ms/step - loss: 0.7241 - accuracy: 0.6495 - val_loss: 0.7378 - val_accuracy: 0.6474\n",
            "Epoch 1/10\n",
            "743/743 [==============================] - 2s 2ms/step - loss: 1.5567 - accuracy: 0.4216 - val_loss: 0.7947 - val_accuracy: 0.6016\n",
            "Epoch 2/10\n",
            "743/743 [==============================] - 2s 2ms/step - loss: 0.7677 - accuracy: 0.6040 - val_loss: 0.7470 - val_accuracy: 0.6097\n",
            "Epoch 3/10\n",
            "743/743 [==============================] - 1s 2ms/step - loss: 0.7347 - accuracy: 0.6162 - val_loss: 0.7502 - val_accuracy: 0.6279\n",
            "Epoch 4/10\n",
            "743/743 [==============================] - 1s 2ms/step - loss: 0.7387 - accuracy: 0.6296 - val_loss: 0.7407 - val_accuracy: 0.6353\n",
            "Epoch 5/10\n",
            "743/743 [==============================] - 1s 2ms/step - loss: 0.7351 - accuracy: 0.6319 - val_loss: 0.7362 - val_accuracy: 0.6447\n",
            "Epoch 6/10\n",
            "743/743 [==============================] - 1s 2ms/step - loss: 0.7271 - accuracy: 0.6395 - val_loss: 0.7372 - val_accuracy: 0.6534\n",
            "Epoch 7/10\n",
            "743/743 [==============================] - 2s 2ms/step - loss: 0.7278 - accuracy: 0.6408 - val_loss: 0.7415 - val_accuracy: 0.6487\n",
            "Epoch 1/10\n",
            "372/372 [==============================] - 1s 3ms/step - loss: 1.3522 - accuracy: 0.4293 - val_loss: 0.8958 - val_accuracy: 0.5498\n",
            "Epoch 2/10\n",
            "372/372 [==============================] - 1s 2ms/step - loss: 0.8873 - accuracy: 0.5678 - val_loss: 0.8431 - val_accuracy: 0.5949\n",
            "Epoch 3/10\n",
            "372/372 [==============================] - 1s 2ms/step - loss: 0.8312 - accuracy: 0.5971 - val_loss: 0.8101 - val_accuracy: 0.5861\n",
            "Epoch 4/10\n",
            "372/372 [==============================] - 1s 2ms/step - loss: 0.8055 - accuracy: 0.5971 - val_loss: 0.7908 - val_accuracy: 0.5962\n",
            "Epoch 5/10\n",
            "372/372 [==============================] - 1s 2ms/step - loss: 0.7860 - accuracy: 0.6075 - val_loss: 0.7790 - val_accuracy: 0.5996\n",
            "Epoch 6/10\n",
            "372/372 [==============================] - 1s 2ms/step - loss: 0.7735 - accuracy: 0.6041 - val_loss: 0.7775 - val_accuracy: 0.5976\n",
            "Epoch 7/10\n",
            "372/372 [==============================] - 1s 2ms/step - loss: 0.7690 - accuracy: 0.6129 - val_loss: 0.7688 - val_accuracy: 0.6057\n",
            "Epoch 8/10\n",
            "372/372 [==============================] - 1s 2ms/step - loss: 0.7527 - accuracy: 0.6273 - val_loss: 0.7593 - val_accuracy: 0.6178\n",
            "Epoch 9/10\n",
            "372/372 [==============================] - 1s 2ms/step - loss: 0.7453 - accuracy: 0.6323 - val_loss: 0.7548 - val_accuracy: 0.6332\n",
            "Epoch 10/10\n",
            "372/372 [==============================] - 1s 2ms/step - loss: 0.7490 - accuracy: 0.6397 - val_loss: 0.7493 - val_accuracy: 0.6440\n",
            "Epoch 1/10\n",
            "186/186 [==============================] - 1s 4ms/step - loss: 2.0308 - accuracy: 0.3843 - val_loss: 0.9498 - val_accuracy: 0.5464\n",
            "Epoch 2/10\n",
            "186/186 [==============================] - 0s 2ms/step - loss: 0.9408 - accuracy: 0.5546 - val_loss: 0.8929 - val_accuracy: 0.5579\n",
            "Epoch 3/10\n",
            "186/186 [==============================] - 0s 2ms/step - loss: 0.8818 - accuracy: 0.5798 - val_loss: 0.8527 - val_accuracy: 0.5693\n",
            "Epoch 4/10\n",
            "186/186 [==============================] - 0s 2ms/step - loss: 0.8486 - accuracy: 0.5822 - val_loss: 0.8239 - val_accuracy: 0.5888\n",
            "Epoch 5/10\n",
            "186/186 [==============================] - 0s 2ms/step - loss: 0.8143 - accuracy: 0.5928 - val_loss: 0.8011 - val_accuracy: 0.5888\n",
            "Epoch 6/10\n",
            "186/186 [==============================] - 0s 2ms/step - loss: 0.7957 - accuracy: 0.5889 - val_loss: 0.7903 - val_accuracy: 0.6009\n",
            "Epoch 7/10\n",
            "186/186 [==============================] - 0s 2ms/step - loss: 0.7752 - accuracy: 0.6104 - val_loss: 0.7710 - val_accuracy: 0.6151\n",
            "Epoch 8/10\n",
            "186/186 [==============================] - 0s 2ms/step - loss: 0.7596 - accuracy: 0.6158 - val_loss: 0.7611 - val_accuracy: 0.6292\n",
            "Epoch 9/10\n",
            "186/186 [==============================] - 0s 2ms/step - loss: 0.7607 - accuracy: 0.6248 - val_loss: 0.7545 - val_accuracy: 0.6353\n",
            "Epoch 10/10\n",
            "186/186 [==============================] - 0s 2ms/step - loss: 0.7490 - accuracy: 0.6320 - val_loss: 0.7526 - val_accuracy: 0.6346\n",
            "Epoch 1/20\n",
            "1486/1486 [==============================] - 4s 2ms/step - loss: 0.9617 - accuracy: 0.4896 - val_loss: 0.7756 - val_accuracy: 0.6016\n",
            "Epoch 2/20\n",
            "1486/1486 [==============================] - 3s 2ms/step - loss: 0.7565 - accuracy: 0.5950 - val_loss: 0.7550 - val_accuracy: 0.6050\n",
            "Epoch 3/20\n",
            "1486/1486 [==============================] - 3s 2ms/step - loss: 0.7459 - accuracy: 0.6165 - val_loss: 0.7421 - val_accuracy: 0.6528\n",
            "Epoch 4/20\n",
            "1486/1486 [==============================] - 3s 2ms/step - loss: 0.7352 - accuracy: 0.6347 - val_loss: 0.7450 - val_accuracy: 0.6494\n",
            "Epoch 5/20\n",
            "1486/1486 [==============================] - 3s 2ms/step - loss: 0.7382 - accuracy: 0.6468 - val_loss: 0.7326 - val_accuracy: 0.6460\n",
            "Epoch 6/20\n",
            "1486/1486 [==============================] - 3s 2ms/step - loss: 0.7273 - accuracy: 0.6487 - val_loss: 0.7300 - val_accuracy: 0.6501\n",
            "Epoch 7/20\n",
            "1486/1486 [==============================] - 3s 2ms/step - loss: 0.7205 - accuracy: 0.6610 - val_loss: 0.7286 - val_accuracy: 0.6501\n",
            "Epoch 8/20\n",
            "1486/1486 [==============================] - 3s 2ms/step - loss: 0.7238 - accuracy: 0.6502 - val_loss: 0.7276 - val_accuracy: 0.6480\n",
            "Epoch 9/20\n",
            "1486/1486 [==============================] - 3s 2ms/step - loss: 0.7193 - accuracy: 0.6556 - val_loss: 0.7233 - val_accuracy: 0.6595\n",
            "Epoch 10/20\n",
            "1486/1486 [==============================] - 3s 2ms/step - loss: 0.7111 - accuracy: 0.6571 - val_loss: 0.7309 - val_accuracy: 0.6514\n",
            "Epoch 11/20\n",
            "1486/1486 [==============================] - 3s 2ms/step - loss: 0.7130 - accuracy: 0.6635 - val_loss: 0.7217 - val_accuracy: 0.6595\n",
            "Epoch 12/20\n",
            "1486/1486 [==============================] - 3s 2ms/step - loss: 0.7268 - accuracy: 0.6502 - val_loss: 0.7285 - val_accuracy: 0.6514\n",
            "Epoch 13/20\n",
            "1486/1486 [==============================] - 3s 2ms/step - loss: 0.7187 - accuracy: 0.6486 - val_loss: 0.7197 - val_accuracy: 0.6541\n",
            "Epoch 14/20\n",
            "1486/1486 [==============================] - 3s 2ms/step - loss: 0.7127 - accuracy: 0.6588 - val_loss: 0.7175 - val_accuracy: 0.6534\n",
            "Epoch 15/20\n",
            "1486/1486 [==============================] - 3s 2ms/step - loss: 0.7160 - accuracy: 0.6520 - val_loss: 0.7193 - val_accuracy: 0.6602\n",
            "Epoch 16/20\n",
            "1486/1486 [==============================] - 3s 2ms/step - loss: 0.7171 - accuracy: 0.6575 - val_loss: 0.7190 - val_accuracy: 0.6615\n",
            "Epoch 1/20\n",
            "743/743 [==============================] - 2s 2ms/step - loss: 0.9850 - accuracy: 0.4814 - val_loss: 0.8295 - val_accuracy: 0.5787\n",
            "Epoch 2/20\n",
            "743/743 [==============================] - 1s 2ms/step - loss: 0.8124 - accuracy: 0.5902 - val_loss: 0.7907 - val_accuracy: 0.5720\n",
            "Epoch 3/20\n",
            "743/743 [==============================] - 1s 2ms/step - loss: 0.7836 - accuracy: 0.5844 - val_loss: 0.7632 - val_accuracy: 0.6077\n",
            "Epoch 4/20\n",
            "743/743 [==============================] - 2s 2ms/step - loss: 0.7497 - accuracy: 0.5930 - val_loss: 0.7574 - val_accuracy: 0.5781\n",
            "Epoch 5/20\n",
            "743/743 [==============================] - 2s 2ms/step - loss: 0.7451 - accuracy: 0.5937 - val_loss: 0.7522 - val_accuracy: 0.6131\n",
            "Epoch 6/20\n",
            "743/743 [==============================] - 2s 2ms/step - loss: 0.7446 - accuracy: 0.6040 - val_loss: 0.7542 - val_accuracy: 0.6131\n",
            "Epoch 7/20\n",
            "743/743 [==============================] - 2s 2ms/step - loss: 0.7309 - accuracy: 0.6134 - val_loss: 0.7488 - val_accuracy: 0.6063\n",
            "Epoch 8/20\n",
            "743/743 [==============================] - 2s 3ms/step - loss: 0.7307 - accuracy: 0.6085 - val_loss: 0.7497 - val_accuracy: 0.6164\n",
            "Epoch 9/20\n",
            "743/743 [==============================] - 2s 2ms/step - loss: 0.7440 - accuracy: 0.6189 - val_loss: 0.7466 - val_accuracy: 0.6178\n",
            "Epoch 10/20\n",
            "743/743 [==============================] - 2s 2ms/step - loss: 0.7410 - accuracy: 0.6154 - val_loss: 0.7435 - val_accuracy: 0.6178\n",
            "Epoch 11/20\n",
            "743/743 [==============================] - 2s 2ms/step - loss: 0.7385 - accuracy: 0.6128 - val_loss: 0.7587 - val_accuracy: 0.6205\n",
            "Epoch 12/20\n",
            "743/743 [==============================] - 2s 2ms/step - loss: 0.7469 - accuracy: 0.6077 - val_loss: 0.7444 - val_accuracy: 0.6198\n",
            "Epoch 1/20\n",
            "372/372 [==============================] - 2s 3ms/step - loss: 1.3099 - accuracy: 0.3851 - val_loss: 0.8131 - val_accuracy: 0.6124\n",
            "Epoch 2/20\n",
            "372/372 [==============================] - 1s 3ms/step - loss: 0.7803 - accuracy: 0.6281 - val_loss: 0.7450 - val_accuracy: 0.6521\n",
            "Epoch 3/20\n",
            "372/372 [==============================] - 1s 3ms/step - loss: 0.7457 - accuracy: 0.6446 - val_loss: 0.7478 - val_accuracy: 0.6353\n",
            "Epoch 4/20\n",
            "372/372 [==============================] - 1s 2ms/step - loss: 0.7432 - accuracy: 0.6392 - val_loss: 0.7331 - val_accuracy: 0.6521\n",
            "Epoch 5/20\n",
            "372/372 [==============================] - 1s 2ms/step - loss: 0.7301 - accuracy: 0.6480 - val_loss: 0.7326 - val_accuracy: 0.6501\n",
            "Epoch 6/20\n",
            "372/372 [==============================] - 1s 2ms/step - loss: 0.7217 - accuracy: 0.6501 - val_loss: 0.7325 - val_accuracy: 0.6474\n",
            "Epoch 7/20\n",
            "372/372 [==============================] - 1s 3ms/step - loss: 0.7319 - accuracy: 0.6471 - val_loss: 0.7406 - val_accuracy: 0.6487\n",
            "Epoch 8/20\n",
            "372/372 [==============================] - 1s 3ms/step - loss: 0.7249 - accuracy: 0.6576 - val_loss: 0.7364 - val_accuracy: 0.6487\n",
            "Epoch 1/20\n",
            "186/186 [==============================] - 1s 3ms/step - loss: 1.5208 - accuracy: 0.3665 - val_loss: 0.9338 - val_accuracy: 0.5552\n",
            "Epoch 2/20\n",
            "186/186 [==============================] - 0s 3ms/step - loss: 0.9284 - accuracy: 0.5451 - val_loss: 0.8423 - val_accuracy: 0.6050\n",
            "Epoch 3/20\n",
            "186/186 [==============================] - 0s 2ms/step - loss: 0.8486 - accuracy: 0.5910 - val_loss: 0.7668 - val_accuracy: 0.6205\n",
            "Epoch 4/20\n",
            "186/186 [==============================] - 0s 3ms/step - loss: 0.7730 - accuracy: 0.6222 - val_loss: 0.7412 - val_accuracy: 0.6427\n",
            "Epoch 5/20\n",
            "186/186 [==============================] - 1s 3ms/step - loss: 0.7399 - accuracy: 0.6413 - val_loss: 0.7355 - val_accuracy: 0.6393\n",
            "Epoch 6/20\n",
            "186/186 [==============================] - 0s 2ms/step - loss: 0.7420 - accuracy: 0.6363 - val_loss: 0.7317 - val_accuracy: 0.6467\n",
            "Epoch 7/20\n",
            "186/186 [==============================] - 0s 2ms/step - loss: 0.7330 - accuracy: 0.6448 - val_loss: 0.7279 - val_accuracy: 0.6487\n",
            "Epoch 8/20\n",
            "186/186 [==============================] - 1s 3ms/step - loss: 0.7246 - accuracy: 0.6442 - val_loss: 0.7296 - val_accuracy: 0.6480\n",
            "Epoch 9/20\n",
            "186/186 [==============================] - 1s 3ms/step - loss: 0.7229 - accuracy: 0.6451 - val_loss: 0.7305 - val_accuracy: 0.6474\n"
          ],
          "name": "stdout"
        },
        {
          "output_type": "execute_result",
          "data": {
            "text/html": [
              "<div>\n",
              "<style scoped>\n",
              "    .dataframe tbody tr th:only-of-type {\n",
              "        vertical-align: middle;\n",
              "    }\n",
              "\n",
              "    .dataframe tbody tr th {\n",
              "        vertical-align: top;\n",
              "    }\n",
              "\n",
              "    .dataframe thead th {\n",
              "        text-align: right;\n",
              "    }\n",
              "</style>\n",
              "<table border=\"1\" class=\"dataframe\">\n",
              "  <thead>\n",
              "    <tr style=\"text-align: right;\">\n",
              "      <th></th>\n",
              "      <th>Model</th>\n",
              "      <th>batch_size</th>\n",
              "      <th>no_of_epoch</th>\n",
              "      <th>no_of_epoch_original</th>\n",
              "      <th>val_accuracy</th>\n",
              "      <th>val_loss</th>\n",
              "    </tr>\n",
              "  </thead>\n",
              "  <tbody>\n",
              "    <tr>\n",
              "      <th>0</th>\n",
              "      <td>1</td>\n",
              "      <td>8.0</td>\n",
              "      <td>7.0</td>\n",
              "      <td>10.0</td>\n",
              "      <td>0.647376</td>\n",
              "      <td>0.737842</td>\n",
              "    </tr>\n",
              "    <tr>\n",
              "      <th>1</th>\n",
              "      <td>1</td>\n",
              "      <td>16.0</td>\n",
              "      <td>7.0</td>\n",
              "      <td>10.0</td>\n",
              "      <td>0.648721</td>\n",
              "      <td>0.741512</td>\n",
              "    </tr>\n",
              "    <tr>\n",
              "      <th>2</th>\n",
              "      <td>1</td>\n",
              "      <td>32.0</td>\n",
              "      <td>10.0</td>\n",
              "      <td>10.0</td>\n",
              "      <td>0.644011</td>\n",
              "      <td>0.749274</td>\n",
              "    </tr>\n",
              "    <tr>\n",
              "      <th>3</th>\n",
              "      <td>1</td>\n",
              "      <td>64.0</td>\n",
              "      <td>10.0</td>\n",
              "      <td>10.0</td>\n",
              "      <td>0.634589</td>\n",
              "      <td>0.752580</td>\n",
              "    </tr>\n",
              "    <tr>\n",
              "      <th>4</th>\n",
              "      <td>1</td>\n",
              "      <td>8.0</td>\n",
              "      <td>16.0</td>\n",
              "      <td>20.0</td>\n",
              "      <td>0.661507</td>\n",
              "      <td>0.719000</td>\n",
              "    </tr>\n",
              "    <tr>\n",
              "      <th>5</th>\n",
              "      <td>1</td>\n",
              "      <td>16.0</td>\n",
              "      <td>12.0</td>\n",
              "      <td>20.0</td>\n",
              "      <td>0.619785</td>\n",
              "      <td>0.744445</td>\n",
              "    </tr>\n",
              "    <tr>\n",
              "      <th>6</th>\n",
              "      <td>1</td>\n",
              "      <td>32.0</td>\n",
              "      <td>8.0</td>\n",
              "      <td>20.0</td>\n",
              "      <td>0.648721</td>\n",
              "      <td>0.736405</td>\n",
              "    </tr>\n",
              "    <tr>\n",
              "      <th>7</th>\n",
              "      <td>1</td>\n",
              "      <td>64.0</td>\n",
              "      <td>9.0</td>\n",
              "      <td>20.0</td>\n",
              "      <td>0.647376</td>\n",
              "      <td>0.730493</td>\n",
              "    </tr>\n",
              "  </tbody>\n",
              "</table>\n",
              "</div>"
            ],
            "text/plain": [
              "  Model  batch_size  no_of_epoch  no_of_epoch_original  val_accuracy  val_loss\n",
              "0     1         8.0          7.0                  10.0      0.647376  0.737842\n",
              "1     1        16.0          7.0                  10.0      0.648721  0.741512\n",
              "2     1        32.0         10.0                  10.0      0.644011  0.749274\n",
              "3     1        64.0         10.0                  10.0      0.634589  0.752580\n",
              "4     1         8.0         16.0                  20.0      0.661507  0.719000\n",
              "5     1        16.0         12.0                  20.0      0.619785  0.744445\n",
              "6     1        32.0          8.0                  20.0      0.648721  0.736405\n",
              "7     1        64.0          9.0                  20.0      0.647376  0.730493"
            ]
          },
          "metadata": {
            "tags": []
          },
          "execution_count": 59
        }
      ]
    },
    {
      "cell_type": "code",
      "metadata": {
        "colab": {
          "base_uri": "https://localhost:8080/",
          "height": 314
        },
        "id": "P6LuUne_SXfi",
        "outputId": "9b6fda7b-b2b0-4252-8d70-6d71f7e40784"
      },
      "source": [
        "# For model 1, we will do heatmap of accuracy and loss\n",
        "best_param_list1= best_param_list.pivot(\"batch_size\", \"no_of_epoch_original\", \"val_accuracy\")\n",
        "sns.heatmap(best_param_list1, annot= True, fmt = '.3f')\n",
        "plt.title(\"Validation Accuracy for Model 1\")"
      ],
      "execution_count": 60,
      "outputs": [
        {
          "output_type": "execute_result",
          "data": {
            "text/plain": [
              "Text(0.5, 1.0, 'Validation Accuracy for Model 1')"
            ]
          },
          "metadata": {
            "tags": []
          },
          "execution_count": 60
        },
        {
          "output_type": "display_data",
          "data": {
            "image/png": "[encoded data removed]",
            "text/plain": [
              "<Figure size 432x288 with 2 Axes>"
            ]
          },
          "metadata": {
            "tags": [],
            "needs_background": "light"
          }
        }
      ]
    },
    {
      "cell_type": "code",
      "metadata": {
        "colab": {
          "base_uri": "https://localhost:8080/",
          "height": 314
        },
        "id": "hycO6SbDU5e1",
        "outputId": "f550725c-17be-4497-a403-f48aa42ed730"
      },
      "source": [
        "best_param_list2= best_param_list.pivot(\"batch_size\", \"no_of_epoch_original\", \"val_loss\")\n",
        "sns.heatmap(best_param_list2, annot= True, fmt = '.3f')\n",
        "plt.title(\"Validation Loss for Model 2\")"
      ],
      "execution_count": 61,
      "outputs": [
        {
          "output_type": "execute_result",
          "data": {
            "text/plain": [
              "Text(0.5, 1.0, 'Validation Loss for Model 2')"
            ]
          },
          "metadata": {
            "tags": []
          },
          "execution_count": 61
        },
        {
          "output_type": "display_data",
          "data": {
            "image/png": "[encoded data removed]",
            "text/plain": [
              "<Figure size 432x288 with 2 Axes>"
            ]
          },
          "metadata": {
            "tags": [],
            "needs_background": "light"
          }
        }
      ]
    },
    {
      "cell_type": "markdown",
      "metadata": {
        "id": "z7Zj7hS9sgYZ"
      },
      "source": [
        "Best Parameter for Model 1\n",
        "\n",
        "- Epoch : 20\n",
        "- Batch Size : 8"
      ]
    },
    {
      "cell_type": "markdown",
      "metadata": {
        "id": "mrvxquj0WxzO"
      },
      "source": [
        "#### Model 2"
      ]
    },
    {
      "cell_type": "code",
      "metadata": {
        "id": "pqkNwEadW9Oh"
      },
      "source": [
        "from collections import defaultdict\n",
        "\n",
        "def def_value():\n",
        "    return \"NA\"\n",
        "      \n",
        "def get_param_configuration(model, X_train,y_train,X_val,y_val):\n",
        "  param_dictionary = defaultdict(def_value)\n",
        "  best_param_list=pd.DataFrame([]);\n",
        "  list_of_epoch=[10,20] #,50,100,150\n",
        "  list_of_batchsize=[8,16,32,64]#,32,64,128\n",
        "  # bs=8\n",
        "  for n in list_of_epoch:\n",
        "    for bs in list_of_batchsize:\n",
        "      model_clone = tf.keras.models.clone_model(model)\n",
        "      early_stop = EarlyStopping(patience=2)\n",
        "      model_clone.compile(loss='sparse_categorical_crossentropy',optimizer='Adam',metrics=['accuracy'])\n",
        "      history=model_clone.fit(X_train_z, y_train_z, epochs=n,batch_size=bs,validation_data=(X_val_z, y_val_z),callbacks=early_stop) \n",
        "      average_accuracy=sum(history.history['val_accuracy'])/len(history.history['val_accuracy'])\n",
        "      average_loss =sum(history.history['val_loss'])/len(history.history['val_loss'])\n",
        "      no_of_epoch_original=n\n",
        "      batch_size=bs\n",
        "      no_of_epoch=len(history.history['loss'])\n",
        "      param_dictionary['Model']='2'\n",
        "      param_dictionary['no_of_epoch_original']=no_of_epoch_original\n",
        "      param_dictionary['no_of_epoch']=no_of_epoch\n",
        "      param_dictionary['batch_size']=batch_size\n",
        "      param_dictionary['val_accuracy']=history.history['val_accuracy'][-1]\n",
        "      param_dictionary['val_loss']=history.history['val_loss'][-1]\n",
        "      #param_dictionary['average_accuracy']=average_accuracy\n",
        "      #param_dictionary['average_loss']=average_loss\n",
        "      best_param_list=best_param_list.append(param_dictionary,ignore_index=True)#sort=False,\n",
        "  return best_param_list"
      ],
      "execution_count": 62,
      "outputs": []
    },
    {
      "cell_type": "code",
      "metadata": {
        "colab": {
          "base_uri": "https://localhost:8080/",
          "height": 1000
        },
        "id": "kAPiOGW3XHlr",
        "outputId": "c0b7defa-8ade-456b-fd87-25c61a287485"
      },
      "source": [
        "best_param_list=get_param_configuration(model_2,X_train_z,y_train_z,X_val_z,y_val_z)\n",
        "best_param_list"
      ],
      "execution_count": 63,
      "outputs": [
        {
          "output_type": "stream",
          "text": [
            "Epoch 1/10\n",
            "1486/1486 [==============================] - 4s 2ms/step - loss: 0.9482 - accuracy: 0.5248 - val_loss: 0.8066 - val_accuracy: 0.6009\n",
            "Epoch 2/10\n",
            "1486/1486 [==============================] - 3s 2ms/step - loss: 0.7938 - accuracy: 0.5922 - val_loss: 0.7761 - val_accuracy: 0.5875\n",
            "Epoch 3/10\n",
            "1486/1486 [==============================] - 3s 2ms/step - loss: 0.7616 - accuracy: 0.5959 - val_loss: 0.7601 - val_accuracy: 0.6016\n",
            "Epoch 4/10\n",
            "1486/1486 [==============================] - 3s 2ms/step - loss: 0.7572 - accuracy: 0.5874 - val_loss: 0.7659 - val_accuracy: 0.6386\n",
            "Epoch 5/10\n",
            "1486/1486 [==============================] - 3s 2ms/step - loss: 0.7548 - accuracy: 0.6419 - val_loss: 0.7522 - val_accuracy: 0.6555\n",
            "Epoch 6/10\n",
            "1486/1486 [==============================] - 3s 2ms/step - loss: 0.7466 - accuracy: 0.6409 - val_loss: 0.7406 - val_accuracy: 0.6480\n",
            "Epoch 7/10\n",
            "1486/1486 [==============================] - 3s 2ms/step - loss: 0.7376 - accuracy: 0.6413 - val_loss: 0.7398 - val_accuracy: 0.6474\n",
            "Epoch 8/10\n",
            "1486/1486 [==============================] - 3s 2ms/step - loss: 0.7281 - accuracy: 0.6555 - val_loss: 0.7358 - val_accuracy: 0.6480\n",
            "Epoch 9/10\n",
            "1486/1486 [==============================] - 3s 2ms/step - loss: 0.7176 - accuracy: 0.6599 - val_loss: 0.7270 - val_accuracy: 0.6575\n",
            "Epoch 10/10\n",
            "1486/1486 [==============================] - 3s 2ms/step - loss: 0.7225 - accuracy: 0.6568 - val_loss: 0.7360 - val_accuracy: 0.6494\n",
            "Epoch 1/10\n",
            "743/743 [==============================] - 3s 2ms/step - loss: 0.9983 - accuracy: 0.4730 - val_loss: 0.7831 - val_accuracy: 0.5908\n",
            "Epoch 2/10\n",
            "743/743 [==============================] - 2s 2ms/step - loss: 0.7698 - accuracy: 0.6036 - val_loss: 0.7485 - val_accuracy: 0.6541\n",
            "Epoch 3/10\n",
            "743/743 [==============================] - 2s 2ms/step - loss: 0.7379 - accuracy: 0.6444 - val_loss: 0.7292 - val_accuracy: 0.6521\n",
            "Epoch 4/10\n",
            "743/743 [==============================] - 2s 2ms/step - loss: 0.7317 - accuracy: 0.6433 - val_loss: 0.7334 - val_accuracy: 0.6480\n",
            "Epoch 5/10\n",
            "743/743 [==============================] - 1s 2ms/step - loss: 0.7183 - accuracy: 0.6583 - val_loss: 0.7309 - val_accuracy: 0.6494\n",
            "Epoch 1/10\n",
            "372/372 [==============================] - 2s 3ms/step - loss: 1.0406 - accuracy: 0.4109 - val_loss: 0.7655 - val_accuracy: 0.6036\n",
            "Epoch 2/10\n",
            "372/372 [==============================] - 1s 2ms/step - loss: 0.7537 - accuracy: 0.6195 - val_loss: 0.7350 - val_accuracy: 0.6433\n",
            "Epoch 3/10\n",
            "372/372 [==============================] - 1s 3ms/step - loss: 0.7319 - accuracy: 0.6500 - val_loss: 0.7232 - val_accuracy: 0.6555\n",
            "Epoch 4/10\n",
            "372/372 [==============================] - 1s 3ms/step - loss: 0.7228 - accuracy: 0.6572 - val_loss: 0.7319 - val_accuracy: 0.6561\n",
            "Epoch 5/10\n",
            "372/372 [==============================] - 1s 3ms/step - loss: 0.7339 - accuracy: 0.6412 - val_loss: 0.7236 - val_accuracy: 0.6555\n",
            "Epoch 1/10\n",
            "186/186 [==============================] - 2s 5ms/step - loss: 1.0633 - accuracy: 0.4760 - val_loss: 0.8222 - val_accuracy: 0.5976\n",
            "Epoch 2/10\n",
            "186/186 [==============================] - 1s 4ms/step - loss: 0.8047 - accuracy: 0.5879 - val_loss: 0.7715 - val_accuracy: 0.5969\n",
            "Epoch 3/10\n",
            "186/186 [==============================] - 1s 3ms/step - loss: 0.7712 - accuracy: 0.5839 - val_loss: 0.7458 - val_accuracy: 0.6077\n",
            "Epoch 4/10\n",
            "186/186 [==============================] - 1s 3ms/step - loss: 0.7461 - accuracy: 0.6015 - val_loss: 0.7394 - val_accuracy: 0.6245\n",
            "Epoch 5/10\n",
            "186/186 [==============================] - 0s 3ms/step - loss: 0.7380 - accuracy: 0.6250 - val_loss: 0.7353 - val_accuracy: 0.6555\n",
            "Epoch 6/10\n",
            "186/186 [==============================] - 1s 3ms/step - loss: 0.7353 - accuracy: 0.6376 - val_loss: 0.7405 - val_accuracy: 0.6541\n",
            "Epoch 7/10\n",
            "186/186 [==============================] - 1s 3ms/step - loss: 0.7308 - accuracy: 0.6420 - val_loss: 0.7284 - val_accuracy: 0.6568\n",
            "Epoch 8/10\n",
            "186/186 [==============================] - 1s 3ms/step - loss: 0.7167 - accuracy: 0.6551 - val_loss: 0.7202 - val_accuracy: 0.6588\n",
            "Epoch 9/10\n",
            "186/186 [==============================] - 0s 2ms/step - loss: 0.7258 - accuracy: 0.6482 - val_loss: 0.7296 - val_accuracy: 0.6514\n",
            "Epoch 10/10\n",
            "186/186 [==============================] - 0s 2ms/step - loss: 0.7140 - accuracy: 0.6558 - val_loss: 0.7234 - val_accuracy: 0.6501\n",
            "Epoch 1/20\n",
            "1486/1486 [==============================] - 4s 2ms/step - loss: 0.8528 - accuracy: 0.5525 - val_loss: 0.7458 - val_accuracy: 0.6036\n",
            "Epoch 2/20\n",
            "1486/1486 [==============================] - 3s 2ms/step - loss: 0.7512 - accuracy: 0.5899 - val_loss: 0.7547 - val_accuracy: 0.5794\n",
            "Epoch 3/20\n",
            "1486/1486 [==============================] - 3s 2ms/step - loss: 0.7440 - accuracy: 0.6012 - val_loss: 0.7447 - val_accuracy: 0.6406\n",
            "Epoch 4/20\n",
            "1486/1486 [==============================] - 3s 2ms/step - loss: 0.7488 - accuracy: 0.6235 - val_loss: 0.7321 - val_accuracy: 0.6480\n",
            "Epoch 5/20\n",
            "1486/1486 [==============================] - 3s 2ms/step - loss: 0.7331 - accuracy: 0.6512 - val_loss: 0.7284 - val_accuracy: 0.6541\n",
            "Epoch 6/20\n",
            "1486/1486 [==============================] - 3s 2ms/step - loss: 0.7282 - accuracy: 0.6490 - val_loss: 0.7333 - val_accuracy: 0.6548\n",
            "Epoch 7/20\n",
            "1486/1486 [==============================] - 3s 2ms/step - loss: 0.7292 - accuracy: 0.6498 - val_loss: 0.7317 - val_accuracy: 0.6521\n",
            "Epoch 1/20\n",
            "743/743 [==============================] - 3s 3ms/step - loss: 0.9025 - accuracy: 0.5469 - val_loss: 0.7719 - val_accuracy: 0.5996\n",
            "Epoch 2/20\n",
            "743/743 [==============================] - 2s 2ms/step - loss: 0.7540 - accuracy: 0.5905 - val_loss: 0.7515 - val_accuracy: 0.5821\n",
            "Epoch 3/20\n",
            "743/743 [==============================] - 2s 3ms/step - loss: 0.7333 - accuracy: 0.5943 - val_loss: 0.7532 - val_accuracy: 0.6023\n",
            "Epoch 4/20\n",
            "743/743 [==============================] - 2s 2ms/step - loss: 0.7389 - accuracy: 0.5999 - val_loss: 0.7444 - val_accuracy: 0.6050\n",
            "Epoch 5/20\n",
            "743/743 [==============================] - 2s 3ms/step - loss: 0.7334 - accuracy: 0.6169 - val_loss: 0.7353 - val_accuracy: 0.6487\n",
            "Epoch 6/20\n",
            "743/743 [==============================] - 2s 2ms/step - loss: 0.7274 - accuracy: 0.6472 - val_loss: 0.7252 - val_accuracy: 0.6521\n",
            "Epoch 7/20\n",
            "743/743 [==============================] - 2s 2ms/step - loss: 0.7332 - accuracy: 0.6444 - val_loss: 0.7228 - val_accuracy: 0.6588\n",
            "Epoch 8/20\n",
            "743/743 [==============================] - 2s 2ms/step - loss: 0.7294 - accuracy: 0.6504 - val_loss: 0.7237 - val_accuracy: 0.6487\n",
            "Epoch 9/20\n",
            "743/743 [==============================] - 2s 2ms/step - loss: 0.7207 - accuracy: 0.6569 - val_loss: 0.7253 - val_accuracy: 0.6528\n",
            "Epoch 1/20\n",
            "372/372 [==============================] - 2s 3ms/step - loss: 1.0154 - accuracy: 0.4676 - val_loss: 0.8528 - val_accuracy: 0.5754\n",
            "Epoch 2/20\n",
            "372/372 [==============================] - 1s 3ms/step - loss: 0.8404 - accuracy: 0.5936 - val_loss: 0.8060 - val_accuracy: 0.5861\n",
            "Epoch 3/20\n",
            "372/372 [==============================] - 1s 3ms/step - loss: 0.8064 - accuracy: 0.5902 - val_loss: 0.7854 - val_accuracy: 0.5989\n",
            "Epoch 4/20\n",
            "372/372 [==============================] - 1s 3ms/step - loss: 0.7840 - accuracy: 0.5913 - val_loss: 0.7762 - val_accuracy: 0.5787\n",
            "Epoch 5/20\n",
            "372/372 [==============================] - 1s 3ms/step - loss: 0.7698 - accuracy: 0.5956 - val_loss: 0.7701 - val_accuracy: 0.5747\n",
            "Epoch 6/20\n",
            "372/372 [==============================] - 1s 3ms/step - loss: 0.7606 - accuracy: 0.5914 - val_loss: 0.7614 - val_accuracy: 0.5841\n",
            "Epoch 7/20\n",
            "372/372 [==============================] - 1s 3ms/step - loss: 0.7658 - accuracy: 0.5764 - val_loss: 0.7599 - val_accuracy: 0.6043\n",
            "Epoch 8/20\n",
            "372/372 [==============================] - 1s 3ms/step - loss: 0.7594 - accuracy: 0.5889 - val_loss: 0.7614 - val_accuracy: 0.5861\n",
            "Epoch 9/20\n",
            "372/372 [==============================] - 1s 3ms/step - loss: 0.7599 - accuracy: 0.5825 - val_loss: 0.7547 - val_accuracy: 0.5781\n",
            "Epoch 10/20\n",
            "372/372 [==============================] - 2s 4ms/step - loss: 0.7552 - accuracy: 0.5900 - val_loss: 0.7529 - val_accuracy: 0.5902\n",
            "Epoch 11/20\n",
            "372/372 [==============================] - 1s 4ms/step - loss: 0.7390 - accuracy: 0.5909 - val_loss: 0.7551 - val_accuracy: 0.5767\n",
            "Epoch 12/20\n",
            "372/372 [==============================] - 1s 3ms/step - loss: 0.7433 - accuracy: 0.5957 - val_loss: 0.7621 - val_accuracy: 0.5767\n",
            "Epoch 1/20\n",
            "186/186 [==============================] - 1s 4ms/step - loss: 1.0502 - accuracy: 0.4144 - val_loss: 0.8857 - val_accuracy: 0.5774\n",
            "Epoch 2/20\n",
            "186/186 [==============================] - 1s 3ms/step - loss: 0.8597 - accuracy: 0.5921 - val_loss: 0.8521 - val_accuracy: 0.5680\n",
            "Epoch 3/20\n",
            "186/186 [==============================] - 1s 3ms/step - loss: 0.8295 - accuracy: 0.5897 - val_loss: 0.8140 - val_accuracy: 0.5868\n",
            "Epoch 4/20\n",
            "186/186 [==============================] - 1s 3ms/step - loss: 0.8004 - accuracy: 0.5977 - val_loss: 0.7948 - val_accuracy: 0.5794\n",
            "Epoch 5/20\n",
            "186/186 [==============================] - 1s 3ms/step - loss: 0.7819 - accuracy: 0.6012 - val_loss: 0.7804 - val_accuracy: 0.5794\n",
            "Epoch 6/20\n",
            "186/186 [==============================] - 1s 3ms/step - loss: 0.7637 - accuracy: 0.6100 - val_loss: 0.7763 - val_accuracy: 0.5794\n",
            "Epoch 7/20\n",
            "186/186 [==============================] - 0s 3ms/step - loss: 0.7530 - accuracy: 0.6412 - val_loss: 0.7454 - val_accuracy: 0.6514\n",
            "Epoch 8/20\n",
            "186/186 [==============================] - 0s 3ms/step - loss: 0.7351 - accuracy: 0.6563 - val_loss: 0.7360 - val_accuracy: 0.6541\n",
            "Epoch 9/20\n",
            "186/186 [==============================] - 0s 2ms/step - loss: 0.7367 - accuracy: 0.6467 - val_loss: 0.7400 - val_accuracy: 0.6541\n",
            "Epoch 10/20\n",
            "186/186 [==============================] - 0s 3ms/step - loss: 0.7290 - accuracy: 0.6497 - val_loss: 0.7296 - val_accuracy: 0.6528\n",
            "Epoch 11/20\n",
            "186/186 [==============================] - 1s 3ms/step - loss: 0.7215 - accuracy: 0.6574 - val_loss: 0.7331 - val_accuracy: 0.6528\n",
            "Epoch 12/20\n",
            "186/186 [==============================] - 1s 3ms/step - loss: 0.7279 - accuracy: 0.6520 - val_loss: 0.7249 - val_accuracy: 0.6555\n",
            "Epoch 13/20\n",
            "186/186 [==============================] - 0s 3ms/step - loss: 0.7166 - accuracy: 0.6564 - val_loss: 0.7236 - val_accuracy: 0.6555\n",
            "Epoch 14/20\n",
            "186/186 [==============================] - 1s 3ms/step - loss: 0.7092 - accuracy: 0.6596 - val_loss: 0.7209 - val_accuracy: 0.6548\n",
            "Epoch 15/20\n",
            "186/186 [==============================] - 1s 3ms/step - loss: 0.7195 - accuracy: 0.6518 - val_loss: 0.7253 - val_accuracy: 0.6501\n",
            "Epoch 16/20\n",
            "186/186 [==============================] - 1s 3ms/step - loss: 0.7130 - accuracy: 0.6655 - val_loss: 0.7228 - val_accuracy: 0.6581\n"
          ],
          "name": "stdout"
        },
        {
          "output_type": "execute_result",
          "data": {
            "text/html": [
              "<div>\n",
              "<style scoped>\n",
              "    .dataframe tbody tr th:only-of-type {\n",
              "        vertical-align: middle;\n",
              "    }\n",
              "\n",
              "    .dataframe tbody tr th {\n",
              "        vertical-align: top;\n",
              "    }\n",
              "\n",
              "    .dataframe thead th {\n",
              "        text-align: right;\n",
              "    }\n",
              "</style>\n",
              "<table border=\"1\" class=\"dataframe\">\n",
              "  <thead>\n",
              "    <tr style=\"text-align: right;\">\n",
              "      <th></th>\n",
              "      <th>Model</th>\n",
              "      <th>batch_size</th>\n",
              "      <th>no_of_epoch</th>\n",
              "      <th>no_of_epoch_original</th>\n",
              "      <th>val_accuracy</th>\n",
              "      <th>val_loss</th>\n",
              "    </tr>\n",
              "  </thead>\n",
              "  <tbody>\n",
              "    <tr>\n",
              "      <th>0</th>\n",
              "      <td>2</td>\n",
              "      <td>8.0</td>\n",
              "      <td>10.0</td>\n",
              "      <td>10.0</td>\n",
              "      <td>0.649394</td>\n",
              "      <td>0.735987</td>\n",
              "    </tr>\n",
              "    <tr>\n",
              "      <th>1</th>\n",
              "      <td>2</td>\n",
              "      <td>16.0</td>\n",
              "      <td>5.0</td>\n",
              "      <td>10.0</td>\n",
              "      <td>0.649394</td>\n",
              "      <td>0.730927</td>\n",
              "    </tr>\n",
              "    <tr>\n",
              "      <th>2</th>\n",
              "      <td>2</td>\n",
              "      <td>32.0</td>\n",
              "      <td>5.0</td>\n",
              "      <td>10.0</td>\n",
              "      <td>0.655451</td>\n",
              "      <td>0.723582</td>\n",
              "    </tr>\n",
              "    <tr>\n",
              "      <th>3</th>\n",
              "      <td>2</td>\n",
              "      <td>64.0</td>\n",
              "      <td>10.0</td>\n",
              "      <td>10.0</td>\n",
              "      <td>0.650067</td>\n",
              "      <td>0.723400</td>\n",
              "    </tr>\n",
              "    <tr>\n",
              "      <th>4</th>\n",
              "      <td>2</td>\n",
              "      <td>8.0</td>\n",
              "      <td>7.0</td>\n",
              "      <td>20.0</td>\n",
              "      <td>0.652086</td>\n",
              "      <td>0.731652</td>\n",
              "    </tr>\n",
              "    <tr>\n",
              "      <th>5</th>\n",
              "      <td>2</td>\n",
              "      <td>16.0</td>\n",
              "      <td>9.0</td>\n",
              "      <td>20.0</td>\n",
              "      <td>0.652759</td>\n",
              "      <td>0.725293</td>\n",
              "    </tr>\n",
              "    <tr>\n",
              "      <th>6</th>\n",
              "      <td>2</td>\n",
              "      <td>32.0</td>\n",
              "      <td>12.0</td>\n",
              "      <td>20.0</td>\n",
              "      <td>0.576716</td>\n",
              "      <td>0.762142</td>\n",
              "    </tr>\n",
              "    <tr>\n",
              "      <th>7</th>\n",
              "      <td>2</td>\n",
              "      <td>64.0</td>\n",
              "      <td>16.0</td>\n",
              "      <td>20.0</td>\n",
              "      <td>0.658143</td>\n",
              "      <td>0.722778</td>\n",
              "    </tr>\n",
              "  </tbody>\n",
              "</table>\n",
              "</div>"
            ],
            "text/plain": [
              "  Model  batch_size  no_of_epoch  no_of_epoch_original  val_accuracy  val_loss\n",
              "0     2         8.0         10.0                  10.0      0.649394  0.735987\n",
              "1     2        16.0          5.0                  10.0      0.649394  0.730927\n",
              "2     2        32.0          5.0                  10.0      0.655451  0.723582\n",
              "3     2        64.0         10.0                  10.0      0.650067  0.723400\n",
              "4     2         8.0          7.0                  20.0      0.652086  0.731652\n",
              "5     2        16.0          9.0                  20.0      0.652759  0.725293\n",
              "6     2        32.0         12.0                  20.0      0.576716  0.762142\n",
              "7     2        64.0         16.0                  20.0      0.658143  0.722778"
            ]
          },
          "metadata": {
            "tags": []
          },
          "execution_count": 63
        }
      ]
    },
    {
      "cell_type": "code",
      "metadata": {
        "colab": {
          "base_uri": "https://localhost:8080/",
          "height": 314
        },
        "id": "ZNUiRzPOXIRo",
        "outputId": "03b49d5c-338b-40d4-fe12-3f8c282f64cc"
      },
      "source": [
        "best_param_list1= best_param_list.pivot(\"batch_size\", \"no_of_epoch_original\", \"val_accuracy\")\n",
        "sns.heatmap(best_param_list1, annot= True, fmt = '.3f')\n",
        "plt.title(\"Validation Accuracy for Model 2\")"
      ],
      "execution_count": 64,
      "outputs": [
        {
          "output_type": "execute_result",
          "data": {
            "text/plain": [
              "Text(0.5, 1.0, 'Validation Accuracy for Model 2')"
            ]
          },
          "metadata": {
            "tags": []
          },
          "execution_count": 64
        },
        {
          "output_type": "display_data",
          "data": {
            "image/png": "[encoded data removed]",
            "text/plain": [
              "<Figure size 432x288 with 2 Axes>"
            ]
          },
          "metadata": {
            "tags": [],
            "needs_background": "light"
          }
        }
      ]
    },
    {
      "cell_type": "code",
      "metadata": {
        "colab": {
          "base_uri": "https://localhost:8080/",
          "height": 314
        },
        "id": "QRcEKtHvXTsy",
        "outputId": "8a51c722-0f49-4308-f00c-dc62d6499cf3"
      },
      "source": [
        "best_param_list2= best_param_list.pivot(\"batch_size\", \"no_of_epoch_original\", \"val_loss\")\n",
        "sns.heatmap(best_param_list2, annot= True, fmt = '.3f')\n",
        "plt.title(\"Validation Loss for Model 2\")"
      ],
      "execution_count": 65,
      "outputs": [
        {
          "output_type": "execute_result",
          "data": {
            "text/plain": [
              "Text(0.5, 1.0, 'Validation Loss for Model 2')"
            ]
          },
          "metadata": {
            "tags": []
          },
          "execution_count": 65
        },
        {
          "output_type": "display_data",
          "data": {
            "image/png": "[encoded data removed]",
            "text/plain": [
              "<Figure size 432x288 with 2 Axes>"
            ]
          },
          "metadata": {
            "tags": [],
            "needs_background": "light"
          }
        }
      ]
    },
    {
      "cell_type": "markdown",
      "metadata": {
        "id": "oFOb6tqTu4uY"
      },
      "source": [
        ""
      ]
    },
    {
      "cell_type": "markdown",
      "metadata": {
        "id": "vJnBY3F2u4xl"
      },
      "source": [
        "Best Parameter for Model 2\n",
        "\n",
        "- Epoch : 20\n",
        "- Batch Size : 64"
      ]
    },
    {
      "cell_type": "markdown",
      "metadata": {
        "id": "BOz97N8FW0xX"
      },
      "source": [
        "#### Model 3"
      ]
    },
    {
      "cell_type": "code",
      "metadata": {
        "id": "TfYlsDk0XB0l"
      },
      "source": [
        "from collections import defaultdict\n",
        "\n",
        "def def_value():\n",
        "    return \"NA\"\n",
        "      \n",
        "def get_param_configuration(model, X_train,y_train,X_val,y_val):\n",
        "  param_dictionary = defaultdict(def_value)\n",
        "  best_param_list=pd.DataFrame([]);\n",
        "  list_of_epoch=[10,20] #,50,100,150\n",
        "  list_of_batchsize=[8,16,32,64]#,32,64,128\n",
        "  # bs=8\n",
        "  for n in list_of_epoch:\n",
        "    for bs in list_of_batchsize:\n",
        "      model_clone = tf.keras.models.clone_model(model)\n",
        "      early_stop = EarlyStopping(patience=2)\n",
        "      model_clone.compile(loss='sparse_categorical_crossentropy',optimizer='Adam',metrics=['accuracy'])\n",
        "      history=model_clone.fit(X_train_z, y_train_z, epochs=n,batch_size=bs,validation_data=(X_val_z, y_val_z),callbacks=early_stop) \n",
        "      average_accuracy=sum(history.history['val_accuracy'])/len(history.history['val_accuracy'])\n",
        "      average_loss =sum(history.history['val_loss'])/len(history.history['val_loss'])\n",
        "      no_of_epoch_original=n\n",
        "      batch_size=bs\n",
        "      no_of_epoch=len(history.history['loss'])\n",
        "      param_dictionary['Model']='3'\n",
        "      param_dictionary['no_of_epoch_original']=no_of_epoch_original\n",
        "      param_dictionary['no_of_epoch']=no_of_epoch\n",
        "      param_dictionary['batch_size']=batch_size\n",
        "      param_dictionary['val_accuracy']=history.history['val_accuracy'][-1]\n",
        "      param_dictionary['val_loss']=history.history['val_loss'][-1]\n",
        "      #param_dictionary['average_accuracy']=average_accuracy\n",
        "      #param_dictionary['average_loss']=average_loss\n",
        "      best_param_list=best_param_list.append(param_dictionary,ignore_index=True)#sort=False,\n",
        "  return best_param_list"
      ],
      "execution_count": 66,
      "outputs": []
    },
    {
      "cell_type": "code",
      "metadata": {
        "colab": {
          "base_uri": "https://localhost:8080/",
          "height": 1000
        },
        "id": "ecIY_dbmXdnL",
        "outputId": "ff60be6d-18be-49f5-bef1-15aaa40de651"
      },
      "source": [
        "best_param_list=get_param_configuration(model_3,X_train_z,y_train_z,X_val_z,y_val_z)\n",
        "best_param_list"
      ],
      "execution_count": 67,
      "outputs": [
        {
          "output_type": "stream",
          "text": [
            "Epoch 1/10\n",
            "1486/1486 [==============================] - 4s 2ms/step - loss: 1.0699 - accuracy: 0.4656 - val_loss: 0.7619 - val_accuracy: 0.6299\n",
            "Epoch 2/10\n",
            "1486/1486 [==============================] - 3s 2ms/step - loss: 0.7394 - accuracy: 0.6324 - val_loss: 0.7514 - val_accuracy: 0.6279\n",
            "Epoch 3/10\n",
            "1486/1486 [==============================] - 3s 2ms/step - loss: 0.7281 - accuracy: 0.6383 - val_loss: 0.7232 - val_accuracy: 0.6494\n",
            "Epoch 4/10\n",
            "1486/1486 [==============================] - 3s 2ms/step - loss: 0.7228 - accuracy: 0.6493 - val_loss: 0.7271 - val_accuracy: 0.6380\n",
            "Epoch 5/10\n",
            "1486/1486 [==============================] - 3s 2ms/step - loss: 0.7235 - accuracy: 0.6470 - val_loss: 0.7334 - val_accuracy: 0.6534\n",
            "Epoch 1/10\n",
            "743/743 [==============================] - 2s 2ms/step - loss: 1.1453 - accuracy: 0.4479 - val_loss: 0.7746 - val_accuracy: 0.6225\n",
            "Epoch 2/10\n",
            "743/743 [==============================] - 1s 2ms/step - loss: 0.7622 - accuracy: 0.6152 - val_loss: 0.7672 - val_accuracy: 0.6386\n",
            "Epoch 3/10\n",
            "743/743 [==============================] - 1s 2ms/step - loss: 0.7329 - accuracy: 0.6438 - val_loss: 0.7423 - val_accuracy: 0.6487\n",
            "Epoch 4/10\n",
            "743/743 [==============================] - 1s 2ms/step - loss: 0.7310 - accuracy: 0.6420 - val_loss: 0.7305 - val_accuracy: 0.6615\n",
            "Epoch 5/10\n",
            "743/743 [==============================] - 1s 2ms/step - loss: 0.7318 - accuracy: 0.6439 - val_loss: 0.7252 - val_accuracy: 0.6676\n",
            "Epoch 6/10\n",
            "743/743 [==============================] - 1s 2ms/step - loss: 0.7286 - accuracy: 0.6505 - val_loss: 0.7221 - val_accuracy: 0.6602\n",
            "Epoch 7/10\n",
            "743/743 [==============================] - 1s 2ms/step - loss: 0.7222 - accuracy: 0.6453 - val_loss: 0.7322 - val_accuracy: 0.6433\n",
            "Epoch 8/10\n",
            "743/743 [==============================] - 1s 2ms/step - loss: 0.7186 - accuracy: 0.6559 - val_loss: 0.7248 - val_accuracy: 0.6541\n",
            "Epoch 1/10\n",
            "372/372 [==============================] - 2s 3ms/step - loss: 0.9797 - accuracy: 0.5168 - val_loss: 0.7971 - val_accuracy: 0.5868\n",
            "Epoch 2/10\n",
            "372/372 [==============================] - 1s 2ms/step - loss: 0.7796 - accuracy: 0.5933 - val_loss: 0.7731 - val_accuracy: 0.6097\n",
            "Epoch 3/10\n",
            "372/372 [==============================] - 1s 2ms/step - loss: 0.7577 - accuracy: 0.6006 - val_loss: 0.7501 - val_accuracy: 0.6279\n",
            "Epoch 4/10\n",
            "372/372 [==============================] - 1s 2ms/step - loss: 0.7458 - accuracy: 0.6332 - val_loss: 0.7413 - val_accuracy: 0.6306\n",
            "Epoch 5/10\n",
            "372/372 [==============================] - 1s 2ms/step - loss: 0.7264 - accuracy: 0.6276 - val_loss: 0.7509 - val_accuracy: 0.6400\n",
            "Epoch 6/10\n",
            "372/372 [==============================] - 1s 2ms/step - loss: 0.7396 - accuracy: 0.6305 - val_loss: 0.7417 - val_accuracy: 0.6501\n",
            "Epoch 1/10\n",
            "186/186 [==============================] - 1s 4ms/step - loss: 1.0558 - accuracy: 0.4138 - val_loss: 0.9639 - val_accuracy: 0.4939\n",
            "Epoch 2/10\n",
            "186/186 [==============================] - 0s 2ms/step - loss: 0.9343 - accuracy: 0.5260 - val_loss: 0.8725 - val_accuracy: 0.5404\n",
            "Epoch 3/10\n",
            "186/186 [==============================] - 0s 2ms/step - loss: 0.8523 - accuracy: 0.5735 - val_loss: 0.8114 - val_accuracy: 0.5754\n",
            "Epoch 4/10\n",
            "186/186 [==============================] - 0s 2ms/step - loss: 0.7984 - accuracy: 0.5948 - val_loss: 0.7765 - val_accuracy: 0.6386\n",
            "Epoch 5/10\n",
            "186/186 [==============================] - 0s 3ms/step - loss: 0.7705 - accuracy: 0.6402 - val_loss: 0.7612 - val_accuracy: 0.6467\n",
            "Epoch 6/10\n",
            "186/186 [==============================] - 0s 2ms/step - loss: 0.7347 - accuracy: 0.6525 - val_loss: 0.7438 - val_accuracy: 0.6521\n",
            "Epoch 7/10\n",
            "186/186 [==============================] - 0s 2ms/step - loss: 0.7312 - accuracy: 0.6552 - val_loss: 0.7375 - val_accuracy: 0.6447\n",
            "Epoch 8/10\n",
            "186/186 [==============================] - 0s 2ms/step - loss: 0.7260 - accuracy: 0.6577 - val_loss: 0.7341 - val_accuracy: 0.6575\n",
            "Epoch 9/10\n",
            "186/186 [==============================] - 0s 2ms/step - loss: 0.7225 - accuracy: 0.6452 - val_loss: 0.7320 - val_accuracy: 0.6507\n",
            "Epoch 10/10\n",
            "186/186 [==============================] - 0s 2ms/step - loss: 0.7227 - accuracy: 0.6528 - val_loss: 0.7325 - val_accuracy: 0.6541\n",
            "Epoch 1/20\n",
            "1486/1486 [==============================] - 4s 2ms/step - loss: 0.9568 - accuracy: 0.5211 - val_loss: 0.7966 - val_accuracy: 0.6427\n",
            "Epoch 2/20\n",
            "1486/1486 [==============================] - 3s 2ms/step - loss: 0.7725 - accuracy: 0.6421 - val_loss: 0.7470 - val_accuracy: 0.6433\n",
            "Epoch 3/20\n",
            "1486/1486 [==============================] - 3s 2ms/step - loss: 0.7376 - accuracy: 0.6545 - val_loss: 0.7528 - val_accuracy: 0.6433\n",
            "Epoch 4/20\n",
            "1486/1486 [==============================] - 3s 2ms/step - loss: 0.7350 - accuracy: 0.6465 - val_loss: 0.7315 - val_accuracy: 0.6487\n",
            "Epoch 5/20\n",
            "1486/1486 [==============================] - 3s 2ms/step - loss: 0.7345 - accuracy: 0.6475 - val_loss: 0.7433 - val_accuracy: 0.6460\n",
            "Epoch 6/20\n",
            "1486/1486 [==============================] - 3s 2ms/step - loss: 0.7247 - accuracy: 0.6497 - val_loss: 0.7249 - val_accuracy: 0.6507\n",
            "Epoch 7/20\n",
            "1486/1486 [==============================] - 3s 2ms/step - loss: 0.7197 - accuracy: 0.6531 - val_loss: 0.7286 - val_accuracy: 0.6440\n",
            "Epoch 8/20\n",
            "1486/1486 [==============================] - 3s 2ms/step - loss: 0.7179 - accuracy: 0.6517 - val_loss: 0.7243 - val_accuracy: 0.6480\n",
            "Epoch 9/20\n",
            "1486/1486 [==============================] - 3s 2ms/step - loss: 0.7220 - accuracy: 0.6527 - val_loss: 0.7300 - val_accuracy: 0.6541\n",
            "Epoch 10/20\n",
            "1486/1486 [==============================] - 3s 2ms/step - loss: 0.7170 - accuracy: 0.6613 - val_loss: 0.7215 - val_accuracy: 0.6501\n",
            "Epoch 11/20\n",
            "1486/1486 [==============================] - 3s 2ms/step - loss: 0.7120 - accuracy: 0.6537 - val_loss: 0.7280 - val_accuracy: 0.6514\n",
            "Epoch 12/20\n",
            "1486/1486 [==============================] - 3s 2ms/step - loss: 0.7173 - accuracy: 0.6540 - val_loss: 0.7219 - val_accuracy: 0.6467\n",
            "Epoch 1/20\n",
            "743/743 [==============================] - 2s 2ms/step - loss: 1.1245 - accuracy: 0.4334 - val_loss: 0.7821 - val_accuracy: 0.6393\n",
            "Epoch 2/20\n",
            "743/743 [==============================] - 1s 2ms/step - loss: 0.7716 - accuracy: 0.6337 - val_loss: 0.7537 - val_accuracy: 0.6548\n",
            "Epoch 3/20\n",
            "743/743 [==============================] - 1s 2ms/step - loss: 0.7351 - accuracy: 0.6475 - val_loss: 0.7380 - val_accuracy: 0.6541\n",
            "Epoch 4/20\n",
            "743/743 [==============================] - 1s 2ms/step - loss: 0.7386 - accuracy: 0.6409 - val_loss: 0.7300 - val_accuracy: 0.6528\n",
            "Epoch 5/20\n",
            "743/743 [==============================] - 2s 2ms/step - loss: 0.7268 - accuracy: 0.6467 - val_loss: 0.7309 - val_accuracy: 0.6541\n",
            "Epoch 6/20\n",
            "743/743 [==============================] - 1s 2ms/step - loss: 0.7264 - accuracy: 0.6508 - val_loss: 0.7297 - val_accuracy: 0.6555\n",
            "Epoch 7/20\n",
            "743/743 [==============================] - 1s 2ms/step - loss: 0.7335 - accuracy: 0.6428 - val_loss: 0.7285 - val_accuracy: 0.6480\n",
            "Epoch 8/20\n",
            "743/743 [==============================] - 1s 2ms/step - loss: 0.7239 - accuracy: 0.6460 - val_loss: 0.7281 - val_accuracy: 0.6541\n",
            "Epoch 9/20\n",
            "743/743 [==============================] - 1s 2ms/step - loss: 0.7211 - accuracy: 0.6463 - val_loss: 0.7376 - val_accuracy: 0.6373\n",
            "Epoch 10/20\n",
            "743/743 [==============================] - 1s 2ms/step - loss: 0.7083 - accuracy: 0.6581 - val_loss: 0.7270 - val_accuracy: 0.6528\n",
            "Epoch 11/20\n",
            "743/743 [==============================] - 1s 2ms/step - loss: 0.7169 - accuracy: 0.6511 - val_loss: 0.7282 - val_accuracy: 0.6528\n",
            "Epoch 12/20\n",
            "743/743 [==============================] - 1s 2ms/step - loss: 0.7118 - accuracy: 0.6512 - val_loss: 0.7331 - val_accuracy: 0.6440\n",
            "Epoch 1/20\n",
            "372/372 [==============================] - 1s 3ms/step - loss: 1.2117 - accuracy: 0.3646 - val_loss: 0.9127 - val_accuracy: 0.6070\n",
            "Epoch 2/20\n",
            "372/372 [==============================] - 1s 2ms/step - loss: 0.8777 - accuracy: 0.6145 - val_loss: 0.8244 - val_accuracy: 0.6211\n",
            "Epoch 3/20\n",
            "372/372 [==============================] - 1s 2ms/step - loss: 0.7835 - accuracy: 0.6414 - val_loss: 0.7608 - val_accuracy: 0.6521\n",
            "Epoch 4/20\n",
            "372/372 [==============================] - 1s 2ms/step - loss: 0.7600 - accuracy: 0.6376 - val_loss: 0.7357 - val_accuracy: 0.6555\n",
            "Epoch 5/20\n",
            "372/372 [==============================] - 1s 3ms/step - loss: 0.7320 - accuracy: 0.6554 - val_loss: 0.7311 - val_accuracy: 0.6467\n",
            "Epoch 6/20\n",
            "372/372 [==============================] - 1s 2ms/step - loss: 0.7331 - accuracy: 0.6518 - val_loss: 0.7285 - val_accuracy: 0.6555\n",
            "Epoch 7/20\n",
            "372/372 [==============================] - 1s 2ms/step - loss: 0.7311 - accuracy: 0.6492 - val_loss: 0.7233 - val_accuracy: 0.6541\n",
            "Epoch 8/20\n",
            "372/372 [==============================] - 1s 2ms/step - loss: 0.7228 - accuracy: 0.6519 - val_loss: 0.7274 - val_accuracy: 0.6555\n",
            "Epoch 9/20\n",
            "372/372 [==============================] - 1s 2ms/step - loss: 0.7374 - accuracy: 0.6463 - val_loss: 0.7367 - val_accuracy: 0.6454\n",
            "Epoch 1/20\n",
            "186/186 [==============================] - 1s 4ms/step - loss: 1.6063 - accuracy: 0.3409 - val_loss: 0.9647 - val_accuracy: 0.5659\n",
            "Epoch 2/20\n",
            "186/186 [==============================] - 0s 2ms/step - loss: 0.9195 - accuracy: 0.5613 - val_loss: 0.7866 - val_accuracy: 0.6063\n",
            "Epoch 3/20\n",
            "186/186 [==============================] - 0s 2ms/step - loss: 0.7593 - accuracy: 0.6207 - val_loss: 0.7494 - val_accuracy: 0.6339\n",
            "Epoch 4/20\n",
            "186/186 [==============================] - 0s 3ms/step - loss: 0.7389 - accuracy: 0.6435 - val_loss: 0.7399 - val_accuracy: 0.6474\n",
            "Epoch 5/20\n",
            "186/186 [==============================] - 0s 3ms/step - loss: 0.7378 - accuracy: 0.6392 - val_loss: 0.7366 - val_accuracy: 0.6501\n",
            "Epoch 6/20\n",
            "186/186 [==============================] - 1s 3ms/step - loss: 0.7301 - accuracy: 0.6553 - val_loss: 0.7272 - val_accuracy: 0.6480\n",
            "Epoch 7/20\n",
            "186/186 [==============================] - 0s 3ms/step - loss: 0.7339 - accuracy: 0.6448 - val_loss: 0.7316 - val_accuracy: 0.6514\n",
            "Epoch 8/20\n",
            "186/186 [==============================] - 0s 3ms/step - loss: 0.7168 - accuracy: 0.6525 - val_loss: 0.7336 - val_accuracy: 0.6494\n"
          ],
          "name": "stdout"
        },
        {
          "output_type": "execute_result",
          "data": {
            "text/html": [
              "<div>\n",
              "<style scoped>\n",
              "    .dataframe tbody tr th:only-of-type {\n",
              "        vertical-align: middle;\n",
              "    }\n",
              "\n",
              "    .dataframe tbody tr th {\n",
              "        vertical-align: top;\n",
              "    }\n",
              "\n",
              "    .dataframe thead th {\n",
              "        text-align: right;\n",
              "    }\n",
              "</style>\n",
              "<table border=\"1\" class=\"dataframe\">\n",
              "  <thead>\n",
              "    <tr style=\"text-align: right;\">\n",
              "      <th></th>\n",
              "      <th>Model</th>\n",
              "      <th>batch_size</th>\n",
              "      <th>no_of_epoch</th>\n",
              "      <th>no_of_epoch_original</th>\n",
              "      <th>val_accuracy</th>\n",
              "      <th>val_loss</th>\n",
              "    </tr>\n",
              "  </thead>\n",
              "  <tbody>\n",
              "    <tr>\n",
              "      <th>0</th>\n",
              "      <td>3</td>\n",
              "      <td>8.0</td>\n",
              "      <td>5.0</td>\n",
              "      <td>10.0</td>\n",
              "      <td>0.653432</td>\n",
              "      <td>0.733400</td>\n",
              "    </tr>\n",
              "    <tr>\n",
              "      <th>1</th>\n",
              "      <td>3</td>\n",
              "      <td>16.0</td>\n",
              "      <td>8.0</td>\n",
              "      <td>10.0</td>\n",
              "      <td>0.654105</td>\n",
              "      <td>0.724784</td>\n",
              "    </tr>\n",
              "    <tr>\n",
              "      <th>2</th>\n",
              "      <td>3</td>\n",
              "      <td>32.0</td>\n",
              "      <td>6.0</td>\n",
              "      <td>10.0</td>\n",
              "      <td>0.650067</td>\n",
              "      <td>0.741670</td>\n",
              "    </tr>\n",
              "    <tr>\n",
              "      <th>3</th>\n",
              "      <td>3</td>\n",
              "      <td>64.0</td>\n",
              "      <td>10.0</td>\n",
              "      <td>10.0</td>\n",
              "      <td>0.654105</td>\n",
              "      <td>0.732494</td>\n",
              "    </tr>\n",
              "    <tr>\n",
              "      <th>4</th>\n",
              "      <td>3</td>\n",
              "      <td>8.0</td>\n",
              "      <td>12.0</td>\n",
              "      <td>20.0</td>\n",
              "      <td>0.646703</td>\n",
              "      <td>0.721863</td>\n",
              "    </tr>\n",
              "    <tr>\n",
              "      <th>5</th>\n",
              "      <td>3</td>\n",
              "      <td>16.0</td>\n",
              "      <td>12.0</td>\n",
              "      <td>20.0</td>\n",
              "      <td>0.644011</td>\n",
              "      <td>0.733070</td>\n",
              "    </tr>\n",
              "    <tr>\n",
              "      <th>6</th>\n",
              "      <td>3</td>\n",
              "      <td>32.0</td>\n",
              "      <td>9.0</td>\n",
              "      <td>20.0</td>\n",
              "      <td>0.645357</td>\n",
              "      <td>0.736683</td>\n",
              "    </tr>\n",
              "    <tr>\n",
              "      <th>7</th>\n",
              "      <td>3</td>\n",
              "      <td>64.0</td>\n",
              "      <td>8.0</td>\n",
              "      <td>20.0</td>\n",
              "      <td>0.649394</td>\n",
              "      <td>0.733602</td>\n",
              "    </tr>\n",
              "  </tbody>\n",
              "</table>\n",
              "</div>"
            ],
            "text/plain": [
              "  Model  batch_size  no_of_epoch  no_of_epoch_original  val_accuracy  val_loss\n",
              "0     3         8.0          5.0                  10.0      0.653432  0.733400\n",
              "1     3        16.0          8.0                  10.0      0.654105  0.724784\n",
              "2     3        32.0          6.0                  10.0      0.650067  0.741670\n",
              "3     3        64.0         10.0                  10.0      0.654105  0.732494\n",
              "4     3         8.0         12.0                  20.0      0.646703  0.721863\n",
              "5     3        16.0         12.0                  20.0      0.644011  0.733070\n",
              "6     3        32.0          9.0                  20.0      0.645357  0.736683\n",
              "7     3        64.0          8.0                  20.0      0.649394  0.733602"
            ]
          },
          "metadata": {
            "tags": []
          },
          "execution_count": 67
        }
      ]
    },
    {
      "cell_type": "code",
      "metadata": {
        "colab": {
          "base_uri": "https://localhost:8080/",
          "height": 314
        },
        "id": "ZWjqbvYzXdnM",
        "outputId": "fcc80dfe-dec3-42a8-d0fd-35e7ba032228"
      },
      "source": [
        "best_param_list1= best_param_list.pivot(\"batch_size\", \"no_of_epoch_original\", \"val_accuracy\")\n",
        "sns.heatmap(best_param_list1, annot= True, fmt = '.3f')\n",
        "plt.title(\"Validation Accuracy for Model 3\")"
      ],
      "execution_count": 68,
      "outputs": [
        {
          "output_type": "execute_result",
          "data": {
            "text/plain": [
              "Text(0.5, 1.0, 'Validation Accuracy for Model 3')"
            ]
          },
          "metadata": {
            "tags": []
          },
          "execution_count": 68
        },
        {
          "output_type": "display_data",
          "data": {
            "image/png": "[encoded data removed]",
            "text/plain": [
              "<Figure size 432x288 with 2 Axes>"
            ]
          },
          "metadata": {
            "tags": [],
            "needs_background": "light"
          }
        }
      ]
    },
    {
      "cell_type": "code",
      "metadata": {
        "colab": {
          "base_uri": "https://localhost:8080/",
          "height": 314
        },
        "id": "hHqW9UHwXdnM",
        "outputId": "b5f22d63-ab24-4370-aee8-e87a1a6542ff"
      },
      "source": [
        "best_param_list2= best_param_list.pivot(\"batch_size\", \"no_of_epoch_original\", \"val_loss\")\n",
        "sns.heatmap(best_param_list2, annot= True, fmt = '.3f')\n",
        "plt.title(\"Validation Loss for Model 3\")"
      ],
      "execution_count": 69,
      "outputs": [
        {
          "output_type": "execute_result",
          "data": {
            "text/plain": [
              "Text(0.5, 1.0, 'Validation Loss for Model 3')"
            ]
          },
          "metadata": {
            "tags": []
          },
          "execution_count": 69
        },
        {
          "output_type": "display_data",
          "data": {
            "image/png": "[encoded data removed]",
            "text/plain": [
              "<Figure size 432x288 with 2 Axes>"
            ]
          },
          "metadata": {
            "tags": [],
            "needs_background": "light"
          }
        }
      ]
    },
    {
      "cell_type": "markdown",
      "metadata": {
        "id": "khDiqcZGu78X"
      },
      "source": [
        "Best Parameter for Model 3\n",
        "\n",
        "- Epoch : 10\n",
        "- Batch Size : 16"
      ]
    },
    {
      "cell_type": "markdown",
      "metadata": {
        "id": "rli_BIsrYDlw"
      },
      "source": [
        "### Part 3"
      ]
    },
    {
      "cell_type": "markdown",
      "metadata": {
        "id": "sSc2vibHbSJD"
      },
      "source": [
        "#### Model 1"
      ]
    },
    {
      "cell_type": "code",
      "metadata": {
        "id": "-2PZL_AtbiMe",
        "colab": {
          "base_uri": "https://localhost:8080/",
          "height": 425
        },
        "outputId": "1a15a2dd-2eae-42ee-d390-d8b3d60183b6"
      },
      "source": [
        "history=model_1.fit(X_train_z, y_train_z, epochs=20,batch_size=8,validation_data=(X_val_z, y_val_z),callbacks=early_stop)\n",
        "plt.plot(history.history['accuracy'], label='train')\n",
        "plt.plot(history.history['val_accuracy'], label='val')\n",
        "plt.legend()\n",
        "\n"
      ],
      "execution_count": 70,
      "outputs": [
        {
          "output_type": "stream",
          "text": [
            "Epoch 1/20\n",
            "1486/1486 [==============================] - 3s 2ms/step - loss: 0.9478 - accuracy: 0.5186 - val_loss: 0.7531 - val_accuracy: 0.6319\n",
            "Epoch 2/20\n",
            "1486/1486 [==============================] - 3s 2ms/step - loss: 0.7443 - accuracy: 0.6394 - val_loss: 0.7433 - val_accuracy: 0.6427\n",
            "Epoch 3/20\n",
            "1486/1486 [==============================] - 3s 2ms/step - loss: 0.7354 - accuracy: 0.6387 - val_loss: 0.7574 - val_accuracy: 0.6292\n",
            "Epoch 4/20\n",
            "1486/1486 [==============================] - 3s 2ms/step - loss: 0.7347 - accuracy: 0.6491 - val_loss: 0.7853 - val_accuracy: 0.6245\n"
          ],
          "name": "stdout"
        },
        {
          "output_type": "execute_result",
          "data": {
            "text/plain": [
              "<matplotlib.legend.Legend at 0x7fca72ad7ed0>"
            ]
          },
          "metadata": {
            "tags": []
          },
          "execution_count": 70
        },
        {
          "output_type": "display_data",
          "data": {
            "image/png": "[encoded data removed]",
            "text/plain": [
              "<Figure size 432x288 with 1 Axes>"
            ]
          },
          "metadata": {
            "tags": [],
            "needs_background": "light"
          }
        }
      ]
    },
    {
      "cell_type": "markdown",
      "metadata": {
        "id": "KbX0w38SbSMW"
      },
      "source": [
        "#### Model 2"
      ]
    },
    {
      "cell_type": "code",
      "metadata": {
        "colab": {
          "base_uri": "https://localhost:8080/",
          "height": 389
        },
        "id": "vYD4h7chbthv",
        "outputId": "e4458011-1f80-4ceb-ec90-30cf3e1099d6"
      },
      "source": [
        "history=model_2.fit(X_train_z, y_train_z, epochs=20,batch_size=64,validation_data=(X_val_z, y_val_z),callbacks=early_stop)\n",
        "plt.plot(history.history['accuracy'], label='train')\n",
        "plt.plot(history.history['val_accuracy'], label='val')\n",
        "plt.legend()"
      ],
      "execution_count": 74,
      "outputs": [
        {
          "output_type": "stream",
          "text": [
            "Epoch 1/20\n",
            "186/186 [==============================] - 1s 4ms/step - loss: 0.7222 - accuracy: 0.6537 - val_loss: 0.7218 - val_accuracy: 0.6555\n",
            "Epoch 2/20\n",
            "186/186 [==============================] - 0s 3ms/step - loss: 0.7217 - accuracy: 0.6522 - val_loss: 0.7470 - val_accuracy: 0.6427\n",
            "Epoch 3/20\n",
            "186/186 [==============================] - 0s 3ms/step - loss: 0.7234 - accuracy: 0.6520 - val_loss: 0.7230 - val_accuracy: 0.6581\n"
          ],
          "name": "stdout"
        },
        {
          "output_type": "execute_result",
          "data": {
            "text/plain": [
              "<matplotlib.legend.Legend at 0x7fca6d99ccd0>"
            ]
          },
          "metadata": {
            "tags": []
          },
          "execution_count": 74
        },
        {
          "output_type": "display_data",
          "data": {
            "image/png": "[encoded data removed]",
            "text/plain": [
              "<Figure size 432x288 with 1 Axes>"
            ]
          },
          "metadata": {
            "tags": [],
            "needs_background": "light"
          }
        }
      ]
    },
    {
      "cell_type": "markdown",
      "metadata": {
        "id": "RyIE6fHPbSO7"
      },
      "source": [
        "#### Model 3"
      ]
    },
    {
      "cell_type": "code",
      "metadata": {
        "id": "QNyWz3bXYGv-",
        "colab": {
          "base_uri": "https://localhost:8080/",
          "height": 532
        },
        "outputId": "35285b61-62e6-4fbd-dcee-64c46f5ecc54"
      },
      "source": [
        "history=model_3.fit(X_train_z, y_train_z, epochs=10,batch_size=16,validation_data=(X_val_z, y_val_z),callbacks=early_stop)\n",
        "plt.plot(history.history['accuracy'], label='train')\n",
        "plt.plot(history.history['val_accuracy'], label='val')\n",
        "plt.legend()"
      ],
      "execution_count": 72,
      "outputs": [
        {
          "output_type": "stream",
          "text": [
            "Epoch 1/10\n",
            "743/743 [==============================] - 2s 2ms/step - loss: 1.1201 - accuracy: 0.3899 - val_loss: 0.8910 - val_accuracy: 0.5821\n",
            "Epoch 2/10\n",
            "743/743 [==============================] - 1s 2ms/step - loss: 0.8406 - accuracy: 0.5952 - val_loss: 0.7703 - val_accuracy: 0.6494\n",
            "Epoch 3/10\n",
            "743/743 [==============================] - 1s 2ms/step - loss: 0.7467 - accuracy: 0.6360 - val_loss: 0.7351 - val_accuracy: 0.6528\n",
            "Epoch 4/10\n",
            "743/743 [==============================] - 2s 2ms/step - loss: 0.7282 - accuracy: 0.6449 - val_loss: 0.7324 - val_accuracy: 0.6555\n",
            "Epoch 5/10\n",
            "743/743 [==============================] - 1s 2ms/step - loss: 0.7224 - accuracy: 0.6534 - val_loss: 0.7323 - val_accuracy: 0.6474\n",
            "Epoch 6/10\n",
            "743/743 [==============================] - 1s 2ms/step - loss: 0.7419 - accuracy: 0.6420 - val_loss: 0.7384 - val_accuracy: 0.6494\n",
            "Epoch 7/10\n",
            "743/743 [==============================] - 1s 2ms/step - loss: 0.7180 - accuracy: 0.6527 - val_loss: 0.7358 - val_accuracy: 0.6460\n"
          ],
          "name": "stdout"
        },
        {
          "output_type": "execute_result",
          "data": {
            "text/plain": [
              "<matplotlib.legend.Legend at 0x7fca6daacfd0>"
            ]
          },
          "metadata": {
            "tags": []
          },
          "execution_count": 72
        },
        {
          "output_type": "display_data",
          "data": {
            "image/png": "[encoded data removed]",
            "text/plain": [
              "<Figure size 432x288 with 1 Axes>"
            ]
          },
          "metadata": {
            "tags": [],
            "needs_background": "light"
          }
        }
      ]
    },
    {
      "cell_type": "markdown",
      "metadata": {
        "id": "fk31EFui3iJC"
      },
      "source": [
        "## Part4"
      ]
    },
    {
      "cell_type": "markdown",
      "metadata": {
        "id": "BS4Fn0N93orn"
      },
      "source": [
        "From the above comparison of models, we got to know that model 3 works best and we would be evaluating on the test set to find the test accuracy."
      ]
    },
    {
      "cell_type": "code",
      "metadata": {
        "colab": {
          "base_uri": "https://localhost:8080/"
        },
        "id": "RSQYCd5k3pjS",
        "outputId": "c09f06ab-a3a2-40e0-8927-6ff34a5eb92c"
      },
      "source": [
        "loss, acc = model_3.evaluate(X_test_z, y_test_z, verbose=0)\n",
        "print('Test Accuracy: %.3f' % acc)"
      ],
      "execution_count": 73,
      "outputs": [
        {
          "output_type": "stream",
          "text": [
            "Test Accuracy: 0.641\n"
          ],
          "name": "stdout"
        }
      ]
    },
    {
      "cell_type": "code",
      "metadata": {
        "id": "jl4NC3-l6D-p"
      },
      "source": [
        "from sklearn.metrics import confusion_matrix\n",
        "def get_confusion_matrics_heatmap(X_test_z,y_test_z,model):\n",
        "  y_pred=model.predict_classes(X_test_z)\n",
        "  confusion = confusion_matrix(y_test_z, y_pred)\n",
        "  plt.title(\"Confusion matrix for Model 3 Evaluation\")\n",
        "\n",
        "  sns.heatmap(confusion, annot=True,    fmt='d', cmap='Blues')"
      ],
      "execution_count": 106,
      "outputs": []
    },
    {
      "cell_type": "code",
      "metadata": {
        "colab": {
          "base_uri": "https://localhost:8080/",
          "height": 336
        },
        "id": "iOuUzVl7m33E",
        "outputId": "3d21f220-35ba-4805-917a-901969ae4811"
      },
      "source": [
        "get_confusion_matrics_heatmap(X_test_z,y_test_z,model_3)"
      ],
      "execution_count": 107,
      "outputs": [
        {
          "output_type": "stream",
          "text": [
            "/usr/local/lib/python3.7/dist-packages/tensorflow/python/keras/engine/sequential.py:450: UserWarning: `model.predict_classes()` is deprecated and will be removed after 2021-01-01. Please use instead:* `np.argmax(model.predict(x), axis=-1)`,   if your model does multi-class classification   (e.g. if it uses a `softmax` last-layer activation).* `(model.predict(x) > 0.5).astype(\"int32\")`,   if your model does binary classification   (e.g. if it uses a `sigmoid` last-layer activation).\n",
            "  warnings.warn('`model.predict_classes()` is deprecated and '\n"
          ],
          "name": "stderr"
        },
        {
          "output_type": "display_data",
          "data": {
            "image/png": "[encoded data removed]",
            "text/plain": [
              "<Figure size 432x288 with 2 Axes>"
            ]
          },
          "metadata": {
            "tags": [],
            "needs_background": "light"
          }
        }
      ]
    },
    {
      "cell_type": "code",
      "metadata": {
        "id": "9o15V72sr0_f"
      },
      "source": [
        "from sklearn.metrics import accuracy_score, precision_score, recall_score, f1_score,cohen_kappa_score, roc_auc_score,confusion_matrix\n",
        "from sklearn.metrics import classification_report\n",
        "\n",
        "def get_metrics(model):\n",
        "  # target_names=['TARGET-1','TARGET-2','TARGET-3','TARGET-4','TARGET-5']\n",
        "  ypred=model.predict_classes(X_test_z)\n",
        "  # ypred=ypred+1\n",
        "  # y_true=((np.argmax(y_test_z, axis=1)))\n",
        "  print(classification_report(y_test_z, ypred))"
      ],
      "execution_count": 96,
      "outputs": []
    },
    {
      "cell_type": "code",
      "metadata": {
        "colab": {
          "base_uri": "https://localhost:8080/"
        },
        "id": "Kc3N4Qjo367F",
        "outputId": "216f7e6e-4804-4677-ce74-23108c40517b"
      },
      "source": [
        "get_metrics(model_3)"
      ],
      "execution_count": 97,
      "outputs": [
        {
          "output_type": "stream",
          "text": [
            "              precision    recall  f1-score   support\n",
            "\n",
            "           0       0.74      0.91      0.82       462\n",
            "           1       0.58      0.34      0.43       485\n",
            "           2       0.58      0.68      0.63       539\n",
            "\n",
            "    accuracy                           0.64      1486\n",
            "   macro avg       0.63      0.64      0.62      1486\n",
            "weighted avg       0.63      0.64      0.62      1486\n",
            "\n"
          ],
          "name": "stdout"
        },
        {
          "output_type": "stream",
          "text": [
            "/usr/local/lib/python3.7/dist-packages/tensorflow/python/keras/engine/sequential.py:450: UserWarning: `model.predict_classes()` is deprecated and will be removed after 2021-01-01. Please use instead:* `np.argmax(model.predict(x), axis=-1)`,   if your model does multi-class classification   (e.g. if it uses a `softmax` last-layer activation).* `(model.predict(x) > 0.5).astype(\"int32\")`,   if your model does binary classification   (e.g. if it uses a `sigmoid` last-layer activation).\n",
            "  warnings.warn('`model.predict_classes()` is deprecated and '\n"
          ],
          "name": "stderr"
        }
      ]
    },
    {
      "cell_type": "markdown",
      "metadata": {
        "id": "Y6E9pSXONWyM"
      },
      "source": [
        "# For different epoch/initializer/batch/optiizer Ignore this whole code chunk)"
      ]
    },
    {
      "cell_type": "markdown",
      "metadata": {
        "id": "aNNCECE9sT_n"
      },
      "source": [
        "## Model 1"
      ]
    },
    {
      "cell_type": "code",
      "metadata": {
        "id": "pkqBcATtsYGp"
      },
      "source": [
        ""
      ],
      "execution_count": null,
      "outputs": []
    },
    {
      "cell_type": "code",
      "metadata": {
        "id": "FMfwNzFpDs_R"
      },
      "source": [
        "def create_model_2(init_mode='he_normal',optimizer='adam'):\n",
        "    # define model\n",
        "    model = Sequential()\n",
        "    model.add(Dense(3, kernel_initializer=init_mode, activation='relu', input_dim=9)) \n",
        "    model.add(Dense(3, kernel_initializer=init_mode, activation='relu'))\n",
        "    model.add(Dense(3, kernel_initializer=init_mode, activation='softmax'))\n",
        "    # compile model\n",
        "    model.compile(loss='sparse_categorical_crossentropy',\n",
        "              optimizer=optimizer,\n",
        "              metrics=['accuracy'])\n",
        "    return model"
      ],
      "execution_count": null,
      "outputs": []
    },
    {
      "cell_type": "code",
      "metadata": {
        "colab": {
          "base_uri": "https://localhost:8080/",
          "height": 352
        },
        "id": "ztYss_1EN6lY",
        "outputId": "3ff02f24-7e36-4610-f822-f66d9a983b8e"
      },
      "source": [
        "seed = 7\n",
        "np.random.seed(seed)\n",
        "\n",
        "# create the sklearn model for the network\n",
        "model_init_batch_epoch_CV = keras.wrappers.scikit_learn.KerasClassifier(build_fn=create_model_2, verbose=1)\n",
        "\n",
        "# we choose the initializers that came at the top in our previous cross-validation!!\n",
        "init_mode = ['uniform', 'lecun_uniform', 'normal', 'zero', \n",
        "             'glorot_normal', 'glorot_uniform', 'he_normal', 'he_uniform'] \n",
        "# optimizer = ['SGD', 'RMSprop', 'Adagrad', 'Adadelta', 'Adam', 'Adamax', 'Nadam']\n",
        "batch_size = [128, 512]\n",
        "epochs = [10,20,50,100,150]\n",
        "\n",
        "# grid search for initializer, batch size and number of epochs\n",
        "param_grid = dict(epochs=epochs, batch_size=batch_size,init_mode = init_mode)\n",
        "grid = GridSearchCV(estimator=model_init_batch_epoch_CV, \n",
        "                    param_grid=param_grid,n_jobs =-1,\n",
        "                    cv=3)\n",
        "grid_result = grid.fit(X_train_z, y_train_z)"
      ],
      "execution_count": null,
      "outputs": [
        {
          "output_type": "error",
          "ename": "KeyboardInterrupt",
          "evalue": "ignored",
          "traceback": [
            "\u001b[0;31m---------------------------------------------------------------------------\u001b[0m",
            "\u001b[0;31mKeyboardInterrupt\u001b[0m                         Traceback (most recent call last)",
            "\u001b[0;32m<ipython-input-45-1a43c7c6c6b6>\u001b[0m in \u001b[0;36m<module>\u001b[0;34m()\u001b[0m\n\u001b[1;32m     17\u001b[0m                     \u001b[0mparam_grid\u001b[0m\u001b[0;34m=\u001b[0m\u001b[0mparam_grid\u001b[0m\u001b[0;34m,\u001b[0m\u001b[0mn_jobs\u001b[0m \u001b[0;34m=\u001b[0m\u001b[0;34m-\u001b[0m\u001b[0;36m1\u001b[0m\u001b[0;34m,\u001b[0m\u001b[0;34m\u001b[0m\u001b[0;34m\u001b[0m\u001b[0m\n\u001b[1;32m     18\u001b[0m                     cv=3)\n\u001b[0;32m---> 19\u001b[0;31m \u001b[0mgrid_result\u001b[0m \u001b[0;34m=\u001b[0m \u001b[0mgrid\u001b[0m\u001b[0;34m.\u001b[0m\u001b[0mfit\u001b[0m\u001b[0;34m(\u001b[0m\u001b[0mX_train_z\u001b[0m\u001b[0;34m,\u001b[0m \u001b[0my_train_z\u001b[0m\u001b[0;34m)\u001b[0m\u001b[0;34m\u001b[0m\u001b[0;34m\u001b[0m\u001b[0m\n\u001b[0m",
            "\u001b[0;32m/usr/local/lib/python3.7/dist-packages/sklearn/model_selection/_search.py\u001b[0m in \u001b[0;36mfit\u001b[0;34m(self, X, y, groups, **fit_params)\u001b[0m\n\u001b[1;32m    708\u001b[0m                 \u001b[0;32mreturn\u001b[0m \u001b[0mresults\u001b[0m\u001b[0;34m\u001b[0m\u001b[0;34m\u001b[0m\u001b[0m\n\u001b[1;32m    709\u001b[0m \u001b[0;34m\u001b[0m\u001b[0m\n\u001b[0;32m--> 710\u001b[0;31m             \u001b[0mself\u001b[0m\u001b[0;34m.\u001b[0m\u001b[0m_run_search\u001b[0m\u001b[0;34m(\u001b[0m\u001b[0mevaluate_candidates\u001b[0m\u001b[0;34m)\u001b[0m\u001b[0;34m\u001b[0m\u001b[0;34m\u001b[0m\u001b[0m\n\u001b[0m\u001b[1;32m    711\u001b[0m \u001b[0;34m\u001b[0m\u001b[0m\n\u001b[1;32m    712\u001b[0m         \u001b[0;31m# For multi-metric evaluation, store the best_index_, best_params_ and\u001b[0m\u001b[0;34m\u001b[0m\u001b[0;34m\u001b[0m\u001b[0;34m\u001b[0m\u001b[0m\n",
            "\u001b[0;32m/usr/local/lib/python3.7/dist-packages/sklearn/model_selection/_search.py\u001b[0m in \u001b[0;36m_run_search\u001b[0;34m(self, evaluate_candidates)\u001b[0m\n\u001b[1;32m   1149\u001b[0m     \u001b[0;32mdef\u001b[0m \u001b[0m_run_search\u001b[0m\u001b[0;34m(\u001b[0m\u001b[0mself\u001b[0m\u001b[0;34m,\u001b[0m \u001b[0mevaluate_candidates\u001b[0m\u001b[0;34m)\u001b[0m\u001b[0;34m:\u001b[0m\u001b[0;34m\u001b[0m\u001b[0;34m\u001b[0m\u001b[0m\n\u001b[1;32m   1150\u001b[0m         \u001b[0;34m\"\"\"Search all candidates in param_grid\"\"\"\u001b[0m\u001b[0;34m\u001b[0m\u001b[0;34m\u001b[0m\u001b[0m\n\u001b[0;32m-> 1151\u001b[0;31m         \u001b[0mevaluate_candidates\u001b[0m\u001b[0;34m(\u001b[0m\u001b[0mParameterGrid\u001b[0m\u001b[0;34m(\u001b[0m\u001b[0mself\u001b[0m\u001b[0;34m.\u001b[0m\u001b[0mparam_grid\u001b[0m\u001b[0;34m)\u001b[0m\u001b[0;34m)\u001b[0m\u001b[0;34m\u001b[0m\u001b[0;34m\u001b[0m\u001b[0m\n\u001b[0m\u001b[1;32m   1152\u001b[0m \u001b[0;34m\u001b[0m\u001b[0m\n\u001b[1;32m   1153\u001b[0m \u001b[0;34m\u001b[0m\u001b[0m\n",
            "\u001b[0;32m/usr/local/lib/python3.7/dist-packages/sklearn/model_selection/_search.py\u001b[0m in \u001b[0;36mevaluate_candidates\u001b[0;34m(candidate_params)\u001b[0m\n\u001b[1;32m    687\u001b[0m                                \u001b[0;32mfor\u001b[0m \u001b[0mparameters\u001b[0m\u001b[0;34m,\u001b[0m \u001b[0;34m(\u001b[0m\u001b[0mtrain\u001b[0m\u001b[0;34m,\u001b[0m \u001b[0mtest\u001b[0m\u001b[0;34m)\u001b[0m\u001b[0;34m\u001b[0m\u001b[0;34m\u001b[0m\u001b[0m\n\u001b[1;32m    688\u001b[0m                                in product(candidate_params,\n\u001b[0;32m--> 689\u001b[0;31m                                           cv.split(X, y, groups)))\n\u001b[0m\u001b[1;32m    690\u001b[0m \u001b[0;34m\u001b[0m\u001b[0m\n\u001b[1;32m    691\u001b[0m                 \u001b[0;32mif\u001b[0m \u001b[0mlen\u001b[0m\u001b[0;34m(\u001b[0m\u001b[0mout\u001b[0m\u001b[0;34m)\u001b[0m \u001b[0;34m<\u001b[0m \u001b[0;36m1\u001b[0m\u001b[0;34m:\u001b[0m\u001b[0;34m\u001b[0m\u001b[0;34m\u001b[0m\u001b[0m\n",
            "\u001b[0;32m/usr/local/lib/python3.7/dist-packages/joblib/parallel.py\u001b[0m in \u001b[0;36m__call__\u001b[0;34m(self, iterable)\u001b[0m\n\u001b[1;32m   1052\u001b[0m \u001b[0;34m\u001b[0m\u001b[0m\n\u001b[1;32m   1053\u001b[0m             \u001b[0;32mwith\u001b[0m \u001b[0mself\u001b[0m\u001b[0;34m.\u001b[0m\u001b[0m_backend\u001b[0m\u001b[0;34m.\u001b[0m\u001b[0mretrieval_context\u001b[0m\u001b[0;34m(\u001b[0m\u001b[0;34m)\u001b[0m\u001b[0;34m:\u001b[0m\u001b[0;34m\u001b[0m\u001b[0;34m\u001b[0m\u001b[0m\n\u001b[0;32m-> 1054\u001b[0;31m                 \u001b[0mself\u001b[0m\u001b[0;34m.\u001b[0m\u001b[0mretrieve\u001b[0m\u001b[0;34m(\u001b[0m\u001b[0;34m)\u001b[0m\u001b[0;34m\u001b[0m\u001b[0;34m\u001b[0m\u001b[0m\n\u001b[0m\u001b[1;32m   1055\u001b[0m             \u001b[0;31m# Make sure that we get a last message telling us we are done\u001b[0m\u001b[0;34m\u001b[0m\u001b[0;34m\u001b[0m\u001b[0;34m\u001b[0m\u001b[0m\n\u001b[1;32m   1056\u001b[0m             \u001b[0melapsed_time\u001b[0m \u001b[0;34m=\u001b[0m \u001b[0mtime\u001b[0m\u001b[0;34m.\u001b[0m\u001b[0mtime\u001b[0m\u001b[0;34m(\u001b[0m\u001b[0;34m)\u001b[0m \u001b[0;34m-\u001b[0m \u001b[0mself\u001b[0m\u001b[0;34m.\u001b[0m\u001b[0m_start_time\u001b[0m\u001b[0;34m\u001b[0m\u001b[0;34m\u001b[0m\u001b[0m\n",
            "\u001b[0;32m/usr/local/lib/python3.7/dist-packages/joblib/parallel.py\u001b[0m in \u001b[0;36mretrieve\u001b[0;34m(self)\u001b[0m\n\u001b[1;32m    931\u001b[0m             \u001b[0;32mtry\u001b[0m\u001b[0;34m:\u001b[0m\u001b[0;34m\u001b[0m\u001b[0;34m\u001b[0m\u001b[0m\n\u001b[1;32m    932\u001b[0m                 \u001b[0;32mif\u001b[0m \u001b[0mgetattr\u001b[0m\u001b[0;34m(\u001b[0m\u001b[0mself\u001b[0m\u001b[0;34m.\u001b[0m\u001b[0m_backend\u001b[0m\u001b[0;34m,\u001b[0m \u001b[0;34m'supports_timeout'\u001b[0m\u001b[0;34m,\u001b[0m \u001b[0;32mFalse\u001b[0m\u001b[0;34m)\u001b[0m\u001b[0;34m:\u001b[0m\u001b[0;34m\u001b[0m\u001b[0;34m\u001b[0m\u001b[0m\n\u001b[0;32m--> 933\u001b[0;31m                     \u001b[0mself\u001b[0m\u001b[0;34m.\u001b[0m\u001b[0m_output\u001b[0m\u001b[0;34m.\u001b[0m\u001b[0mextend\u001b[0m\u001b[0;34m(\u001b[0m\u001b[0mjob\u001b[0m\u001b[0;34m.\u001b[0m\u001b[0mget\u001b[0m\u001b[0;34m(\u001b[0m\u001b[0mtimeout\u001b[0m\u001b[0;34m=\u001b[0m\u001b[0mself\u001b[0m\u001b[0;34m.\u001b[0m\u001b[0mtimeout\u001b[0m\u001b[0;34m)\u001b[0m\u001b[0;34m)\u001b[0m\u001b[0;34m\u001b[0m\u001b[0;34m\u001b[0m\u001b[0m\n\u001b[0m\u001b[1;32m    934\u001b[0m                 \u001b[0;32melse\u001b[0m\u001b[0;34m:\u001b[0m\u001b[0;34m\u001b[0m\u001b[0;34m\u001b[0m\u001b[0m\n\u001b[1;32m    935\u001b[0m                     \u001b[0mself\u001b[0m\u001b[0;34m.\u001b[0m\u001b[0m_output\u001b[0m\u001b[0;34m.\u001b[0m\u001b[0mextend\u001b[0m\u001b[0;34m(\u001b[0m\u001b[0mjob\u001b[0m\u001b[0;34m.\u001b[0m\u001b[0mget\u001b[0m\u001b[0;34m(\u001b[0m\u001b[0;34m)\u001b[0m\u001b[0;34m)\u001b[0m\u001b[0;34m\u001b[0m\u001b[0;34m\u001b[0m\u001b[0m\n",
            "\u001b[0;32m/usr/local/lib/python3.7/dist-packages/joblib/_parallel_backends.py\u001b[0m in \u001b[0;36mwrap_future_result\u001b[0;34m(future, timeout)\u001b[0m\n\u001b[1;32m    540\u001b[0m         AsyncResults.get from multiprocessing.\"\"\"\n\u001b[1;32m    541\u001b[0m         \u001b[0;32mtry\u001b[0m\u001b[0;34m:\u001b[0m\u001b[0;34m\u001b[0m\u001b[0;34m\u001b[0m\u001b[0m\n\u001b[0;32m--> 542\u001b[0;31m             \u001b[0;32mreturn\u001b[0m \u001b[0mfuture\u001b[0m\u001b[0;34m.\u001b[0m\u001b[0mresult\u001b[0m\u001b[0;34m(\u001b[0m\u001b[0mtimeout\u001b[0m\u001b[0;34m=\u001b[0m\u001b[0mtimeout\u001b[0m\u001b[0;34m)\u001b[0m\u001b[0;34m\u001b[0m\u001b[0;34m\u001b[0m\u001b[0m\n\u001b[0m\u001b[1;32m    543\u001b[0m         \u001b[0;32mexcept\u001b[0m \u001b[0mCfTimeoutError\u001b[0m \u001b[0;32mas\u001b[0m \u001b[0me\u001b[0m\u001b[0;34m:\u001b[0m\u001b[0;34m\u001b[0m\u001b[0;34m\u001b[0m\u001b[0m\n\u001b[1;32m    544\u001b[0m             \u001b[0;32mraise\u001b[0m \u001b[0mTimeoutError\u001b[0m \u001b[0;32mfrom\u001b[0m \u001b[0me\u001b[0m\u001b[0;34m\u001b[0m\u001b[0;34m\u001b[0m\u001b[0m\n",
            "\u001b[0;32m/usr/lib/python3.7/concurrent/futures/_base.py\u001b[0m in \u001b[0;36mresult\u001b[0;34m(self, timeout)\u001b[0m\n\u001b[1;32m    428\u001b[0m                 \u001b[0;32mreturn\u001b[0m \u001b[0mself\u001b[0m\u001b[0;34m.\u001b[0m\u001b[0m__get_result\u001b[0m\u001b[0;34m(\u001b[0m\u001b[0;34m)\u001b[0m\u001b[0;34m\u001b[0m\u001b[0;34m\u001b[0m\u001b[0m\n\u001b[1;32m    429\u001b[0m \u001b[0;34m\u001b[0m\u001b[0m\n\u001b[0;32m--> 430\u001b[0;31m             \u001b[0mself\u001b[0m\u001b[0;34m.\u001b[0m\u001b[0m_condition\u001b[0m\u001b[0;34m.\u001b[0m\u001b[0mwait\u001b[0m\u001b[0;34m(\u001b[0m\u001b[0mtimeout\u001b[0m\u001b[0;34m)\u001b[0m\u001b[0;34m\u001b[0m\u001b[0;34m\u001b[0m\u001b[0m\n\u001b[0m\u001b[1;32m    431\u001b[0m \u001b[0;34m\u001b[0m\u001b[0m\n\u001b[1;32m    432\u001b[0m             \u001b[0;32mif\u001b[0m \u001b[0mself\u001b[0m\u001b[0;34m.\u001b[0m\u001b[0m_state\u001b[0m \u001b[0;32min\u001b[0m \u001b[0;34m[\u001b[0m\u001b[0mCANCELLED\u001b[0m\u001b[0;34m,\u001b[0m \u001b[0mCANCELLED_AND_NOTIFIED\u001b[0m\u001b[0;34m]\u001b[0m\u001b[0;34m:\u001b[0m\u001b[0;34m\u001b[0m\u001b[0;34m\u001b[0m\u001b[0m\n",
            "\u001b[0;32m/usr/lib/python3.7/threading.py\u001b[0m in \u001b[0;36mwait\u001b[0;34m(self, timeout)\u001b[0m\n\u001b[1;32m    294\u001b[0m         \u001b[0;32mtry\u001b[0m\u001b[0;34m:\u001b[0m    \u001b[0;31m# restore state no matter what (e.g., KeyboardInterrupt)\u001b[0m\u001b[0;34m\u001b[0m\u001b[0;34m\u001b[0m\u001b[0m\n\u001b[1;32m    295\u001b[0m             \u001b[0;32mif\u001b[0m \u001b[0mtimeout\u001b[0m \u001b[0;32mis\u001b[0m \u001b[0;32mNone\u001b[0m\u001b[0;34m:\u001b[0m\u001b[0;34m\u001b[0m\u001b[0;34m\u001b[0m\u001b[0m\n\u001b[0;32m--> 296\u001b[0;31m                 \u001b[0mwaiter\u001b[0m\u001b[0;34m.\u001b[0m\u001b[0macquire\u001b[0m\u001b[0;34m(\u001b[0m\u001b[0;34m)\u001b[0m\u001b[0;34m\u001b[0m\u001b[0;34m\u001b[0m\u001b[0m\n\u001b[0m\u001b[1;32m    297\u001b[0m                 \u001b[0mgotit\u001b[0m \u001b[0;34m=\u001b[0m \u001b[0;32mTrue\u001b[0m\u001b[0;34m\u001b[0m\u001b[0;34m\u001b[0m\u001b[0m\n\u001b[1;32m    298\u001b[0m             \u001b[0;32melse\u001b[0m\u001b[0;34m:\u001b[0m\u001b[0;34m\u001b[0m\u001b[0;34m\u001b[0m\u001b[0m\n",
            "\u001b[0;31mKeyboardInterrupt\u001b[0m: "
          ]
        }
      ]
    },
    {
      "cell_type": "code",
      "metadata": {
        "colab": {
          "base_uri": "https://localhost:8080/"
        },
        "id": "uYhNMgZvOeXl",
        "outputId": "c5835456-fc42-4801-db8c-63458e468bfb"
      },
      "source": [
        "print(f'Best Accuracy for {grid_result.best_score_:.4} using {grid_result.best_params_}')\n",
        "means = grid_result.cv_results_['mean_test_score']\n",
        "stds = grid_result.cv_results_['std_test_score']\n",
        "params = grid_result.cv_results_['params']\n",
        "for mean, stdev, param in zip(means, stds, params):\n",
        "    print(f'mean={mean:.4}, std={stdev:.4} using {param}')"
      ],
      "execution_count": null,
      "outputs": [
        {
          "output_type": "stream",
          "text": [
            "Best Accuracy for 0.6528 using {'batch_size': 128, 'epochs': 150, 'init_mode': 'he_normal'}\n",
            "mean=0.5846, std=0.009141 using {'batch_size': 128, 'epochs': 10, 'init_mode': 'uniform'}\n",
            "mean=0.5912, std=0.004382 using {'batch_size': 128, 'epochs': 10, 'init_mode': 'lecun_uniform'}\n",
            "mean=0.5075, std=0.1169 using {'batch_size': 128, 'epochs': 10, 'init_mode': 'normal'}\n",
            "mean=0.3319, std=0.003216 using {'batch_size': 128, 'epochs': 10, 'init_mode': 'zero'}\n",
            "mean=0.6078, std=0.01447 using {'batch_size': 128, 'epochs': 10, 'init_mode': 'glorot_normal'}\n",
            "mean=0.6017, std=0.02201 using {'batch_size': 128, 'epochs': 10, 'init_mode': 'glorot_uniform'}\n",
            "mean=0.5278, std=0.04908 using {'batch_size': 128, 'epochs': 10, 'init_mode': 'he_normal'}\n",
            "mean=0.5055, std=0.08122 using {'batch_size': 128, 'epochs': 10, 'init_mode': 'he_uniform'}\n",
            "mean=0.5891, std=0.006248 using {'batch_size': 128, 'epochs': 20, 'init_mode': 'uniform'}\n",
            "mean=0.589, std=0.007496 using {'batch_size': 128, 'epochs': 20, 'init_mode': 'lecun_uniform'}\n",
            "mean=0.5898, std=0.005649 using {'batch_size': 128, 'epochs': 20, 'init_mode': 'normal'}\n",
            "mean=0.3319, std=0.003216 using {'batch_size': 128, 'epochs': 20, 'init_mode': 'zero'}\n",
            "mean=0.6049, std=0.02485 using {'batch_size': 128, 'epochs': 20, 'init_mode': 'glorot_normal'}\n",
            "mean=0.6319, std=0.01092 using {'batch_size': 128, 'epochs': 20, 'init_mode': 'glorot_uniform'}\n",
            "mean=0.511, std=0.124 using {'batch_size': 128, 'epochs': 20, 'init_mode': 'he_normal'}\n",
            "mean=0.6029, std=0.02176 using {'batch_size': 128, 'epochs': 20, 'init_mode': 'he_uniform'}\n",
            "mean=0.5913, std=0.003474 using {'batch_size': 128, 'epochs': 50, 'init_mode': 'uniform'}\n",
            "mean=0.6467, std=0.007239 using {'batch_size': 128, 'epochs': 50, 'init_mode': 'lecun_uniform'}\n",
            "mean=0.5939, std=0.01049 using {'batch_size': 128, 'epochs': 50, 'init_mode': 'normal'}\n",
            "mean=0.3319, std=0.003216 using {'batch_size': 128, 'epochs': 50, 'init_mode': 'zero'}\n",
            "mean=0.6348, std=0.02045 using {'batch_size': 128, 'epochs': 50, 'init_mode': 'glorot_normal'}\n",
            "mean=0.6314, std=0.02336 using {'batch_size': 128, 'epochs': 50, 'init_mode': 'glorot_uniform'}\n",
            "mean=0.6261, std=0.02926 using {'batch_size': 128, 'epochs': 50, 'init_mode': 'he_normal'}\n",
            "mean=0.6388, std=0.02658 using {'batch_size': 128, 'epochs': 50, 'init_mode': 'he_uniform'}\n",
            "mean=0.5982, std=0.01522 using {'batch_size': 128, 'epochs': 100, 'init_mode': 'uniform'}\n",
            "mean=0.6502, std=0.006526 using {'batch_size': 128, 'epochs': 100, 'init_mode': 'lecun_uniform'}\n",
            "mean=0.5135, std=0.1254 using {'batch_size': 128, 'epochs': 100, 'init_mode': 'normal'}\n",
            "mean=0.3366, std=0.004407 using {'batch_size': 128, 'epochs': 100, 'init_mode': 'zero'}\n",
            "mean=0.6284, std=0.0228 using {'batch_size': 128, 'epochs': 100, 'init_mode': 'glorot_normal'}\n",
            "mean=0.5288, std=0.1415 using {'batch_size': 128, 'epochs': 100, 'init_mode': 'glorot_uniform'}\n",
            "mean=0.6285, std=0.02297 using {'batch_size': 128, 'epochs': 100, 'init_mode': 'he_normal'}\n",
            "mean=0.6277, std=0.02749 using {'batch_size': 128, 'epochs': 100, 'init_mode': 'he_uniform'}\n",
            "mean=0.6335, std=0.03304 using {'batch_size': 128, 'epochs': 150, 'init_mode': 'uniform'}\n",
            "mean=0.6516, std=0.006956 using {'batch_size': 128, 'epochs': 150, 'init_mode': 'lecun_uniform'}\n",
            "mean=0.6285, std=0.02673 using {'batch_size': 128, 'epochs': 150, 'init_mode': 'normal'}\n",
            "mean=0.3319, std=0.003216 using {'batch_size': 128, 'epochs': 150, 'init_mode': 'zero'}\n",
            "mean=0.5435, std=0.1501 using {'batch_size': 128, 'epochs': 150, 'init_mode': 'glorot_normal'}\n",
            "mean=0.6491, std=0.008913 using {'batch_size': 128, 'epochs': 150, 'init_mode': 'glorot_uniform'}\n",
            "mean=0.6528, std=0.007816 using {'batch_size': 128, 'epochs': 150, 'init_mode': 'he_normal'}\n",
            "mean=0.6363, std=0.02113 using {'batch_size': 128, 'epochs': 150, 'init_mode': 'he_uniform'}\n",
            "mean=0.4615, std=0.08909 using {'batch_size': 512, 'epochs': 10, 'init_mode': 'uniform'}\n",
            "mean=0.4765, std=0.04358 using {'batch_size': 512, 'epochs': 10, 'init_mode': 'lecun_uniform'}\n",
            "mean=0.4594, std=0.0924 using {'batch_size': 512, 'epochs': 10, 'init_mode': 'normal'}\n",
            "mean=0.3319, std=0.003216 using {'batch_size': 512, 'epochs': 10, 'init_mode': 'zero'}\n",
            "mean=0.4191, std=0.06709 using {'batch_size': 512, 'epochs': 10, 'init_mode': 'glorot_normal'}\n",
            "mean=0.4215, std=0.09334 using {'batch_size': 512, 'epochs': 10, 'init_mode': 'glorot_uniform'}\n",
            "mean=0.379, std=0.06596 using {'batch_size': 512, 'epochs': 10, 'init_mode': 'he_normal'}\n",
            "mean=0.3646, std=0.06418 using {'batch_size': 512, 'epochs': 10, 'init_mode': 'he_uniform'}\n",
            "mean=0.5666, std=0.01117 using {'batch_size': 512, 'epochs': 20, 'init_mode': 'uniform'}\n",
            "mean=0.4228, std=0.1121 using {'batch_size': 512, 'epochs': 20, 'init_mode': 'lecun_uniform'}\n",
            "mean=0.5662, std=0.01801 using {'batch_size': 512, 'epochs': 20, 'init_mode': 'normal'}\n",
            "mean=0.3319, std=0.003216 using {'batch_size': 512, 'epochs': 20, 'init_mode': 'zero'}\n",
            "mean=0.551, std=0.0159 using {'batch_size': 512, 'epochs': 20, 'init_mode': 'glorot_normal'}\n",
            "mean=0.543, std=0.04061 using {'batch_size': 512, 'epochs': 20, 'init_mode': 'glorot_uniform'}\n",
            "mean=0.5097, std=0.08035 using {'batch_size': 512, 'epochs': 20, 'init_mode': 'he_normal'}\n",
            "mean=0.3703, std=0.1558 using {'batch_size': 512, 'epochs': 20, 'init_mode': 'he_uniform'}\n",
            "mean=0.5917, std=0.005795 using {'batch_size': 512, 'epochs': 50, 'init_mode': 'uniform'}\n",
            "mean=0.6169, std=0.01494 using {'batch_size': 512, 'epochs': 50, 'init_mode': 'lecun_uniform'}\n",
            "mean=0.5951, std=0.006655 using {'batch_size': 512, 'epochs': 50, 'init_mode': 'normal'}\n",
            "mean=0.3319, std=0.003216 using {'batch_size': 512, 'epochs': 50, 'init_mode': 'zero'}\n",
            "mean=0.6256, std=0.02042 using {'batch_size': 512, 'epochs': 50, 'init_mode': 'glorot_normal'}\n",
            "mean=0.5998, std=0.01508 using {'batch_size': 512, 'epochs': 50, 'init_mode': 'glorot_uniform'}\n",
            "mean=0.5718, std=0.0553 using {'batch_size': 512, 'epochs': 50, 'init_mode': 'he_normal'}\n",
            "mean=0.5759, std=0.01191 using {'batch_size': 512, 'epochs': 50, 'init_mode': 'he_uniform'}\n",
            "mean=0.5937, std=0.003001 using {'batch_size': 512, 'epochs': 100, 'init_mode': 'uniform'}\n",
            "mean=0.5221, std=0.1274 using {'batch_size': 512, 'epochs': 100, 'init_mode': 'lecun_uniform'}\n",
            "mean=0.5936, std=0.008926 using {'batch_size': 512, 'epochs': 100, 'init_mode': 'normal'}\n",
            "mean=0.3319, std=0.003216 using {'batch_size': 512, 'epochs': 100, 'init_mode': 'zero'}\n",
            "mean=0.6201, std=0.03476 using {'batch_size': 512, 'epochs': 100, 'init_mode': 'glorot_normal'}\n",
            "mean=0.6295, std=0.01432 using {'batch_size': 512, 'epochs': 100, 'init_mode': 'glorot_uniform'}\n",
            "mean=0.5588, std=0.08958 using {'batch_size': 512, 'epochs': 100, 'init_mode': 'he_normal'}\n",
            "mean=0.5948, std=0.01817 using {'batch_size': 512, 'epochs': 100, 'init_mode': 'he_uniform'}\n",
            "mean=0.6036, std=0.006231 using {'batch_size': 512, 'epochs': 150, 'init_mode': 'uniform'}\n",
            "mean=0.6163, std=0.01482 using {'batch_size': 512, 'epochs': 150, 'init_mode': 'lecun_uniform'}\n",
            "mean=0.5912, std=0.002019 using {'batch_size': 512, 'epochs': 150, 'init_mode': 'normal'}\n",
            "mean=0.3319, std=0.003216 using {'batch_size': 512, 'epochs': 150, 'init_mode': 'zero'}\n",
            "mean=0.6154, std=0.03024 using {'batch_size': 512, 'epochs': 150, 'init_mode': 'glorot_normal'}\n",
            "mean=0.6414, std=0.007046 using {'batch_size': 512, 'epochs': 150, 'init_mode': 'glorot_uniform'}\n",
            "mean=0.643, std=0.01066 using {'batch_size': 512, 'epochs': 150, 'init_mode': 'he_normal'}\n",
            "mean=0.6354, std=0.0237 using {'batch_size': 512, 'epochs': 150, 'init_mode': 'he_uniform'}\n"
          ],
          "name": "stdout"
        }
      ]
    },
    {
      "cell_type": "markdown",
      "metadata": {
        "id": "bdUDP_3QshEr"
      },
      "source": [
        "## Model 2"
      ]
    },
    {
      "cell_type": "code",
      "metadata": {
        "id": "9E5RB_awsjaq"
      },
      "source": [
        "def create_model_3(init_mode='he_normal',optimizer='adam'):\n",
        "    # define model\n",
        "    model = Sequential()\n",
        "    model.add(Dense(8, kernel_initializer=init_mode, activation='relu', input_dim=9)) \n",
        "    model.add(Dropout(0.1))\n",
        "    model.add(Dense(5, kernel_initializer=init_mode, activation='relu'))\n",
        "    model.add(Dense(3, kernel_initializer=init_mode, activation='softmax'))\n",
        "    # compile model\n",
        "    model.compile(loss='sparse_categorical_crossentropy',\n",
        "              optimizer=optimizer,\n",
        "              metrics=['accuracy'])\n",
        "    return model"
      ],
      "execution_count": null,
      "outputs": []
    },
    {
      "cell_type": "code",
      "metadata": {
        "colab": {
          "background_save": true
        },
        "id": "OI5c_z7Zs0iX",
        "outputId": "b763a6ad-12c3-4297-ae44-c81574066040"
      },
      "source": [
        "seed = 7\n",
        "np.random.seed(seed)\n",
        "\n",
        "# create the sklearn model for the network\n",
        "model_init_batch_epoch_CV = keras.wrappers.scikit_learn.KerasClassifier(build_fn=create_model_3, verbose=1)\n",
        "\n",
        "# we choose the initializers that came at the top in our previous cross-validation!!\n",
        "init_mode = ['uniform', 'lecun_uniform', 'normal', 'zero', \n",
        "             'glorot_normal', 'glorot_uniform', 'he_normal', 'he_uniform'] \n",
        "# optimizer = ['SGD', 'RMSprop', 'Adagrad', 'Adadelta', 'Adam', 'Adamax', 'Nadam']\n",
        "batch_size = [8,16,32,64,128,256, 512]\n",
        "epochs = [10,20,50,100,150]\n",
        "\n",
        "# grid search for initializer, batch size and number of epochs\n",
        "param_grid = dict(epochs=epochs, batch_size=batch_size,init_mode = init_mode)\n",
        "grid = GridSearchCV(estimator=model_init_batch_epoch_CV, \n",
        "                    param_grid=param_grid,n_jobs =-1,\n",
        "                    cv=3)\n",
        "grid_result = grid.fit(X_train_z, y_train_z)"
      ],
      "execution_count": null,
      "outputs": [
        {
          "output_type": "stream",
          "text": [
            "Epoch 1/150\n",
            "372/372 [==============================] - 1s 1ms/step - loss: 1.1340 - accuracy: 0.3407\n",
            "Epoch 2/150\n",
            "372/372 [==============================] - 0s 1ms/step - loss: 0.9585 - accuracy: 0.5286\n",
            "Epoch 3/150\n",
            "372/372 [==============================] - 0s 1ms/step - loss: 0.8628 - accuracy: 0.5737\n",
            "Epoch 4/150\n",
            "372/372 [==============================] - 0s 1ms/step - loss: 0.8214 - accuracy: 0.5913\n",
            "Epoch 5/150\n",
            "372/372 [==============================] - 0s 1ms/step - loss: 0.7922 - accuracy: 0.6266\n",
            "Epoch 6/150\n",
            "372/372 [==============================] - 0s 1ms/step - loss: 0.7671 - accuracy: 0.6338\n",
            "Epoch 7/150\n",
            "372/372 [==============================] - 0s 1ms/step - loss: 0.7666 - accuracy: 0.6463\n",
            "Epoch 8/150\n",
            "372/372 [==============================] - 0s 1ms/step - loss: 0.7664 - accuracy: 0.6271\n",
            "Epoch 9/150\n",
            "372/372 [==============================] - 0s 1ms/step - loss: 0.7512 - accuracy: 0.6407\n",
            "Epoch 10/150\n",
            "372/372 [==============================] - 0s 1ms/step - loss: 0.7387 - accuracy: 0.6478\n",
            "Epoch 11/150\n",
            "372/372 [==============================] - 0s 1ms/step - loss: 0.7369 - accuracy: 0.6404\n",
            "Epoch 12/150\n",
            "372/372 [==============================] - 0s 1ms/step - loss: 0.7331 - accuracy: 0.6463\n",
            "Epoch 13/150\n",
            "372/372 [==============================] - 0s 1ms/step - loss: 0.7325 - accuracy: 0.6468\n",
            "Epoch 14/150\n",
            "372/372 [==============================] - 0s 1ms/step - loss: 0.7379 - accuracy: 0.6421\n",
            "Epoch 15/150\n",
            "372/372 [==============================] - 0s 1ms/step - loss: 0.7254 - accuracy: 0.6557\n",
            "Epoch 16/150\n",
            "372/372 [==============================] - 0s 1ms/step - loss: 0.7279 - accuracy: 0.6486\n",
            "Epoch 17/150\n",
            "372/372 [==============================] - 0s 1ms/step - loss: 0.7236 - accuracy: 0.6514\n",
            "Epoch 18/150\n",
            "372/372 [==============================] - 0s 1ms/step - loss: 0.7216 - accuracy: 0.6572\n",
            "Epoch 19/150\n",
            "372/372 [==============================] - 0s 1ms/step - loss: 0.7259 - accuracy: 0.6423\n",
            "Epoch 20/150\n",
            "372/372 [==============================] - 0s 1ms/step - loss: 0.7240 - accuracy: 0.6527\n",
            "Epoch 21/150\n",
            "372/372 [==============================] - 0s 1ms/step - loss: 0.7228 - accuracy: 0.6447\n",
            "Epoch 22/150\n",
            "372/372 [==============================] - 0s 1ms/step - loss: 0.7186 - accuracy: 0.6542\n",
            "Epoch 23/150\n",
            "372/372 [==============================] - 0s 1ms/step - loss: 0.7322 - accuracy: 0.6437\n",
            "Epoch 24/150\n",
            "372/372 [==============================] - 0s 1ms/step - loss: 0.7320 - accuracy: 0.6482\n",
            "Epoch 25/150\n",
            "372/372 [==============================] - 0s 1ms/step - loss: 0.7207 - accuracy: 0.6473\n",
            "Epoch 26/150\n",
            "372/372 [==============================] - 0s 1ms/step - loss: 0.7249 - accuracy: 0.6423\n",
            "Epoch 27/150\n",
            "372/372 [==============================] - 1s 1ms/step - loss: 0.7275 - accuracy: 0.6482\n",
            "Epoch 28/150\n",
            "372/372 [==============================] - 0s 1ms/step - loss: 0.7220 - accuracy: 0.6452\n",
            "Epoch 29/150\n",
            "372/372 [==============================] - 0s 1ms/step - loss: 0.7235 - accuracy: 0.6500\n",
            "Epoch 30/150\n",
            "372/372 [==============================] - 0s 1ms/step - loss: 0.7177 - accuracy: 0.6592\n",
            "Epoch 31/150\n",
            "372/372 [==============================] - 0s 1ms/step - loss: 0.7110 - accuracy: 0.6564\n",
            "Epoch 32/150\n",
            "372/372 [==============================] - 1s 1ms/step - loss: 0.7274 - accuracy: 0.6508\n",
            "Epoch 33/150\n",
            "372/372 [==============================] - 0s 1ms/step - loss: 0.7158 - accuracy: 0.6499\n",
            "Epoch 34/150\n",
            "372/372 [==============================] - 0s 1ms/step - loss: 0.7271 - accuracy: 0.6465\n",
            "Epoch 35/150\n",
            "372/372 [==============================] - 0s 1ms/step - loss: 0.7247 - accuracy: 0.6524\n",
            "Epoch 36/150\n",
            "372/372 [==============================] - 0s 1ms/step - loss: 0.7265 - accuracy: 0.6528\n",
            "Epoch 37/150\n",
            "372/372 [==============================] - 0s 1ms/step - loss: 0.7218 - accuracy: 0.6475\n",
            "Epoch 38/150\n",
            "372/372 [==============================] - 0s 1ms/step - loss: 0.7266 - accuracy: 0.6488\n",
            "Epoch 39/150\n",
            "372/372 [==============================] - 0s 1ms/step - loss: 0.7331 - accuracy: 0.6401\n",
            "Epoch 40/150\n",
            "372/372 [==============================] - 0s 1ms/step - loss: 0.7157 - accuracy: 0.6575\n",
            "Epoch 41/150\n",
            "372/372 [==============================] - 0s 1ms/step - loss: 0.7219 - accuracy: 0.6558\n",
            "Epoch 42/150\n",
            "372/372 [==============================] - 0s 1ms/step - loss: 0.7196 - accuracy: 0.6449\n",
            "Epoch 43/150\n",
            "372/372 [==============================] - 0s 1ms/step - loss: 0.7188 - accuracy: 0.6478\n",
            "Epoch 44/150\n",
            "372/372 [==============================] - 0s 1ms/step - loss: 0.7192 - accuracy: 0.6504\n",
            "Epoch 45/150\n",
            "372/372 [==============================] - 0s 1ms/step - loss: 0.7239 - accuracy: 0.6485\n",
            "Epoch 46/150\n",
            "372/372 [==============================] - 0s 1ms/step - loss: 0.7260 - accuracy: 0.6457\n",
            "Epoch 47/150\n",
            "372/372 [==============================] - 0s 1ms/step - loss: 0.7199 - accuracy: 0.6607\n",
            "Epoch 48/150\n",
            "372/372 [==============================] - 0s 1ms/step - loss: 0.7225 - accuracy: 0.6503\n",
            "Epoch 49/150\n",
            "372/372 [==============================] - 0s 1ms/step - loss: 0.7059 - accuracy: 0.6598\n",
            "Epoch 50/150\n",
            "372/372 [==============================] - 0s 1ms/step - loss: 0.7234 - accuracy: 0.6526\n",
            "Epoch 51/150\n",
            "372/372 [==============================] - 0s 1ms/step - loss: 0.7208 - accuracy: 0.6538\n",
            "Epoch 52/150\n",
            "372/372 [==============================] - 0s 1ms/step - loss: 0.7088 - accuracy: 0.6581\n",
            "Epoch 53/150\n",
            "372/372 [==============================] - 0s 1ms/step - loss: 0.7216 - accuracy: 0.6553\n",
            "Epoch 54/150\n",
            "372/372 [==============================] - 0s 1ms/step - loss: 0.7170 - accuracy: 0.6537\n",
            "Epoch 55/150\n",
            "372/372 [==============================] - 0s 1ms/step - loss: 0.7193 - accuracy: 0.6535\n",
            "Epoch 56/150\n",
            "372/372 [==============================] - 0s 1ms/step - loss: 0.7271 - accuracy: 0.6464\n",
            "Epoch 57/150\n",
            "372/372 [==============================] - 0s 1ms/step - loss: 0.7242 - accuracy: 0.6430\n",
            "Epoch 58/150\n",
            "372/372 [==============================] - 0s 1ms/step - loss: 0.7222 - accuracy: 0.6481\n",
            "Epoch 59/150\n",
            "372/372 [==============================] - 0s 1ms/step - loss: 0.7089 - accuracy: 0.6574\n",
            "Epoch 60/150\n",
            "372/372 [==============================] - 0s 1ms/step - loss: 0.7216 - accuracy: 0.6454\n",
            "Epoch 61/150\n",
            "372/372 [==============================] - 0s 1ms/step - loss: 0.7178 - accuracy: 0.6592\n",
            "Epoch 62/150\n",
            "372/372 [==============================] - 0s 1ms/step - loss: 0.7214 - accuracy: 0.6498\n",
            "Epoch 63/150\n",
            "372/372 [==============================] - 0s 1ms/step - loss: 0.7142 - accuracy: 0.6539\n",
            "Epoch 64/150\n",
            "372/372 [==============================] - 0s 1ms/step - loss: 0.7269 - accuracy: 0.6437\n",
            "Epoch 65/150\n",
            "372/372 [==============================] - 0s 1ms/step - loss: 0.7035 - accuracy: 0.6572\n",
            "Epoch 66/150\n",
            "372/372 [==============================] - 0s 1ms/step - loss: 0.7184 - accuracy: 0.6508\n",
            "Epoch 67/150\n",
            "372/372 [==============================] - 0s 1ms/step - loss: 0.7139 - accuracy: 0.6534\n",
            "Epoch 68/150\n",
            "372/372 [==============================] - 0s 1ms/step - loss: 0.7157 - accuracy: 0.6511\n",
            "Epoch 69/150\n",
            "372/372 [==============================] - 0s 1ms/step - loss: 0.7130 - accuracy: 0.6501\n",
            "Epoch 70/150\n",
            "372/372 [==============================] - 0s 1ms/step - loss: 0.7104 - accuracy: 0.6590\n",
            "Epoch 71/150\n",
            "372/372 [==============================] - 0s 1ms/step - loss: 0.7139 - accuracy: 0.6541\n",
            "Epoch 72/150\n",
            "372/372 [==============================] - 0s 1ms/step - loss: 0.7216 - accuracy: 0.6509\n",
            "Epoch 73/150\n",
            "372/372 [==============================] - 0s 1ms/step - loss: 0.7100 - accuracy: 0.6550\n",
            "Epoch 74/150\n",
            "372/372 [==============================] - 0s 1ms/step - loss: 0.7133 - accuracy: 0.6486\n",
            "Epoch 75/150\n",
            "372/372 [==============================] - 0s 1ms/step - loss: 0.7182 - accuracy: 0.6505\n",
            "Epoch 76/150\n",
            "372/372 [==============================] - 0s 1ms/step - loss: 0.7165 - accuracy: 0.6513\n",
            "Epoch 77/150\n",
            "372/372 [==============================] - 0s 1ms/step - loss: 0.7156 - accuracy: 0.6568\n",
            "Epoch 78/150\n",
            "372/372 [==============================] - 0s 1ms/step - loss: 0.7266 - accuracy: 0.6472\n",
            "Epoch 79/150\n",
            "372/372 [==============================] - 0s 1ms/step - loss: 0.7116 - accuracy: 0.6603\n",
            "Epoch 80/150\n",
            "372/372 [==============================] - 0s 1ms/step - loss: 0.7185 - accuracy: 0.6502\n",
            "Epoch 81/150\n",
            "372/372 [==============================] - 0s 1ms/step - loss: 0.7180 - accuracy: 0.6497\n",
            "Epoch 82/150\n",
            "372/372 [==============================] - 0s 1ms/step - loss: 0.7149 - accuracy: 0.6529\n",
            "Epoch 83/150\n",
            "372/372 [==============================] - 0s 1ms/step - loss: 0.7182 - accuracy: 0.6521\n",
            "Epoch 84/150\n",
            "372/372 [==============================] - 1s 1ms/step - loss: 0.7177 - accuracy: 0.6492\n",
            "Epoch 85/150\n",
            "372/372 [==============================] - 0s 1ms/step - loss: 0.7081 - accuracy: 0.6571\n",
            "Epoch 86/150\n",
            "372/372 [==============================] - 0s 1ms/step - loss: 0.7223 - accuracy: 0.6483\n",
            "Epoch 87/150\n",
            "372/372 [==============================] - 0s 1ms/step - loss: 0.7124 - accuracy: 0.6570\n",
            "Epoch 88/150\n",
            "372/372 [==============================] - 0s 1ms/step - loss: 0.7085 - accuracy: 0.6574\n",
            "Epoch 89/150\n",
            "372/372 [==============================] - 0s 1ms/step - loss: 0.7201 - accuracy: 0.6508\n",
            "Epoch 90/150\n",
            "372/372 [==============================] - 0s 1ms/step - loss: 0.7120 - accuracy: 0.6588\n",
            "Epoch 91/150\n",
            "372/372 [==============================] - 0s 1ms/step - loss: 0.7236 - accuracy: 0.6420\n",
            "Epoch 92/150\n",
            "372/372 [==============================] - 0s 1ms/step - loss: 0.7148 - accuracy: 0.6506\n",
            "Epoch 93/150\n",
            "372/372 [==============================] - 0s 1ms/step - loss: 0.7167 - accuracy: 0.6501\n",
            "Epoch 94/150\n",
            "372/372 [==============================] - 0s 1ms/step - loss: 0.7165 - accuracy: 0.6517\n",
            "Epoch 95/150\n",
            "372/372 [==============================] - 0s 1ms/step - loss: 0.7130 - accuracy: 0.6517\n",
            "Epoch 96/150\n",
            "372/372 [==============================] - 0s 1ms/step - loss: 0.7121 - accuracy: 0.6583\n",
            "Epoch 97/150\n",
            "372/372 [==============================] - 0s 1ms/step - loss: 0.7197 - accuracy: 0.6433\n",
            "Epoch 98/150\n",
            "372/372 [==============================] - 0s 1ms/step - loss: 0.7214 - accuracy: 0.6413\n",
            "Epoch 99/150\n",
            "372/372 [==============================] - 1s 1ms/step - loss: 0.7180 - accuracy: 0.6524\n",
            "Epoch 100/150\n",
            "372/372 [==============================] - 0s 1ms/step - loss: 0.7163 - accuracy: 0.6488\n",
            "Epoch 101/150\n",
            "372/372 [==============================] - 0s 1ms/step - loss: 0.7145 - accuracy: 0.6536\n",
            "Epoch 102/150\n",
            "372/372 [==============================] - 0s 1ms/step - loss: 0.7208 - accuracy: 0.6523\n",
            "Epoch 103/150\n",
            "372/372 [==============================] - 0s 1ms/step - loss: 0.7169 - accuracy: 0.6537\n",
            "Epoch 104/150\n",
            "372/372 [==============================] - 0s 1ms/step - loss: 0.7166 - accuracy: 0.6515\n",
            "Epoch 105/150\n",
            "372/372 [==============================] - 0s 1ms/step - loss: 0.7140 - accuracy: 0.6655\n",
            "Epoch 106/150\n",
            "372/372 [==============================] - 0s 1ms/step - loss: 0.7256 - accuracy: 0.6516\n",
            "Epoch 107/150\n",
            "372/372 [==============================] - 0s 1ms/step - loss: 0.7081 - accuracy: 0.6635\n",
            "Epoch 108/150\n",
            "372/372 [==============================] - 0s 1ms/step - loss: 0.7134 - accuracy: 0.6619\n",
            "Epoch 109/150\n",
            "372/372 [==============================] - 0s 1ms/step - loss: 0.7217 - accuracy: 0.6483\n",
            "Epoch 110/150\n",
            "372/372 [==============================] - 0s 1ms/step - loss: 0.7238 - accuracy: 0.6505\n",
            "Epoch 111/150\n",
            "372/372 [==============================] - 0s 1ms/step - loss: 0.7260 - accuracy: 0.6459\n",
            "Epoch 112/150\n",
            "372/372 [==============================] - 0s 1ms/step - loss: 0.7233 - accuracy: 0.6541\n",
            "Epoch 113/150\n",
            "372/372 [==============================] - 0s 1ms/step - loss: 0.7134 - accuracy: 0.6515\n",
            "Epoch 114/150\n",
            "372/372 [==============================] - 0s 1ms/step - loss: 0.7170 - accuracy: 0.6518\n",
            "Epoch 115/150\n",
            "372/372 [==============================] - 0s 1ms/step - loss: 0.7152 - accuracy: 0.6510\n",
            "Epoch 116/150\n",
            "372/372 [==============================] - 0s 1ms/step - loss: 0.7125 - accuracy: 0.6624\n",
            "Epoch 117/150\n",
            "372/372 [==============================] - 0s 1ms/step - loss: 0.7148 - accuracy: 0.6570\n",
            "Epoch 118/150\n",
            "372/372 [==============================] - 0s 1ms/step - loss: 0.7169 - accuracy: 0.6472\n",
            "Epoch 119/150\n",
            "372/372 [==============================] - 0s 1ms/step - loss: 0.7154 - accuracy: 0.6549\n",
            "Epoch 120/150\n",
            "372/372 [==============================] - 0s 1ms/step - loss: 0.7118 - accuracy: 0.6601\n",
            "Epoch 121/150\n",
            "372/372 [==============================] - 0s 1ms/step - loss: 0.7068 - accuracy: 0.6576\n",
            "Epoch 122/150\n",
            "372/372 [==============================] - 0s 1ms/step - loss: 0.7120 - accuracy: 0.6560\n",
            "Epoch 123/150\n",
            "372/372 [==============================] - 0s 1ms/step - loss: 0.7054 - accuracy: 0.6558\n",
            "Epoch 124/150\n",
            "372/372 [==============================] - 0s 1ms/step - loss: 0.7168 - accuracy: 0.6558\n",
            "Epoch 125/150\n",
            "372/372 [==============================] - 0s 1ms/step - loss: 0.7085 - accuracy: 0.6534\n",
            "Epoch 126/150\n",
            "372/372 [==============================] - 0s 1ms/step - loss: 0.7194 - accuracy: 0.6501\n",
            "Epoch 127/150\n",
            "372/372 [==============================] - 0s 1ms/step - loss: 0.7103 - accuracy: 0.6566\n",
            "Epoch 128/150\n",
            "372/372 [==============================] - 0s 1ms/step - loss: 0.7066 - accuracy: 0.6525\n",
            "Epoch 129/150\n",
            "372/372 [==============================] - 0s 1ms/step - loss: 0.7084 - accuracy: 0.6666\n",
            "Epoch 130/150\n",
            "372/372 [==============================] - 0s 1ms/step - loss: 0.7047 - accuracy: 0.6598\n",
            "Epoch 131/150\n",
            "372/372 [==============================] - 0s 1ms/step - loss: 0.7150 - accuracy: 0.6569\n",
            "Epoch 132/150\n",
            "372/372 [==============================] - 0s 1ms/step - loss: 0.7131 - accuracy: 0.6497\n",
            "Epoch 133/150\n",
            "372/372 [==============================] - 1s 1ms/step - loss: 0.7192 - accuracy: 0.6522\n",
            "Epoch 134/150\n",
            "372/372 [==============================] - 1s 1ms/step - loss: 0.7124 - accuracy: 0.6633\n",
            "Epoch 135/150\n",
            "372/372 [==============================] - 0s 1ms/step - loss: 0.7076 - accuracy: 0.6581\n",
            "Epoch 136/150\n",
            "372/372 [==============================] - 0s 1ms/step - loss: 0.7088 - accuracy: 0.6618\n",
            "Epoch 137/150\n",
            "372/372 [==============================] - 0s 1ms/step - loss: 0.7112 - accuracy: 0.6605\n",
            "Epoch 138/150\n",
            "372/372 [==============================] - 0s 1ms/step - loss: 0.7170 - accuracy: 0.6635\n",
            "Epoch 139/150\n",
            "372/372 [==============================] - 0s 1ms/step - loss: 0.7147 - accuracy: 0.6548\n",
            "Epoch 140/150\n",
            "372/372 [==============================] - 0s 1ms/step - loss: 0.7177 - accuracy: 0.6476\n",
            "Epoch 141/150\n",
            "372/372 [==============================] - 0s 1ms/step - loss: 0.7208 - accuracy: 0.6570\n",
            "Epoch 142/150\n",
            "372/372 [==============================] - 0s 1ms/step - loss: 0.7110 - accuracy: 0.6541\n",
            "Epoch 143/150\n",
            "372/372 [==============================] - 0s 1ms/step - loss: 0.7166 - accuracy: 0.6499\n",
            "Epoch 144/150\n",
            "372/372 [==============================] - 0s 1ms/step - loss: 0.7120 - accuracy: 0.6638\n",
            "Epoch 145/150\n",
            "372/372 [==============================] - 1s 1ms/step - loss: 0.7146 - accuracy: 0.6529\n",
            "Epoch 146/150\n",
            "372/372 [==============================] - 0s 1ms/step - loss: 0.7246 - accuracy: 0.6501\n",
            "Epoch 147/150\n",
            "372/372 [==============================] - 0s 1ms/step - loss: 0.7223 - accuracy: 0.6538\n",
            "Epoch 148/150\n",
            "372/372 [==============================] - 0s 1ms/step - loss: 0.7113 - accuracy: 0.6559\n",
            "Epoch 149/150\n",
            "372/372 [==============================] - 0s 1ms/step - loss: 0.7018 - accuracy: 0.6596\n",
            "Epoch 150/150\n",
            "372/372 [==============================] - 0s 1ms/step - loss: 0.7231 - accuracy: 0.6473\n"
          ],
          "name": "stdout"
        }
      ]
    },
    {
      "cell_type": "code",
      "metadata": {
        "id": "piGPfSryss--"
      },
      "source": [
        "print(f'Best Accuracy for {grid_result.best_score_:.4} using {grid_result.best_params_}')\n",
        "means = grid_result.cv_results_['mean_test_score']\n",
        "stds = grid_result.cv_results_['std_test_score']\n",
        "params = grid_result.cv_results_['params']\n",
        "for mean, stdev, param in zip(means, stds, params):\n",
        "    print(f'mean={mean:.4}, std={stdev:.4} using {param}')"
      ],
      "execution_count": null,
      "outputs": []
    },
    {
      "cell_type": "code",
      "metadata": {
        "id": "jxG0z1K_6RYm"
      },
      "source": [
        ""
      ],
      "execution_count": null,
      "outputs": []
    },
    {
      "cell_type": "markdown",
      "metadata": {
        "id": "tCLO_-wbDs_P"
      },
      "source": [
        "## Using Keras Classifier"
      ]
    },
    {
      "cell_type": "markdown",
      "metadata": {
        "id": "1ArPqM2rNPbc"
      },
      "source": [
        "For different initialization function"
      ]
    },
    {
      "cell_type": "code",
      "metadata": {
        "id": "SeOZfjarDs_Q"
      },
      "source": [
        "# https://towardsdatascience.com/simple-guide-to-hyperparameter-tuning-in-neural-networks-3fe03dad8594\n",
        "\n",
        "def create_model(init_mode='he_normal'):\n",
        "    # define model\n",
        "    model = Sequential()\n",
        "    model.add(Dense(3, kernel_initializer=init_mode, activation='relu', input_dim=9)) \n",
        "    model.add(Dense(3, kernel_initializer=init_mode, activation='relu'))\n",
        "    model.add(Dense(3, kernel_initializer=init_mode, activation='softmax'))\n",
        "    # compile model\n",
        "    model.compile(loss='sparse_categorical_crossentropy',\n",
        "              optimizer='adam',\n",
        "              metrics=['accuracy'])\n",
        "    return model"
      ],
      "execution_count": null,
      "outputs": []
    },
    {
      "cell_type": "code",
      "metadata": {
        "id": "0r14KnfADs_Q"
      },
      "source": [
        "import keras\n",
        "from sklearn.model_selection import GridSearchCV\n",
        "seed = 7\n",
        "np.random.seed(seed)\n",
        "batch_size = 16\n",
        "epochs = 150\n",
        "\n",
        "model_CV = keras.wrappers.scikit_learn.KerasClassifier(build_fn=create_model, epochs=epochs, \n",
        "                           batch_size=batch_size, verbose=0)\n",
        "# define the grid search parameters\n",
        "init_mode = ['uniform', 'lecun_uniform', 'normal', 'zero', \n",
        "             'glorot_normal', 'glorot_uniform', 'he_normal', 'he_uniform']\n",
        "\n",
        "param_grid = dict(init_mode=init_mode)\n",
        "grid = GridSearchCV(estimator=model_CV, param_grid=param_grid, n_jobs=-1, cv=3)\n",
        "grid_result = grid.fit(X_train_z, y_train_z)"
      ],
      "execution_count": null,
      "outputs": []
    },
    {
      "cell_type": "code",
      "metadata": {
        "colab": {
          "base_uri": "https://localhost:8080/"
        },
        "id": "ZR62rr-ADs_Q",
        "outputId": "f27207f0-53b9-449d-fc64-cd9d7b9257d5"
      },
      "source": [
        "# print results\n",
        "print(f'Best Accuracy for {grid_result.best_score_} using {grid_result.best_params_}')\n",
        "means = grid_result.cv_results_['mean_test_score']\n",
        "stds = grid_result.cv_results_['std_test_score']\n",
        "params = grid_result.cv_results_['params']\n",
        "for mean, stdev, param in zip(means, stds, params):\n",
        "    print(f' mean={mean:.4}, std={stdev:.4} using {param}')"
      ],
      "execution_count": null,
      "outputs": [
        {
          "output_type": "stream",
          "text": [
            "Best Accuracy for 0.6509929100672404 using {'init_mode': 'uniform'}\n",
            " mean=0.651, std=0.009194 using {'init_mode': 'uniform'}\n",
            " mean=0.634, std=0.02366 using {'init_mode': 'lecun_uniform'}\n",
            " mean=0.6139, std=0.01649 using {'init_mode': 'normal'}\n",
            " mean=0.3366, std=0.004407 using {'init_mode': 'zero'}\n",
            " mean=0.5422, std=0.1463 using {'init_mode': 'glorot_normal'}\n",
            " mean=0.6419, std=0.02109 using {'init_mode': 'glorot_uniform'}\n",
            " mean=0.6466, std=0.01077 using {'init_mode': 'he_normal'}\n",
            " mean=0.6477, std=0.009995 using {'init_mode': 'he_uniform'}\n"
          ],
          "name": "stdout"
        }
      ]
    }
  ]
}